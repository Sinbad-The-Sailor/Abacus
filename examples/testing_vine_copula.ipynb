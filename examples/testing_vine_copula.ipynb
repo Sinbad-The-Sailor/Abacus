{
 "cells": [
  {
   "cell_type": "code",
   "execution_count": 1,
   "metadata": {
    "pycharm": {
     "name": "#%%\n"
    }
   },
   "outputs": [],
   "source": [
    "import pandas as pd\n",
    "import numpy as np\n",
    "\n",
    "data1 = pd.read_csv('../database/pseudo_observations/vas.txt')\n",
    "data1 = np.array(data1.iloc[::2, :])\n",
    "data1 = np.array([float(i[0]) for i in data1])\n",
    "\n",
    "data2 = pd.read_csv('../database/pseudo_observations/LQD.txt')\n",
    "data2 = np.array(data2.iloc[::2, :])\n",
    "data2 = np.array([float(i[0]) for i in data2])\n",
    "\n",
    "data3 = pd.read_csv('../database/pseudo_observations/HYG.txt')\n",
    "data3 = np.array(data3.iloc[::2, :])\n",
    "data3 = np.array([float(i[0]) for i in data3])\n",
    "\n",
    "data4 = pd.read_csv('../database/pseudo_observations/IEAC.txt')\n",
    "data4 = np.array(data4.iloc[::2, :])\n",
    "data4 = np.array([float(i[0]) for i in data4])\n",
    "\n",
    "data5 = pd.read_csv('../database/pseudo_observations/IVV.txt')\n",
    "data5 = np.array(data5.iloc[::2, :])\n",
    "data5 = np.array([float(i[0]) for i in data5])\n",
    "\n",
    "data6 = pd.read_csv('../database/pseudo_observations/GLD.txt')\n",
    "data6 = np.array(data6.iloc[::2, :])\n",
    "data6 = np.array([float(i[0]) for i in data6])\n",
    "\n",
    "data7 = pd.read_csv('../database/pseudo_observations/1321.txt')\n",
    "data7 = np.array(data7.iloc[::2, :])\n",
    "data7 = np.array([float(i[0]) for i in data7])\n",
    "\n",
    "data8 = pd.read_csv('../database/pseudo_observations/AUD.txt')\n",
    "data8 = np.array(data8.iloc[::2, :])\n",
    "data8 = np.array([float(i[0]) for i in data8])\n",
    "\n",
    "data9 = pd.read_csv('../database/pseudo_observations/EUR.txt')\n",
    "data9 = np.array(data9.iloc[::2, :])\n",
    "data9 = np.array([float(i[0]) for i in data9])\n",
    "\n",
    "data10 = pd.read_csv('../database/pseudo_observations/IEAC.txt')\n",
    "data10 = np.array(data10.iloc[::2, :])\n",
    "data10 = np.array([float(i[0]) for i in data10])"
   ]
  },
  {
   "cell_type": "code",
   "execution_count": 2,
   "metadata": {
    "pycharm": {
     "name": "#%%\n"
    }
   },
   "outputs": [
    {
     "name": "stdout",
     "output_type": "stream",
     "text": [
      "[[1.85181711e-01 2.45170292e-01 1.68949217e-01 2.48264627e-01\n",
      "  5.21885983e-02 7.73637423e-02 2.08304322e-01 9.88762712e-01\n",
      "  6.49299927e-02 2.50760661e-01]\n",
      " [5.94161704e-02 1.42426460e-03 2.39007230e-03 6.86485670e-04\n",
      "  7.85174009e-02 1.15322599e-01 1.48781728e-02 9.79328914e-01\n",
      "  3.05145638e-03 7.14679169e-04]\n",
      " [1.81848018e-01 2.90483108e-01 2.31569492e-01 2.01678441e-01\n",
      "  2.13964089e-01 3.03082979e-01 3.30023538e-01 8.42805440e-01\n",
      "  3.70281897e-01 2.00636029e-01]\n",
      " [1.16282774e-01 2.47596745e-02 1.82492813e-01 1.02137048e-01\n",
      "  3.95329898e-01 2.84684607e-01 1.86971474e-01 3.95899691e-01\n",
      "  2.09085966e-01 9.97185625e-02]\n",
      " [2.75984914e-01 2.04677631e-01 2.15399638e-01 1.91509311e-01\n",
      "  2.06587232e-01 3.94315748e-01 2.44320919e-01 3.98268792e-01\n",
      "  1.72831034e-01 1.92588564e-01]\n",
      " [7.38398450e-01 9.10742792e-01 8.43714215e-01 9.24338261e-01\n",
      "  8.08618641e-01 7.07943117e-01 9.12354947e-01 5.19320899e-02\n",
      "  7.70036908e-01 9.25134765e-01]\n",
      " [8.14774199e-01 7.05708992e-01 8.11083603e-01 7.27036982e-01\n",
      "  8.50262043e-01 7.09045243e-01 6.57030549e-01 7.07362927e-01\n",
      "  7.68205242e-01 7.28622867e-01]\n",
      " [3.57430970e-01 5.83986117e-01 5.37708423e-01 6.29587583e-01\n",
      "  4.17956001e-01 8.59339159e-01 2.94637184e-01 2.75790705e-01\n",
      "  5.16092784e-01 6.33610590e-01]\n",
      " [1.33404258e-01 9.71790970e-02 1.77495480e-01 2.50970524e-01\n",
      "  2.22899720e-01 2.45351125e-01 2.76357832e-01 8.56543485e-01\n",
      "  6.81582972e-01 2.44830513e-01]\n",
      " [5.89762200e-01 2.82197074e-01 2.47087255e-01 2.28549330e-01\n",
      "  3.98697576e-01 4.71857113e-01 5.80289873e-01 8.59303889e-01\n",
      "  2.78077508e-01 2.37531329e-01]\n",
      " [4.87216984e-01 1.97131438e-01 2.77735542e-01 1.84711218e-01\n",
      "  3.77264877e-01 5.72907864e-01 5.17071016e-01 6.03455893e-01\n",
      "  1.72653490e-01 1.80512905e-01]\n",
      " [5.93742161e-01 5.87721135e-01 5.81047182e-01 4.99287298e-01\n",
      "  5.85412565e-01 4.26103652e-01 9.41094575e-01 9.15262442e-01\n",
      "  3.88690835e-01 5.04237003e-01]\n",
      " [6.22878132e-01 3.69319404e-01 3.92105447e-01 4.96989829e-01\n",
      "  5.31231797e-01 2.59270464e-01 4.68826984e-01 8.88062545e-01\n",
      "  3.75869942e-01 5.06019013e-01]\n",
      " [3.02037633e-01 2.89883151e-01 3.55172336e-01 2.77347073e-01\n",
      "  6.14435807e-01 1.51236911e-01 1.82182328e-01 1.30859302e-01\n",
      "  2.17213702e-01 2.75108375e-01]\n",
      " [7.20825266e-01 6.38226671e-01 5.58736841e-01 4.76927965e-01\n",
      "  5.74577136e-01 7.97915810e-01 8.52746000e-01 6.24258401e-01\n",
      "  5.31885043e-01 4.82841851e-01]\n",
      " [7.53059215e-01 6.60792564e-01 7.04101098e-01 6.43154181e-01\n",
      "  6.01530986e-01 3.68675528e-01 6.99331573e-01 6.85464688e-01\n",
      "  5.27308483e-01 6.52160003e-01]\n",
      " [6.30535878e-01 4.78759835e-01 6.16354760e-01 4.88873832e-01\n",
      "  7.47490224e-01 2.71686844e-01 7.96944539e-01 3.31869985e-01\n",
      "  4.33316795e-01 4.94496107e-01]\n",
      " [8.39053312e-01 3.70376731e-01 5.14782868e-01 4.00517193e-01\n",
      "  6.97600684e-01 3.15562373e-01 8.56371248e-01 8.33562782e-01\n",
      "  5.22106967e-01 4.12115452e-01]\n",
      " [5.58418829e-01 8.04542324e-01 8.23471190e-01 7.71088507e-01\n",
      "  8.30601690e-01 9.09276313e-01 6.46446155e-01 8.48495644e-02\n",
      "  6.63607230e-01 7.72250139e-01]\n",
      " [9.62653806e-01 9.89631725e-01 9.70364426e-01 9.83592509e-01\n",
      "  9.39250506e-01 9.77586695e-01 9.75974481e-01 4.43010461e-02\n",
      "  9.83557081e-01 9.83089013e-01]\n",
      " [6.02710052e-01 8.09172175e-01 6.95157491e-01 7.40933312e-01\n",
      "  5.93979798e-01 9.49051735e-01 5.94924166e-01 1.10038444e-01\n",
      "  9.15490324e-01 7.43476387e-01]\n",
      " [1.65870805e-01 7.81181714e-02 3.26822598e-02 2.14085553e-02\n",
      "  2.27986917e-02 4.93068109e-02 2.51356146e-01 2.66080722e-01\n",
      "  1.70795395e-01 2.18599053e-02]\n",
      " [9.68927725e-01 9.70869694e-01 9.61583858e-01 9.45128062e-01\n",
      "  9.70777046e-01 9.74643470e-01 7.84341897e-01 1.41437401e-01\n",
      "  9.69289955e-01 9.43997386e-01]\n",
      " [1.46892830e-01 3.45673199e-01 2.39185530e-01 3.30483216e-01\n",
      "  1.58834607e-01 3.44461889e-01 1.99055234e-01 4.16925329e-01\n",
      "  4.38134526e-01 3.26884987e-01]\n",
      " [9.97641036e-01 9.93817451e-01 9.97209154e-01 9.96281382e-01\n",
      "  9.98920544e-01 8.95480573e-01 9.98408257e-01 4.07710506e-03\n",
      "  9.88859701e-01 9.96673266e-01]\n",
      " [1.38935860e-01 1.82508505e-01 1.40171024e-01 2.12081308e-01\n",
      "  1.74489382e-01 5.31297353e-01 2.88137722e-01 9.54100598e-01\n",
      "  2.09070606e-01 2.15200349e-01]\n",
      " [4.97408594e-01 6.62760326e-01 5.58113789e-01 5.78507823e-01\n",
      "  5.57122365e-01 3.14739134e-01 3.57915233e-01 6.55572822e-01\n",
      "  5.73855485e-01 5.78368891e-01]\n",
      " [7.22185123e-01 8.09984357e-01 7.92235970e-01 8.44215306e-01\n",
      "  6.36133440e-01 6.65445118e-01 3.46604797e-01 1.15837454e-01\n",
      "  7.20179954e-01 8.50300145e-01]\n",
      " [1.61392646e-01 2.31033490e-01 2.88870280e-01 3.40734037e-01\n",
      "  1.74370343e-01 4.91209066e-01 1.65683983e-01 9.39803094e-01\n",
      "  1.70110326e-01 3.38469971e-01]\n",
      " [3.06477965e-02 1.54888283e-01 1.13481182e-01 1.17233192e-01\n",
      "  7.01809274e-02 3.19867669e-01 4.47887981e-02 8.93401839e-01\n",
      "  2.01918056e-01 1.13160221e-01]\n",
      " [9.26953923e-01 8.98386495e-01 8.92216120e-01 9.04301664e-01\n",
      "  8.27790998e-01 7.45868354e-01 9.52375393e-01 5.65118674e-01\n",
      "  8.89650113e-01 9.01839386e-01]\n",
      " [9.75563936e-01 9.92487379e-01 9.92531914e-01 9.91639064e-01\n",
      "  9.80609520e-01 9.95474676e-01 4.91782183e-01 6.61106959e-02\n",
      "  9.88304560e-01 9.90986053e-01]\n",
      " [7.04207250e-01 6.04957056e-01 6.93398999e-01 6.38130837e-01\n",
      "  6.67918329e-01 6.29890102e-01 9.15294508e-01 3.66353523e-01\n",
      "  7.70073197e-01 6.30253717e-01]\n",
      " [6.00221455e-01 7.20427907e-01 7.39384022e-01 7.38693441e-01\n",
      "  6.62908585e-01 5.74402154e-01 7.03525017e-01 4.37228387e-01\n",
      "  5.33041605e-01 7.42224521e-01]\n",
      " [6.62716689e-01 8.45093032e-01 7.48303812e-01 8.23268618e-01\n",
      "  4.70731749e-01 8.65867816e-01 3.63045290e-01 1.34673330e-01\n",
      "  7.95572653e-01 8.29964800e-01]\n",
      " [4.18771987e-01 3.36611348e-01 2.75917178e-01 2.46936474e-01\n",
      "  3.36430107e-01 1.69078360e-01 5.54770572e-01 9.86032805e-01\n",
      "  2.38001338e-01 2.56433647e-01]\n",
      " [9.41333046e-01 9.44210113e-01 9.52540623e-01 9.55440768e-01\n",
      "  9.28597091e-01 8.78357815e-01 7.22135945e-01 1.47785629e-02\n",
      "  9.66698738e-01 9.55156692e-01]\n",
      " [4.97028221e-01 7.70490708e-01 7.10297236e-01 6.56854631e-01\n",
      "  7.52548872e-01 8.43286971e-01 3.32584145e-01 5.37492051e-01\n",
      "  7.15871033e-01 6.55865430e-01]\n",
      " [8.65837452e-01 6.96078554e-01 7.75799305e-01 7.44096067e-01\n",
      "  8.40697856e-01 7.26301370e-01 9.54830206e-01 5.10859709e-01\n",
      "  8.55251782e-01 7.43412209e-01]\n",
      " [1.52681983e-01 2.12036318e-01 2.37911717e-01 2.58930939e-01\n",
      "  1.51583806e-01 2.26364504e-01 1.81746523e-01 8.84403910e-01\n",
      "  4.47597534e-01 2.62741443e-01]\n",
      " [2.45224305e-01 1.40273459e-01 2.07869331e-01 2.24510932e-01\n",
      "  3.44409003e-01 5.93527352e-01 1.14493271e-01 7.06164195e-01\n",
      "  2.33623956e-01 2.28832062e-01]\n",
      " [5.22106645e-01 3.10841033e-01 1.40476211e-01 2.68875476e-01\n",
      "  1.36565979e-01 3.62845407e-01 5.01645796e-01 7.36887981e-01\n",
      "  1.72554473e-01 2.64150893e-01]\n",
      " [8.29948097e-01 6.92082757e-01 7.16673910e-01 5.54702910e-01\n",
      "  7.84675818e-01 4.68073166e-01 3.63441557e-01 8.49624816e-01\n",
      "  1.46547024e-01 5.67504544e-01]\n",
      " [5.56233271e-01 3.17795974e-01 2.76239480e-01 4.09788956e-01\n",
      "  2.08355679e-01 3.81451039e-01 6.50280977e-01 2.41378861e-01\n",
      "  3.14279463e-01 4.05623153e-01]\n",
      " [3.49378021e-01 2.67485376e-01 3.02548420e-01 1.33769276e-01\n",
      "  3.57479234e-01 2.68272482e-01 4.42608343e-01 5.39924009e-01\n",
      "  2.49878308e-01 1.34610560e-01]\n",
      " [7.66411184e-01 8.14698873e-01 8.04656172e-01 8.00291741e-01\n",
      "  8.00942872e-01 1.67313963e-01 6.29138509e-01 3.48827167e-01\n",
      "  6.18494244e-01 8.01741893e-01]\n",
      " [9.59844466e-01 8.47410718e-01 9.17406851e-01 8.41599525e-01\n",
      "  9.45757200e-01 6.18644305e-01 9.91867159e-01 1.06135588e-01\n",
      "  8.19694136e-01 8.41489825e-01]\n",
      " [4.63613970e-01 3.15345182e-01 3.41174024e-01 3.95235107e-01\n",
      "  5.55561391e-01 2.08208232e-01 4.18336569e-01 3.25593832e-01\n",
      "  4.13616251e-01 3.84657845e-01]\n",
      " [5.42295790e-01 7.93070048e-01 6.80509196e-01 7.93942818e-01\n",
      "  4.06822875e-01 7.17520419e-01 5.19329573e-01 3.88748451e-02\n",
      "  8.40767511e-01 7.82918159e-01]\n",
      " [4.42187163e-01 1.27639834e-01 2.95529567e-01 1.86846653e-01\n",
      "  4.13151084e-01 3.38821016e-01 1.81035758e-01 7.92600790e-01\n",
      "  3.18535155e-01 1.82139189e-01]\n",
      " [2.33898735e-01 5.64737965e-01 4.26407642e-01 5.65110410e-01\n",
      "  3.85350674e-01 5.57876748e-01 1.18618493e-01 5.66373285e-01\n",
      "  7.48652450e-01 5.55083662e-01]\n",
      " [8.69491511e-01 5.76217150e-01 6.96721696e-01 6.92733404e-01\n",
      "  7.18906025e-01 7.29672596e-01 8.06245204e-01 3.70250618e-01\n",
      "  7.38936294e-01 6.84454974e-01]\n",
      " [4.82319284e-01 3.80309003e-01 5.62401670e-01 4.35365350e-01\n",
      "  6.17725950e-01 3.61102637e-01 4.59933747e-01 7.15537586e-01\n",
      "  6.74151583e-01 4.33409371e-01]\n",
      " [9.16463078e-01 9.58593496e-01 9.31462663e-01 9.55682544e-01\n",
      "  8.28677913e-01 9.12213047e-01 9.38462679e-01 5.81774439e-03\n",
      "  9.45883353e-01 9.53644089e-01]\n",
      " [7.86690952e-01 8.65503006e-01 8.56786680e-01 8.68480604e-01\n",
      "  7.49518211e-01 7.82590914e-01 5.11794911e-01 1.46661807e-01\n",
      "  8.66774385e-01 8.67848316e-01]\n",
      " [7.88918978e-01 8.15114176e-01 7.49660644e-01 8.64855029e-01\n",
      "  8.42898785e-01 6.54129569e-01 8.36529227e-01 7.48830750e-01\n",
      "  7.79896849e-01 8.68696403e-01]\n",
      " [9.07126956e-01 9.31900456e-01 9.56159813e-01 9.39203598e-01\n",
      "  9.48050664e-01 6.71213907e-01 8.85580764e-01 1.90227650e-02\n",
      "  9.43382618e-01 9.38233829e-01]\n",
      " [5.19719226e-01 5.27512414e-01 2.29614040e-01 3.73815315e-01\n",
      "  2.15058224e-01 5.53532409e-01 5.95564720e-01 8.74902390e-01\n",
      "  2.82030600e-01 3.78099851e-01]\n",
      " [3.08537975e-01 1.94508810e-01 1.48377265e-01 1.63677263e-01\n",
      "  1.76924972e-01 1.79379825e-01 5.17341942e-01 3.74393341e-01\n",
      "  3.23957068e-01 1.65293947e-01]\n",
      " [4.96260826e-01 8.45224204e-01 8.59291080e-01 8.17652235e-01\n",
      "  9.37351993e-01 8.64497900e-01 8.87697940e-01 2.37429583e-01\n",
      "  8.44231705e-01 8.19243384e-01]\n",
      " [1.01649091e-01 3.82897453e-01 3.06328496e-01 5.56218245e-01\n",
      "  2.28789746e-01 8.49617759e-01 2.68985608e-02 6.76056402e-01\n",
      "  6.01007356e-01 5.45207325e-01]\n",
      " [7.59914592e-01 8.26231253e-01 8.88000028e-01 8.61815408e-01\n",
      "  9.01916003e-01 6.65336739e-01 9.69898210e-01 6.96185654e-02\n",
      "  8.38950740e-01 8.57771255e-01]\n",
      " [6.49630657e-01 7.87290116e-01 7.78194854e-01 7.34558174e-01\n",
      "  5.32303790e-01 1.93765965e-01 8.86252522e-01 2.72296017e-01\n",
      "  7.59476855e-01 7.39889492e-01]\n",
      " [2.48496023e-01 3.09578255e-01 3.62581544e-01 2.30170798e-01\n",
      "  3.16923749e-01 2.26194262e-01 6.01324554e-01 7.62851136e-01\n",
      "  2.59670288e-01 2.35637482e-01]\n",
      " [2.01689335e-01 2.26763650e-01 2.15032894e-01 3.14656167e-01\n",
      "  4.22505079e-01 6.24068901e-02 7.26242292e-02 5.54772850e-01\n",
      "  3.49046101e-01 3.06601787e-01]\n",
      " [5.87258851e-01 1.59899094e-01 3.70119725e-01 2.89985697e-01\n",
      "  7.93478926e-01 3.79047740e-01 2.56580315e-01 9.16069227e-01\n",
      "  3.39473163e-01 2.86095634e-01]\n",
      " [2.11176425e-01 4.07419312e-01 4.93266103e-01 4.36631313e-01\n",
      "  4.39688186e-01 2.97937855e-01 5.34617390e-01 9.19817459e-01\n",
      "  4.64911281e-01 4.32999378e-01]\n",
      " [4.94505987e-01 2.83751729e-01 3.34633476e-01 2.48937950e-01\n",
      "  1.35361161e-01 4.56230682e-01 2.28751204e-01 9.66037811e-01\n",
      "  6.13678360e-01 2.44103256e-01]\n",
      " [4.38689679e-01 5.34507951e-01 4.67494206e-01 4.87952013e-01\n",
      "  6.21054979e-01 7.66492618e-01 5.63019192e-01 4.95010892e-01\n",
      "  6.68984296e-01 4.90208839e-01]\n",
      " [6.71599854e-01 7.58798137e-01 7.76219305e-01 7.47223873e-01\n",
      "  5.96332450e-01 6.94028453e-01 5.05987433e-02 2.46096415e-01\n",
      "  7.82185475e-01 7.49312412e-01]\n",
      " [5.32209291e-01 3.97260675e-01 4.98541916e-01 3.12419649e-01\n",
      "  1.76938403e-01 2.65753019e-01 5.89387943e-01 6.13956305e-01\n",
      "  4.84837695e-01 3.15662084e-01]\n",
      " [9.63777021e-01 9.63618255e-01 9.49421726e-01 9.54564154e-01\n",
      "  9.00048984e-01 9.80892267e-01 8.48852082e-01 6.83490182e-02\n",
      "  9.80012076e-01 9.53182170e-01]\n",
      " [1.66435662e-01 3.07267295e-01 2.98293388e-01 3.54524259e-01\n",
      "  1.91202871e-01 3.90448430e-01 1.72745274e-01 4.52764469e-01\n",
      "  3.54916228e-01 3.60887802e-01]\n",
      " [8.22965417e-01 8.45093230e-01 8.50925937e-01 8.67248396e-01\n",
      "  8.15662056e-01 5.91101804e-01 9.68444271e-01 8.18222888e-02\n",
      "  7.96051459e-01 8.68651960e-01]\n",
      " [3.73838363e-01 6.03580770e-01 3.24047167e-01 4.29824774e-01\n",
      "  1.61686254e-01 5.43962499e-01 1.75882523e-01 1.11378252e-01\n",
      "  4.35174085e-01 4.20338539e-01]\n",
      " [7.23063930e-01 8.86575861e-01 8.19686445e-01 8.77468730e-01\n",
      "  5.92166298e-01 9.22137822e-01 8.52474319e-01 6.18052262e-01\n",
      "  7.92323125e-01 8.80227093e-01]\n",
      " [7.67626157e-01 5.46945954e-01 6.40047072e-01 4.83089611e-01\n",
      "  6.20430220e-01 5.67775664e-01 5.22223474e-01 8.50382396e-01\n",
      "  8.86770530e-01 4.84084617e-01]\n",
      " [1.40109369e-01 6.49842515e-02 8.45681510e-02 7.61211267e-02\n",
      "  2.34280081e-01 1.01476143e-01 5.60031370e-01 8.01520434e-01\n",
      "  1.13018820e-01 7.95243284e-02]\n",
      " [2.48722989e-01 6.44387427e-01 3.17979199e-01 6.12132463e-01\n",
      "  1.48140031e-01 4.34193722e-01 4.65495388e-01 4.90358969e-01\n",
      "  3.03698504e-01 6.02777321e-01]\n",
      " [3.87102781e-01 4.04882939e-01 4.26336149e-01 4.84756796e-01\n",
      "  3.11882265e-01 6.58599033e-01 3.31014345e-01 6.77275912e-01\n",
      "  5.75391491e-01 4.79804480e-01]\n",
      " [5.67374428e-01 3.10070152e-01 3.91489784e-01 2.93731649e-01\n",
      "  4.49539312e-01 2.26125742e-01 9.07875698e-01 2.17725718e-01\n",
      "  3.24878764e-01 3.00163737e-01]\n",
      " [8.31478273e-01 7.83992279e-01 8.55158769e-01 8.19192631e-01\n",
      "  9.59387045e-01 5.64953095e-01 9.42567068e-01 3.01110889e-01\n",
      "  7.92904644e-01 8.18773442e-01]\n",
      " [6.38023735e-01 8.71243253e-01 8.64443511e-01 8.72362920e-01\n",
      "  7.40601248e-01 8.80960035e-01 3.17991086e-01 1.48641966e-01\n",
      "  7.96502911e-01 8.74585855e-01]\n",
      " [9.08928911e-01 8.65942368e-01 8.30898790e-01 8.49102319e-01\n",
      "  4.83895086e-01 8.41479385e-01 5.16488282e-01 3.45041571e-01\n",
      "  8.97870681e-01 8.46433824e-01]\n",
      " [6.99299105e-01 8.48562699e-01 7.95819966e-01 8.02179323e-01\n",
      "  6.38401846e-01 7.57542179e-01 3.29228321e-01 1.80198605e-01\n",
      "  8.08638989e-01 7.97703036e-01]\n",
      " [6.66738430e-01 7.03363587e-01 7.35719879e-01 7.25926595e-01\n",
      "  7.47170547e-01 7.75165265e-01 6.70700877e-01 3.51683149e-01\n",
      "  8.51608939e-01 7.27195839e-01]\n",
      " [5.62174089e-02 1.14536600e-01 1.13205335e-01 2.13805346e-01\n",
      "  3.26601008e-02 2.00422755e-01 9.85807997e-02 9.44133274e-01\n",
      "  1.11833734e-01 2.07894052e-01]\n",
      " [2.93767431e-01 2.75865919e-01 2.57784884e-01 3.24668452e-01\n",
      "  2.44574073e-01 4.22958848e-02 3.75970056e-01 7.84515290e-01\n",
      "  3.05500152e-01 3.26634156e-01]\n",
      " [7.00031386e-01 6.44320941e-01 4.91530472e-01 4.96881172e-01\n",
      "  4.84148625e-01 6.23059604e-01 3.39546007e-01 5.93711322e-01\n",
      "  7.10488063e-01 5.03849019e-01]\n",
      " [5.85774568e-01 6.12276813e-01 5.24918586e-01 3.95346750e-01\n",
      "  4.31926280e-01 3.00574869e-01 2.81814217e-01 4.13808087e-01\n",
      "  5.45075287e-01 3.97420464e-01]\n",
      " [1.54125274e-01 4.79233670e-01 4.65548729e-01 3.45610395e-01\n",
      "  4.47037875e-01 4.25525021e-01 3.66116575e-01 8.00566817e-01\n",
      "  2.78618259e-01 3.48698187e-01]\n",
      " [4.71749479e-01 1.93891548e-01 2.40209939e-01 2.44220235e-01\n",
      "  3.63822162e-01 2.46174223e-01 6.88949360e-01 7.38970033e-01\n",
      "  3.18844383e-01 2.42255654e-01]\n",
      " [5.05380224e-01 5.30321915e-01 4.50233835e-01 6.11000711e-01\n",
      "  3.29325175e-01 3.03009540e-01 5.95715973e-01 4.64627189e-01\n",
      "  7.67694698e-01 6.08373558e-01]\n",
      " [4.66524435e-01 5.26419290e-01 5.83236181e-01 5.86519287e-01\n",
      "  8.79334021e-01 7.37566654e-01 3.57338513e-01 4.81169971e-01\n",
      "  2.28137495e-01 5.93795034e-01]\n",
      " [4.73434579e-01 3.89764537e-01 2.69389380e-01 1.89227671e-01\n",
      "  1.55982545e-01 1.73791675e-01 4.45872470e-02 7.71325220e-01\n",
      "  3.03487443e-01 1.94421372e-01]\n",
      " [9.63338612e-01 8.85404346e-01 8.99206774e-01 8.78449870e-01\n",
      "  8.58582140e-01 9.15531465e-01 8.63295816e-01 3.65222390e-02\n",
      "  9.69759706e-01 8.75374201e-01]\n",
      " [1.11054176e-01 2.83977808e-01 2.33861584e-01 2.44303638e-01\n",
      "  1.34028341e-01 1.59498271e-01 1.31177350e-01 5.67997542e-01\n",
      "  2.88060783e-01 2.45549281e-01]\n",
      " [2.91470122e-01 6.14366459e-02 1.12899008e-01 8.40671644e-02\n",
      "  4.29933951e-01 5.37868596e-02 7.23033899e-01 9.33988842e-01\n",
      "  3.56885855e-02 8.43706696e-02]\n",
      " [9.96888072e-01 9.81070338e-01 9.91702763e-01 9.84302870e-01\n",
      "  9.93947687e-01 8.80959001e-01 7.12588360e-01 1.92921331e-02\n",
      "  9.64521243e-01 9.84978365e-01]\n",
      " [7.37958802e-01 8.10912907e-01 9.08659782e-01 8.19012899e-01\n",
      "  7.36981984e-01 6.58046501e-01 6.36369274e-01 5.93339970e-01\n",
      "  8.10912606e-01 8.16070224e-01]]\n"
     ]
    }
   ],
   "source": [
    "import pyvinecopulib as pv\n",
    "controls = pv.FitControlsVinecop(family_set=[pv.BicopFamily.gaussian,\n",
    "                                             pv.BicopFamily.clayton,\n",
    "                                             pv.BicopFamily.frank,\n",
    "                                             pv.BicopFamily.gumbel,\n",
    "                                             pv.BicopFamily.bb1])\n",
    "\n",
    "u = np.stack([data1, data2, data3, data4, data5, data6, data7, data8, data9, data10]).T\n",
    "cop = pv.Vinecop(u, controls=controls)\n",
    "\n",
    "u_sim = cop.simulate(100)\n",
    "print(u_sim)"
   ]
  },
  {
   "cell_type": "code",
   "execution_count": 3,
   "outputs": [
    {
     "data": {
      "text/plain": "array([0.20830432, 0.01487817, 0.33002354, 0.18697147, 0.24432092,\n       0.91235495, 0.65703055, 0.29463718, 0.27635783, 0.58028987,\n       0.51707102, 0.94109457, 0.46882698, 0.18218233, 0.852746  ,\n       0.69933157, 0.79694454, 0.85637125, 0.64644616, 0.97597448,\n       0.59492417, 0.25135615, 0.7843419 , 0.19905523, 0.99840826,\n       0.28813772, 0.35791523, 0.3466048 , 0.16568398, 0.0447888 ,\n       0.95237539, 0.49178218, 0.91529451, 0.70352502, 0.36304529,\n       0.55477057, 0.72213595, 0.33258415, 0.95483021, 0.18174652,\n       0.11449327, 0.5016458 , 0.36344156, 0.65028098, 0.44260834,\n       0.62913851, 0.99186716, 0.41833657, 0.51932957, 0.18103576,\n       0.11861849, 0.8062452 , 0.45993375, 0.93846268, 0.51179491,\n       0.83652923, 0.88558076, 0.59556472, 0.51734194, 0.88769794,\n       0.02689856, 0.96989821, 0.88625252, 0.60132455, 0.07262423,\n       0.25658031, 0.53461739, 0.2287512 , 0.56301919, 0.05059874,\n       0.58938794, 0.84885208, 0.17274527, 0.96844427, 0.17588252,\n       0.85247432, 0.52222347, 0.56003137, 0.46549539, 0.33101435,\n       0.9078757 , 0.94256707, 0.31799109, 0.51648828, 0.32922832,\n       0.67070088, 0.0985808 , 0.37597006, 0.33954601, 0.28181422,\n       0.36611658, 0.68894936, 0.59571597, 0.35733851, 0.04458725,\n       0.86329582, 0.13117735, 0.7230339 , 0.71258836, 0.63636927])"
     },
     "execution_count": 3,
     "metadata": {},
     "output_type": "execute_result"
    }
   ],
   "source": [
    "# Asset 1\n",
    "u_sim[:,6]\n",
    "\n",
    "# Asset 2 etc..."
   ],
   "metadata": {
    "collapsed": false,
    "pycharm": {
     "name": "#%%\n"
    }
   }
  },
  {
   "cell_type": "code",
   "execution_count": 4,
   "metadata": {
    "pycharm": {
     "name": "#%%\n"
    }
   },
   "outputs": [
    {
     "data": {
      "text/plain": "<pyvinecopulib.RVineStructure>\n5 5 3 2 6 2 2 4 10 10 \n1 3 2 4 2 4 4 10 4 \n3 2 4 6 4 8 10 2 \n2 4 6 9 8 10 8 \n4 6 9 8 10 6 \n6 9 8 10 9 \n9 8 10 3 \n8 10 5 \n10 1 \n7 "
     },
     "execution_count": 4,
     "metadata": {},
     "output_type": "execute_result"
    }
   ],
   "source": [
    "cop.structure"
   ]
  },
  {
   "cell_type": "code",
   "execution_count": 5,
   "metadata": {
    "pycharm": {
     "name": "#%%\n"
    }
   },
   "outputs": [],
   "source": [
    "from database.database_parser import create_connection\n",
    "from database.database_parser import select_curr_solution\n",
    "from distributions.student_poisson_mixture import spm\n",
    "\n",
    "# Testing extracting optimal solutions\n",
    "test_connection = create_connection('../database/abacus_database.db')\n",
    "#opt_sol = select_curr_solution(test_connection, '1321')\n",
    "#opt_sol\n",
    "# Test running inverse CDF. ~ 5 seconds.\n",
    "# spm.ppf(0.5, 0, 1, 10, 0.15, 4)"
   ]
  },
  {
   "cell_type": "markdown",
   "source": [
    "Inverse Transforming with CDF inv using optimal parameters for 1321 ONLY."
   ],
   "metadata": {
    "collapsed": false,
    "pycharm": {
     "name": "#%% md\n"
    }
   }
  },
  {
   "cell_type": "markdown",
   "source": [
    "We need the next vol update, $\\sigma_{t+1}$ as a parameter in the ppf. This can be ascertained recursively with the optimal solution for each asset"
   ],
   "metadata": {
    "collapsed": false,
    "pycharm": {
     "name": "#%% md\n"
    }
   }
  },
  {
   "cell_type": "code",
   "execution_count": 6,
   "outputs": [],
   "source": [
    "from database.database_parser import select_price_data\n",
    "\n",
    "def generate_volatility(params, data):\n",
    "    n_observations = len(data)\n",
    "    initial_squared_vol_estimate = (params[0]\n",
    "                                        + params[1] * (data[0] ** 2)\n",
    "                                        + params[3] * (data[0] ** 2) * np.where(data[0] < 0, 1, 0)\n",
    "                                        + params[2] * (data[0] ** 2))\n",
    "    current_squared_vol_estimate = initial_squared_vol_estimate\n",
    "\n",
    "    for i in range(0, n_observations):\n",
    "        current_squared_vol_estimate = (params[0] + params[1] * (data[i - 1] ** 2)\n",
    "                                            + params[3] * (data[i - 1] ** 2) * np.where(data[i - 1] < 0, 1, 0)\n",
    "                                            + params[2] * current_squared_vol_estimate)\n",
    "\n",
    "    return np.sqrt(current_squared_vol_estimate)\n",
    "\n",
    "def get_volatility(asset: str):\n",
    "    opt_sol = select_curr_solution(test_connection, asset)\n",
    "    adj_close = select_price_data(test_connection, '1321')\n",
    "    log_returns = np.array(np.log(adj_close / adj_close.shift(1))[1:])\n",
    "    return generate_volatility(params=opt_sol, data=log_returns)"
   ],
   "metadata": {
    "collapsed": false,
    "pycharm": {
     "name": "#%%\n"
    }
   }
  },
  {
   "cell_type": "code",
   "execution_count": null,
   "outputs": [
    {
     "name": "stdout",
     "output_type": "stream",
     "text": [
      "-0.12439855376532087\n",
      "-0.09146664339507767\n",
      "-0.03230500699176077\n",
      "-0.03595702700226284\n",
      "-0.016281584388772367\n",
      "0.03485030900439306\n",
      "0.035070496041575895\n",
      "0.0783045678017102\n",
      "-0.04453585432181265\n",
      "-0.004111217500824432\n",
      "0.011427000154425129\n",
      "-0.011202531561700181\n",
      "-0.041360174304219566\n",
      "-0.07328155125417127\n",
      "0.05613918295919458\n",
      "-0.02052307356883202\n",
      "-0.038662567819263034\n",
      "-0.029929910976708395\n",
      "0.11046567504971015\n",
      "0.3133637906755069\n",
      "0.17340188887047167\n",
      "-0.17765207942961805\n",
      "0.29100875912385793\n",
      "-0.02468929474131905\n",
      "0.09912360910939448\n",
      "0.004974911104263849\n",
      "-0.030084298741835123\n",
      "0.02682904791180406\n",
      "-0.0011518199631590656\n",
      "-0.029127495170254734\n",
      "0.04289264062761083\n",
      "0.5691358972082241\n",
      "0.020661521950185203\n",
      "0.011662061569460659\n",
      "0.0814262302099725\n",
      "-0.06637429788492624\n"
     ]
    }
   ],
   "source": [
    "from distributions.student_poisson_mixture import spm\n",
    "# Calculate all inverse samples.\n",
    "def generate_samples(us, asset):\n",
    "    opt_sol = select_curr_solution(test_connection, asset)\n",
    "    mu = opt_sol[4]\n",
    "    sigma = get_volatility(asset)[0]\n",
    "    kappa = opt_sol[5]\n",
    "    lamb = opt_sol[6]\n",
    "    nu = opt_sol[7]\n",
    "\n",
    "    for p in us:\n",
    "        s = spm.ppf(p, mu, sigma, kappa, lamb, nu)\n",
    "        print(s.root)\n",
    "        #s = spm.ppf(p, mu, sigma, kappa, lamb, nu)\n",
    "        #samples.append(s)\n",
    "\n",
    "generate_samples(u_sim[:, 5], 'GLD')"
   ],
   "metadata": {
    "collapsed": false,
    "pycharm": {
     "name": "#%%\n",
     "is_executing": true
    }
   }
  },
  {
   "cell_type": "code",
   "execution_count": null,
   "outputs": [],
   "source": [
    "# Print the samples into a .txt file.\n",
    "def print_samples():\n",
    "    pass"
   ],
   "metadata": {
    "collapsed": false,
    "pycharm": {
     "name": "#%%\n",
     "is_executing": true
    }
   }
  },
  {
   "cell_type": "code",
   "execution_count": 9,
   "outputs": [],
   "source": [
    "# Plot the sampled returns.\n",
    "def plot_returns():\n",
    "    pass"
   ],
   "metadata": {
    "collapsed": false,
    "pycharm": {
     "name": "#%%\n"
    }
   }
  },
  {
   "cell_type": "code",
   "execution_count": 10,
   "outputs": [
    {
     "data": {
      "text/plain": "<Figure size 432x288 with 1 Axes>",
      "image/png": "[encoded data removed]"
     },
     "metadata": {
      "needs_background": "light"
     },
     "output_type": "display_data"
    }
   ],
   "source": [
    "# Plot the sampled prices.\n",
    "\n",
    "from matplotlib import pyplot as plt\n",
    "\n",
    "def plot_prices():\n",
    "    adj_close = select_price_data(test_connection, '1321')\n",
    "    plt.plot(adj_close)\n",
    "\n",
    "plot_prices()"
   ],
   "metadata": {
    "collapsed": false,
    "pycharm": {
     "name": "#%%\n"
    }
   }
  },
  {
   "cell_type": "code",
   "execution_count": 25,
   "outputs": [
    {
     "data": {
      "text/plain": "           r\n0  -0.055192\n1  -0.296774\n2  -0.027453\n3  -0.061572\n4  -0.045771\n..       ...\n95  0.084330\n96 -0.083092\n97  0.042090\n98  0.039845\n99  0.025022\n\n[100 rows x 1 columns]",
      "text/html": "<div>\n<style scoped>\n    .dataframe tbody tr th:only-of-type {\n        vertical-align: middle;\n    }\n\n    .dataframe tbody tr th {\n        vertical-align: top;\n    }\n\n    .dataframe thead th {\n        text-align: right;\n    }\n</style>\n<table border=\"1\" class=\"dataframe\">\n  <thead>\n    <tr style=\"text-align: right;\">\n      <th></th>\n      <th>r</th>\n    </tr>\n  </thead>\n  <tbody>\n    <tr>\n      <th>0</th>\n      <td>-0.055192</td>\n    </tr>\n    <tr>\n      <th>1</th>\n      <td>-0.296774</td>\n    </tr>\n    <tr>\n      <th>2</th>\n      <td>-0.027453</td>\n    </tr>\n    <tr>\n      <th>3</th>\n      <td>-0.061572</td>\n    </tr>\n    <tr>\n      <th>4</th>\n      <td>-0.045771</td>\n    </tr>\n    <tr>\n      <th>...</th>\n      <td>...</td>\n    </tr>\n    <tr>\n      <th>95</th>\n      <td>0.084330</td>\n    </tr>\n    <tr>\n      <th>96</th>\n      <td>-0.083092</td>\n    </tr>\n    <tr>\n      <th>97</th>\n      <td>0.042090</td>\n    </tr>\n    <tr>\n      <th>98</th>\n      <td>0.039845</td>\n    </tr>\n    <tr>\n      <th>99</th>\n      <td>0.025022</td>\n    </tr>\n  </tbody>\n</table>\n<p>100 rows × 1 columns</p>\n</div>"
     },
     "execution_count": 25,
     "metadata": {},
     "output_type": "execute_result"
    }
   ],
   "source": [
    "df_ret = pd.read_csv('../database/return_samples/1321.txt')\n",
    "df_ret"
   ],
   "metadata": {
    "collapsed": false,
    "pycharm": {
     "name": "#%%\n"
    }
   }
  },
  {
   "cell_type": "code",
   "execution_count": 26,
   "outputs": [
    {
     "data": {
      "text/plain": "array([[<AxesSubplot:title={'center':'r'}>]], dtype=object)"
     },
     "execution_count": 26,
     "metadata": {},
     "output_type": "execute_result"
    },
    {
     "data": {
      "text/plain": "<Figure size 432x288 with 1 Axes>",
      "image/png": "[encoded data removed]"
     },
     "metadata": {
      "needs_background": "light"
     },
     "output_type": "display_data"
    }
   ],
   "source": [
    "df_ret.hist(bins=20, edgecolor='black')"
   ],
   "metadata": {
    "collapsed": false,
    "pycharm": {
     "name": "#%%\n"
    }
   }
  },
  {
   "cell_type": "code",
   "execution_count": 32,
   "outputs": [],
   "source": [
    "from risk_utils.risk_utils import RiskAssessor\n",
    "returns = df_ret['r'].to_list()\n",
    "ra = RiskAssessor(np.array(returns))"
   ],
   "metadata": {
    "collapsed": false,
    "pycharm": {
     "name": "#%%\n"
    }
   }
  },
  {
   "cell_type": "code",
   "execution_count": 34,
   "outputs": [
    {
     "name": "stdout",
     "output_type": "stream",
     "text": [
      "======== RISK ASSESSMENT ========\n",
      "VaR95 0.1261355207970896,    ES95 0.2030953093103852\n",
      "VaR99 0.2261245183689644,     ES99 0.2967739940689424\n",
      "EVT VaR99 0.2631395619751782, EVT ES99 0.28003264326574356\n"
     ]
    }
   ],
   "source": [
    "ra.risk_summary()"
   ],
   "metadata": {
    "collapsed": false,
    "pycharm": {
     "name": "#%%\n"
    }
   }
  },
  {
   "cell_type": "code",
   "execution_count": null,
   "outputs": [],
   "source": [],
   "metadata": {
    "collapsed": false,
    "pycharm": {
     "name": "#%%\n"
    }
   }
  }
 ],
 "metadata": {
  "kernelspec": {
   "display_name": "Python 3 (ipykernel)",
   "language": "python",
   "name": "python3"
  },
  "language_info": {
   "codemirror_mode": {
    "name": "ipython",
    "version": 3
   },
   "file_extension": ".py",
   "mimetype": "text/x-python",
   "name": "python",
   "nbconvert_exporter": "python",
   "pygments_lexer": "ipython3",
   "version": "3.9.7"
  }
 },
 "nbformat": 4,
 "nbformat_minor": 1
}