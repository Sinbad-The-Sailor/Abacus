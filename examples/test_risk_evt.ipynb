{
 "cells": [
  {
   "cell_type": "code",
   "execution_count": 1,
   "outputs": [],
   "source": [
    "from database import database_parser\n",
    "from risk_utils.risk_utils import RiskAssessor\n",
    "\n",
    "connection = database_parser.create_connection('../database/abacus_database.db')"
   ],
   "metadata": {
    "collapsed": false,
    "pycharm": {
     "name": "#%%\n"
    }
   }
  },
  {
   "cell_type": "code",
   "execution_count": 2,
   "outputs": [
    {
     "name": "stdout",
     "output_type": "stream",
     "text": [
      "unable to open database file\n"
     ]
    },
    {
     "ename": "UnboundLocalError",
     "evalue": "local variable 'connection' referenced before assignment",
     "output_type": "error",
     "traceback": [
      "\u001B[0;31m---------------------------------------------------------------------------\u001B[0m",
      "\u001B[0;31mUnboundLocalError\u001B[0m                         Traceback (most recent call last)",
      "Input \u001B[0;32mIn [2]\u001B[0m, in \u001B[0;36m<cell line: 1>\u001B[0;34m()\u001B[0m\n\u001B[0;32m----> 1\u001B[0m \u001B[38;5;28;01mfrom\u001B[39;00m \u001B[38;5;21;01mstock_data\u001B[39;00m \u001B[38;5;28;01mimport\u001B[39;00m StockData\n\u001B[1;32m      2\u001B[0m nikkei \u001B[38;5;241m=\u001B[39m StockData(\u001B[38;5;241m1321\u001B[39m)\n",
      "File \u001B[0;32m~/Desktop/Abacus/stock_data.py:5\u001B[0m, in \u001B[0;36m<module>\u001B[0;34m\u001B[0m\n\u001B[1;32m      1\u001B[0m \u001B[38;5;28;01mimport\u001B[39;00m \u001B[38;5;21;01mnumpy\u001B[39;00m \u001B[38;5;28;01mas\u001B[39;00m \u001B[38;5;21;01mnp\u001B[39;00m\n\u001B[1;32m      3\u001B[0m \u001B[38;5;28;01mfrom\u001B[39;00m \u001B[38;5;21;01mpandas_datareader\u001B[39;00m \u001B[38;5;28;01mimport\u001B[39;00m data \u001B[38;5;28;01mas\u001B[39;00m pdr\n\u001B[0;32m----> 5\u001B[0m \u001B[38;5;28;01mfrom\u001B[39;00m \u001B[38;5;21;01mconfig\u001B[39;00m \u001B[38;5;28;01mimport\u001B[39;00m ABACUS_DATABASE_CONNECTION\n\u001B[1;32m      6\u001B[0m \u001B[38;5;28;01mfrom\u001B[39;00m \u001B[38;5;21;01mdatabase\u001B[39;00m\u001B[38;5;21;01m.\u001B[39;00m\u001B[38;5;21;01mdatabase_parser\u001B[39;00m \u001B[38;5;28;01mimport\u001B[39;00m select_price_data\n\u001B[1;32m      7\u001B[0m \u001B[38;5;28;01mfrom\u001B[39;00m \u001B[38;5;21;01msqlite3\u001B[39;00m \u001B[38;5;28;01mimport\u001B[39;00m Error\n",
      "File \u001B[0;32m~/Desktop/Abacus/config.py:8\u001B[0m, in \u001B[0;36m<module>\u001B[0;34m\u001B[0m\n\u001B[1;32m      5\u001B[0m \u001B[38;5;28;01mfrom\u001B[39;00m \u001B[38;5;21;01mdatabase\u001B[39;00m\u001B[38;5;21;01m.\u001B[39;00m\u001B[38;5;21;01mdatabase_parser\u001B[39;00m \u001B[38;5;28;01mimport\u001B[39;00m create_connection\n\u001B[1;32m      7\u001B[0m PLOT_STYLE \u001B[38;5;241m=\u001B[39m [\u001B[38;5;124m'\u001B[39m\u001B[38;5;124mscience\u001B[39m\u001B[38;5;124m'\u001B[39m, \u001B[38;5;124m'\u001B[39m\u001B[38;5;124mnotebook\u001B[39m\u001B[38;5;124m'\u001B[39m, \u001B[38;5;124m'\u001B[39m\u001B[38;5;124mgrid\u001B[39m\u001B[38;5;124m'\u001B[39m]\n\u001B[0;32m----> 8\u001B[0m ABACUS_DATABASE_CONNECTION \u001B[38;5;241m=\u001B[39m \u001B[43mcreate_connection\u001B[49m\u001B[43m(\u001B[49m\u001B[38;5;124;43m'\u001B[39;49m\u001B[38;5;124;43mdatabase/abacus_database.db\u001B[39;49m\u001B[38;5;124;43m'\u001B[39;49m\u001B[43m)\u001B[49m\n\u001B[1;32m     11\u001B[0m \u001B[38;5;28;01mdef\u001B[39;00m \u001B[38;5;21mrun_configuration\u001B[39m():\n\u001B[1;32m     12\u001B[0m     plt\u001B[38;5;241m.\u001B[39mrcParams[\u001B[38;5;124m'\u001B[39m\u001B[38;5;124mtext.usetex\u001B[39m\u001B[38;5;124m'\u001B[39m] \u001B[38;5;241m=\u001B[39m \u001B[38;5;28;01mTrue\u001B[39;00m\n",
      "File \u001B[0;32m~/Desktop/Abacus/database/database_parser.py:23\u001B[0m, in \u001B[0;36mcreate_connection\u001B[0;34m(db_file)\u001B[0m\n\u001B[1;32m     21\u001B[0m \u001B[38;5;28;01mexcept\u001B[39;00m Error \u001B[38;5;28;01mas\u001B[39;00m e:\n\u001B[1;32m     22\u001B[0m     \u001B[38;5;28mprint\u001B[39m(e)\n\u001B[0;32m---> 23\u001B[0m \u001B[38;5;28;01mreturn\u001B[39;00m \u001B[43mconnection\u001B[49m\n",
      "\u001B[0;31mUnboundLocalError\u001B[0m: local variable 'connection' referenced before assignment"
     ]
    }
   ],
   "source": [
    "from stock_data import StockData\n",
    "nikkei = StockData(1321)"
   ],
   "metadata": {
    "collapsed": false,
    "pycharm": {
     "name": "#%%\n"
    }
   }
  },
  {
   "cell_type": "markdown",
   "source": [
    "Suppose the Nikkei225 ETF is the only asset in our portfolio, hence we can use its 10Y return distribution as our portfolio distribution."
   ],
   "metadata": {
    "collapsed": false,
    "pycharm": {
     "name": "#%% md\n"
    }
   }
  },
  {
   "cell_type": "code",
   "execution_count": null,
   "outputs": [],
   "source": [
    "risk_assessor = RiskAssessor(log_returns['close'])"
   ],
   "metadata": {
    "collapsed": false,
    "pycharm": {
     "name": "#%%\n"
    }
   }
  },
  {
   "cell_type": "markdown",
   "source": [
    "Non-parametric and Extreme Value Theory based Value at Risk and Expected Shortfall calculations. These are summarized below. Parameter estimation is done automatically by the RiskAssessor."
   ],
   "metadata": {
    "collapsed": false,
    "pycharm": {
     "name": "#%% md\n"
    }
   }
  },
  {
   "cell_type": "code",
   "execution_count": null,
   "outputs": [],
   "source": [
    "risk_assessor.risk_summary()"
   ],
   "metadata": {
    "collapsed": false,
    "pycharm": {
     "name": "#%%\n"
    }
   }
  },
  {
   "cell_type": "code",
   "execution_count": null,
   "outputs": [],
   "source": [
    "#p = ra._evt_params"
   ],
   "metadata": {
    "collapsed": false,
    "pycharm": {
     "name": "#%%\n"
    }
   }
  },
  {
   "cell_type": "code",
   "execution_count": null,
   "outputs": [],
   "source": [
    "#x = np.linspace(ra._evt_threshold, 0.25, 100)\n",
    "#z = np.linspace(-10, 10, 100)\n",
    "\n",
    "#from matplotlib import pyplot as plt\n",
    "\n",
    "#plt.plot(x, gp.pdf(x, p[0], p[1]))\n",
    "#plt.show()"
   ],
   "metadata": {
    "collapsed": false,
    "pycharm": {
     "name": "#%%\n"
    }
   }
  },
  {
   "cell_type": "code",
   "execution_count": null,
   "outputs": [],
   "source": [],
   "metadata": {
    "collapsed": false,
    "pycharm": {
     "name": "#%%\n"
    }
   }
  }
 ],
 "metadata": {
  "kernelspec": {
   "display_name": "Python 3",
   "language": "python",
   "name": "python3"
  },
  "language_info": {
   "codemirror_mode": {
    "name": "ipython",
    "version": 2
   },
   "file_extension": ".py",
   "mimetype": "text/x-python",
   "name": "python",
   "nbconvert_exporter": "python",
   "pygments_lexer": "ipython2",
   "version": "2.7.6"
  }
 },
 "nbformat": 4,
 "nbformat_minor": 0
}