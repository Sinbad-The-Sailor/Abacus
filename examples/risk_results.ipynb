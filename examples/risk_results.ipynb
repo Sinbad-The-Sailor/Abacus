{
 "cells": [
  {
   "cell_type": "code",
   "execution_count": 1,
   "outputs": [],
   "source": [
    "import pandas as pd\n",
    "import numpy as np"
   ],
   "metadata": {
    "collapsed": false,
    "pycharm": {
     "name": "#%%\n"
    }
   }
  },
  {
   "cell_type": "code",
   "execution_count": 2,
   "outputs": [],
   "source": [
    "from database.database_parser import create_connection\n",
    "from database.database_parser import select_curr_solution\n",
    "\n",
    "test_connection = create_connection('../database/abacus_database.db')"
   ],
   "metadata": {
    "collapsed": false,
    "pycharm": {
     "name": "#%%\n"
    }
   }
  },
  {
   "cell_type": "code",
   "execution_count": 3,
   "outputs": [],
   "source": [
    "from database.database_parser import select_price_data\n",
    "\n",
    "def generate_volatility(params, data):\n",
    "    n_observations = len(data)\n",
    "    initial_squared_vol_estimate = (params[0]\n",
    "                                        + params[1] * (data[0] ** 2)\n",
    "                                        + params[3] * (data[0] ** 2) * np.where(data[0] < 0, 1, 0)\n",
    "                                        + params[2] * (data[0] ** 2))\n",
    "    current_squared_vol_estimate = initial_squared_vol_estimate\n",
    "\n",
    "    for i in range(0, n_observations):\n",
    "        current_squared_vol_estimate = (params[0] + params[1] * (data[i - 1] ** 2)\n",
    "                                            + params[3] * (data[i - 1] ** 2) * np.where(data[i - 1] < 0, 1, 0)\n",
    "                                            + params[2] * current_squared_vol_estimate)\n",
    "\n",
    "    return np.sqrt(current_squared_vol_estimate)\n",
    "\n",
    "def get_volatility(asset: str):\n",
    "    opt_sol = select_curr_solution(test_connection, asset)\n",
    "    adj_close = select_price_data(test_connection, '1321')\n",
    "    log_returns = np.array(np.log(adj_close / adj_close.shift(1))[1:])\n",
    "    return generate_volatility(params=opt_sol, data=log_returns)"
   ],
   "metadata": {
    "collapsed": false,
    "pycharm": {
     "name": "#%%\n"
    }
   }
  },
  {
   "cell_type": "code",
   "execution_count": 4,
   "outputs": [],
   "source": [
    "from distributions.student_poisson_mixture import spm\n",
    "# Calculate all inverse samples.\n",
    "def generate_samples(us, asset):\n",
    "    opt_sol = select_curr_solution(test_connection, asset)\n",
    "    mu = opt_sol[4]\n",
    "    sigma = get_volatility(asset)[0]\n",
    "    kappa = opt_sol[5]\n",
    "    lamb = opt_sol[6]\n",
    "    nu = opt_sol[7]\n",
    "\n",
    "    for p in us:\n",
    "        s = spm.ppf(p, mu, sigma, kappa, lamb, nu)\n",
    "        print(s.root)"
   ],
   "metadata": {
    "collapsed": false,
    "pycharm": {
     "name": "#%%\n"
    }
   }
  },
  {
   "cell_type": "code",
   "execution_count": 5,
   "outputs": [],
   "source": [
    "u_sim = np.loadtxt('u_sim.txt', delimiter=',')"
   ],
   "metadata": {
    "collapsed": false,
    "pycharm": {
     "name": "#%%\n"
    }
   }
  },
  {
   "cell_type": "code",
   "execution_count": null,
   "outputs": [
    {
     "name": "stdout",
     "output_type": "stream",
     "text": [
      "-0.0459204898518261\n"
     ]
    }
   ],
   "source": [
    "generate_samples(u_sim[:, 4], '1321')"
   ],
   "metadata": {
    "collapsed": false,
    "pycharm": {
     "name": "#%%\n",
     "is_executing": true
    }
   }
  },
  {
   "cell_type": "code",
   "execution_count": null,
   "outputs": [],
   "source": [
    "df_ret = pd.read_csv('../database/return_samples/IVV.txt')\n",
    "len(df_ret)"
   ],
   "metadata": {
    "collapsed": false,
    "pycharm": {
     "name": "#%%\n",
     "is_executing": true
    }
   }
  },
  {
   "cell_type": "code",
   "execution_count": null,
   "outputs": [],
   "source": [
    "from matplotlib import pyplot as plt\n",
    "\n",
    "df_ret.hist(bins=20, edgecolor='black')\n",
    "plt.show()"
   ],
   "metadata": {
    "collapsed": false,
    "pycharm": {
     "name": "#%%\n",
     "is_executing": true
    }
   }
  },
  {
   "cell_type": "code",
   "execution_count": null,
   "outputs": [],
   "source": [
    "from risk_utils.risk_utils import RiskAssessor\n",
    "\n",
    "returns = df_ret['r'].to_list()\n",
    "ra = RiskAssessor(np.array(returns))\n",
    "ra.risk_summary()"
   ],
   "metadata": {
    "collapsed": false,
    "pycharm": {
     "name": "#%%\n",
     "is_executing": true
    }
   }
  }
 ],
 "metadata": {
  "kernelspec": {
   "display_name": "Python 3",
   "language": "python",
   "name": "python3"
  },
  "language_info": {
   "codemirror_mode": {
    "name": "ipython",
    "version": 2
   },
   "file_extension": ".py",
   "mimetype": "text/x-python",
   "name": "python",
   "nbconvert_exporter": "python",
   "pygments_lexer": "ipython2",
   "version": "2.7.6"
  }
 },
 "nbformat": 4,
 "nbformat_minor": 0
}