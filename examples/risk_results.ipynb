{
 "cells": [
  {
   "cell_type": "code",
   "execution_count": 1,
   "outputs": [],
   "source": [
    "import pandas as pd\n",
    "import numpy as np"
   ],
   "metadata": {
    "collapsed": false,
    "pycharm": {
     "name": "#%%\n"
    }
   }
  },
  {
   "cell_type": "code",
   "execution_count": 2,
   "outputs": [],
   "source": [
    "from database.database_parser import create_connection\n",
    "from database.database_parser import select_curr_solution\n",
    "\n",
    "test_connection = create_connection('../database/abacus_database.db')"
   ],
   "metadata": {
    "collapsed": false,
    "pycharm": {
     "name": "#%%\n"
    }
   }
  },
  {
   "cell_type": "code",
   "execution_count": 3,
   "outputs": [],
   "source": [
    "from database.database_parser import select_price_data\n",
    "\n",
    "def generate_volatility(params, data):\n",
    "    n_observations = len(data)\n",
    "    initial_squared_vol_estimate = (params[0]\n",
    "                                        + params[1] * (data[0] ** 2)\n",
    "                                        + params[3] * (data[0] ** 2) * np.where(data[0] < 0, 1, 0)\n",
    "                                        + params[2] * (data[0] ** 2))\n",
    "    current_squared_vol_estimate = initial_squared_vol_estimate\n",
    "\n",
    "    for i in range(0, n_observations):\n",
    "        current_squared_vol_estimate = (params[0] + params[1] * (data[i - 1] ** 2)\n",
    "                                            + params[3] * (data[i - 1] ** 2) * np.where(data[i - 1] < 0, 1, 0)\n",
    "                                            + params[2] * current_squared_vol_estimate)\n",
    "\n",
    "    return np.sqrt(current_squared_vol_estimate)\n",
    "\n",
    "def get_volatility(asset: str):\n",
    "    opt_sol = select_curr_solution(test_connection, asset)\n",
    "    adj_close = select_price_data(test_connection, asset)\n",
    "    log_returns = np.array(np.log(adj_close / adj_close.shift(1))[1:])\n",
    "    return generate_volatility(params=opt_sol, data=log_returns)"
   ],
   "metadata": {
    "collapsed": false,
    "pycharm": {
     "name": "#%%\n"
    }
   }
  },
  {
   "cell_type": "code",
   "execution_count": 4,
   "outputs": [],
   "source": [
    "from distributions.student_poisson_mixture import spm\n",
    "# Calculate all inverse samples.\n",
    "def generate_samples(us, asset):\n",
    "    opt_sol = select_curr_solution(test_connection, asset)\n",
    "    mu = opt_sol[4]\n",
    "    sigma = get_volatility(asset)[0]\n",
    "    kappa = opt_sol[5]\n",
    "    lamb = opt_sol[6]\n",
    "    nu = opt_sol[7]\n",
    "\n",
    "    for p in us:\n",
    "        s = spm.ppf(p, mu, sigma, kappa, lamb, nu)\n",
    "        print(s.root)"
   ],
   "metadata": {
    "collapsed": false,
    "pycharm": {
     "name": "#%%\n"
    }
   }
  },
  {
   "cell_type": "code",
   "execution_count": 16,
   "outputs": [
    {
     "name": "stdout",
     "output_type": "stream",
     "text": [
      "[[0.79772463 0.58150969 0.61085637 0.81521578 0.63448929 0.25333872\n",
      "  0.82333231 0.57785713 0.42153504 0.5964131 ]\n",
      " [0.77390809 0.58765001 0.53034168 0.54839427 0.60758174 0.29195238\n",
      "  0.58243041 0.3839604  0.46580821 0.54777563]\n",
      " [0.26670714 0.32536818 0.32936413 0.18667356 0.19083258 0.78696727\n",
      "  0.23736657 0.48932501 0.67931916 0.28359091]\n",
      " [0.05779676 0.20909012 0.21455327 0.09016981 0.11556966 0.90683921\n",
      "  0.18668199 0.20524079 0.93598611 0.12675818]\n",
      " [0.62532737 0.75088301 0.74290244 0.64454536 0.69767896 0.31432618\n",
      "  0.75523219 0.84805783 0.29995938 0.71363633]\n",
      " [0.34895608 0.58809409 0.33367855 0.04082125 0.45088984 0.9305669\n",
      "  0.34509566 0.06232354 0.8507131  0.40126902]\n",
      " [0.19985629 0.12326439 0.10256493 0.19369392 0.05962854 0.41448531\n",
      "  0.74914276 0.10366589 0.88784204 0.07960795]\n",
      " [0.74774783 0.86463727 0.74019025 0.79043543 0.76655704 0.14503619\n",
      "  0.77383274 0.29580822 0.2459816  0.80576824]\n",
      " [0.51805768 0.60123982 0.65529561 0.76212286 0.7966484  0.26915625\n",
      "  0.85968729 0.88243854 0.41410798 0.6327823 ]\n",
      " [0.30577798 0.69109097 0.76082278 0.63937041 0.86770572 0.23395199\n",
      "  0.45412161 0.49413171 0.36245117 0.66580258]\n",
      " [0.36292653 0.33288654 0.34962236 0.33351175 0.40603224 0.15314499\n",
      "  0.48010889 0.79371773 0.3409476  0.28751564]\n",
      " [0.21764477 0.12590244 0.10370662 0.65135742 0.06929719 0.17760606\n",
      "  0.66947093 0.85960961 0.64551778 0.17759566]\n",
      " [0.33987608 0.13356234 0.42660274 0.62897132 0.498332   0.23183869\n",
      "  0.49211114 0.11815588 0.7613334  0.29511075]\n",
      " [0.39011346 0.31284426 0.35769443 0.64634945 0.28194422 0.35628333\n",
      "  0.84485924 0.56411546 0.43924971 0.30010544]\n",
      " [0.9838677  0.984401   0.99158352 0.98122054 0.98886727 0.07987237\n",
      "  0.94482197 0.9298394  0.02901001 0.98696623]\n",
      " [0.6666752  0.21285759 0.32147856 0.3616091  0.715043   0.87195319\n",
      "  0.51932485 0.03879206 0.75890304 0.28651511]\n",
      " [0.42926312 0.81774727 0.81836829 0.59177755 0.63829516 0.32341635\n",
      "  0.09375409 0.43734714 0.09439975 0.80289633]\n",
      " [0.13754723 0.50264338 0.42654497 0.17280476 0.24522066 0.72848199\n",
      "  0.2896803  0.27174755 0.40452893 0.4529056 ]\n",
      " [0.87505869 0.77037482 0.7930172  0.87179255 0.88837769 0.30084285\n",
      "  0.95330509 0.94086092 0.17721679 0.82873034]\n",
      " [0.4407025  0.82634193 0.80844466 0.57789804 0.49241151 0.15481434\n",
      "  0.1589565  0.00836011 0.18997566 0.79629806]\n",
      " [0.71091335 0.76288559 0.750764   0.53086906 0.76626285 0.53246001\n",
      "  0.64904842 0.35796353 0.47646108 0.74041055]\n",
      " [0.03457658 0.04920774 0.01170435 0.01097082 0.01060787 0.97326524\n",
      "  0.01989525 0.01145938 0.98354047 0.02811548]\n",
      " [0.48634696 0.4531194  0.44430168 0.13795722 0.49901431 0.97182259\n",
      "  0.60329014 0.07265173 0.91436685 0.33197747]\n",
      " [0.39291673 0.33220094 0.3361318  0.14846201 0.53878429 0.91873989\n",
      "  0.76469744 0.11400068 0.90908774 0.2268625 ]\n",
      " [0.03100178 0.03972817 0.05625802 0.01112048 0.02820033 0.98895261\n",
      "  0.06301022 0.35671286 0.98188025 0.0321732 ]\n",
      " [0.83130811 0.73239826 0.7517162  0.73867298 0.76603735 0.40380983\n",
      "  0.71569479 0.85547779 0.45435838 0.61005931]\n",
      " [0.05166285 0.18511077 0.27166881 0.07960984 0.31642659 0.94708436\n",
      "  0.0820767  0.08755124 0.89505246 0.28961351]\n",
      " [0.1641917  0.14133135 0.12203022 0.17878312 0.13253108 0.91257639\n",
      "  0.52506778 0.38489432 0.86389871 0.16635847]\n",
      " [0.96896468 0.90950957 0.89834227 0.95134492 0.9041913  0.20434564\n",
      "  0.98207722 0.88807645 0.0387355  0.93607321]\n",
      " [0.71995431 0.74389281 0.7570062  0.85194716 0.75013118 0.05573052\n",
      "  0.806957   0.67169696 0.12911602 0.81488376]\n",
      " [0.90585592 0.87110097 0.93619187 0.88961156 0.93685848 0.05420786\n",
      "  0.88520501 0.20482112 0.33370887 0.91575614]\n",
      " [0.54648447 0.46833269 0.34520139 0.3989404  0.58223967 0.92553671\n",
      "  0.3182744  0.28838994 0.70444423 0.49037449]\n",
      " [0.93109306 0.98636567 0.982668   0.94011032 0.92047417 0.17263853\n",
      "  0.8013034  0.99715772 0.06838881 0.98395762]\n",
      " [0.53942891 0.5352398  0.58510679 0.7230002  0.7544268  0.28220015\n",
      "  0.68762935 0.80952082 0.33459797 0.69219649]\n",
      " [0.11385643 0.32872053 0.22767329 0.20767583 0.1742324  0.61253741\n",
      "  0.104306   0.15363688 0.84779921 0.18962891]\n",
      " [0.37321535 0.12942449 0.07222773 0.16741933 0.02001631 0.76403232\n",
      "  0.13025335 0.38874767 0.70945671 0.15918812]\n",
      " [0.34164495 0.21694774 0.21324432 0.55873871 0.26903446 0.34192947\n",
      "  0.81991196 0.27582233 0.56237866 0.24641959]\n",
      " [0.02510719 0.25228566 0.17832563 0.06237895 0.00937743 0.62854775\n",
      "  0.00627811 0.21391394 0.81621272 0.21749502]\n",
      " [0.49981723 0.2257269  0.28853557 0.38149276 0.42913776 0.56108136\n",
      "  0.48671485 0.56779936 0.86799841 0.16110083]\n",
      " [0.20962815 0.5596551  0.48318373 0.31313362 0.26811812 0.42550654\n",
      "  0.05918686 0.80154519 0.34345059 0.63146047]\n",
      " [0.56468466 0.27504579 0.22852759 0.29071087 0.43630775 0.62386919\n",
      "  0.79673759 0.46455871 0.73643311 0.29604418]\n",
      " [0.46550731 0.25727778 0.33631517 0.81934322 0.30101649 0.46505626\n",
      "  0.81834968 0.69896136 0.57653458 0.3219046 ]\n",
      " [0.05365426 0.15842603 0.06704361 0.112261   0.01433334 0.84098973\n",
      "  0.05689773 0.50883539 0.81794424 0.17212843]\n",
      " [0.86497829 0.80188827 0.79447399 0.68733083 0.82363688 0.36892482\n",
      "  0.46456297 0.44363566 0.33749154 0.74509345]\n",
      " [0.94683757 0.85914439 0.87457908 0.91718138 0.92638075 0.02894279\n",
      "  0.94827121 0.7345515  0.07524848 0.87792613]\n",
      " [0.62768926 0.35725667 0.56883807 0.76494205 0.83551224 0.37872679\n",
      "  0.84007718 0.88893542 0.38274342 0.5069125 ]\n",
      " [0.72214611 0.78409853 0.79591297 0.6515653  0.83223501 0.18234506\n",
      "  0.44606913 0.75695583 0.33848251 0.75146776]\n",
      " [0.65287351 0.54206352 0.6015533  0.34492578 0.76365991 0.82853309\n",
      "  0.8754354  0.69564594 0.68017811 0.50727229]\n",
      " [0.01133763 0.02671134 0.02313497 0.03082293 0.00324429 0.98224275\n",
      "  0.00105023 0.01984451 0.83489023 0.03406554]\n",
      " [0.46374135 0.69579996 0.62074823 0.42244774 0.47742595 0.47694148\n",
      "  0.53536519 0.53118904 0.71761388 0.57757156]\n",
      " [0.76524054 0.81684742 0.81843544 0.57839992 0.84347872 0.47805444\n",
      "  0.66373487 0.17349199 0.48650816 0.77684949]\n",
      " [0.29928552 0.31395032 0.34210286 0.21963772 0.31768977 0.86757644\n",
      "  0.55036575 0.41131208 0.86506743 0.32570281]\n",
      " [0.39288431 0.19717983 0.42829853 0.50619459 0.25021727 0.54968463\n",
      "  0.19109076 0.48541419 0.76562872 0.22342645]\n",
      " [0.34013943 0.13947657 0.18488893 0.04619772 0.3721117  0.92968618\n",
      "  0.26785461 0.08999174 0.94557861 0.12075716]\n",
      " [0.84987286 0.83729969 0.86248615 0.8980495  0.88541696 0.11281234\n",
      "  0.92289372 0.6434411  0.20505705 0.84961091]\n",
      " [0.11769065 0.5083595  0.37050847 0.57545908 0.21614019 0.3126365\n",
      "  0.13392089 0.87080926 0.33032123 0.52254969]\n",
      " [0.26224257 0.50504748 0.47545712 0.49912131 0.60035798 0.76729994\n",
      "  0.61501455 0.53098044 0.4840903  0.41439468]\n",
      " [0.87431771 0.93405883 0.90106614 0.79575922 0.87033227 0.43968144\n",
      "  0.84940492 0.80210394 0.15625073 0.92629389]\n",
      " [0.3067508  0.30562956 0.37924522 0.76927809 0.21810051 0.34942747\n",
      "  0.78686009 0.5403882  0.36326468 0.40736547]\n",
      " [0.31800493 0.48355113 0.36604826 0.30850647 0.20075885 0.42177501\n",
      "  0.11661754 0.75615008 0.63686976 0.45868631]\n",
      " [0.39974795 0.43708319 0.38949542 0.36345432 0.45175871 0.4789386\n",
      "  0.48373268 0.54779821 0.71913642 0.32220561]\n",
      " [0.00681188 0.13837467 0.13701556 0.05148843 0.0736345  0.98061906\n",
      "  0.05740837 0.28833363 0.76457656 0.08328216]\n",
      " [0.96382759 0.66308491 0.76096135 0.82756786 0.91927829 0.49375554\n",
      "  0.80782216 0.74912287 0.43346605 0.62049639]\n",
      " [0.67159807 0.63965534 0.58044759 0.36861994 0.41828709 0.24987428\n",
      "  0.10381122 0.93925112 0.08035649 0.76618783]\n",
      " [0.09953756 0.27953083 0.28158548 0.11883086 0.13378224 0.71656423\n",
      "  0.11653009 0.47305873 0.57664976 0.30068672]\n",
      " [0.58732609 0.54720571 0.59726266 0.71164473 0.35476719 0.5877274\n",
      "  0.73352757 0.4646566  0.45200074 0.63156028]\n",
      " [0.31797494 0.26317654 0.25656877 0.28590251 0.14637449 0.6424167\n",
      "  0.06373486 0.07777359 0.64880482 0.29900808]\n",
      " [0.68886385 0.65320556 0.69880504 0.66730814 0.66544364 0.26509879\n",
      "  0.57174556 0.56528098 0.23112191 0.61823666]\n",
      " [0.07872468 0.49349226 0.23807016 0.30147631 0.12164757 0.60962723\n",
      "  0.00743054 0.11905561 0.60058144 0.31385671]\n",
      " [0.12987889 0.15194542 0.1176062  0.22019736 0.12271678 0.79027502\n",
      "  0.09184914 0.37710419 0.94083167 0.11819756]\n",
      " [0.53793096 0.1644033  0.38272929 0.25096211 0.73656537 0.79965418\n",
      "  0.61182112 0.22496276 0.88519897 0.16721849]\n",
      " [0.56668308 0.54421476 0.536099   0.43250644 0.57674203 0.45748342\n",
      "  0.73767632 0.40393743 0.3807566  0.56413589]\n",
      " [0.89194878 0.95624859 0.96309447 0.94234093 0.95129549 0.10135747\n",
      "  0.6296882  0.63337939 0.05100165 0.95963374]\n",
      " [0.68879881 0.76560987 0.81193156 0.8795371  0.76201967 0.28700626\n",
      "  0.92363485 0.66491274 0.41173693 0.72855169]\n",
      " [0.5071917  0.83038726 0.81992406 0.71394677 0.77562933 0.46983166\n",
      "  0.50551165 0.31010179 0.10688    0.77707866]\n",
      " [0.03215811 0.27364851 0.15156984 0.00743002 0.35464388 0.98783422\n",
      "  0.04103157 0.05359834 0.99321173 0.11124962]\n",
      " [0.37754481 0.22006692 0.22467708 0.0489757  0.32615668 0.9186698\n",
      "  0.30705249 0.23492877 0.95972094 0.195218  ]\n",
      " [0.12257132 0.19839766 0.13354458 0.12089379 0.14133212 0.786055\n",
      "  0.21436003 0.04804762 0.82851535 0.22308224]\n",
      " [0.70467863 0.77149166 0.76088341 0.74371193 0.65992849 0.47404936\n",
      "  0.77054022 0.49339348 0.14267491 0.82225913]\n",
      " [0.46778388 0.59498878 0.37588843 0.28019005 0.1473167  0.7371675\n",
      "  0.10095332 0.14982462 0.37353816 0.63021266]\n",
      " [0.88041533 0.67893356 0.56699479 0.3144775  0.43533207 0.73085042\n",
      "  0.30886983 0.18337104 0.47055082 0.58195944]\n",
      " [0.96366042 0.9353005  0.95454585 0.72650633 0.94411601 0.59753447\n",
      "  0.73685103 0.96393117 0.38232028 0.9361611 ]\n",
      " [0.88670528 0.95138195 0.93789086 0.83033773 0.89590769 0.50906618\n",
      "  0.23241462 0.78619161 0.09536588 0.86980503]\n",
      " [0.70688858 0.68357622 0.71859339 0.5725639  0.4809232  0.61785582\n",
      "  0.7478397  0.98192696 0.14851646 0.75001437]\n",
      " [0.86960039 0.66644794 0.69953754 0.89328638 0.53722711 0.08018419\n",
      "  0.9039721  0.93889039 0.06689008 0.65913807]\n",
      " [0.08847359 0.22294051 0.25022351 0.12768224 0.06568655 0.88957061\n",
      "  0.31584061 0.98280323 0.92882094 0.13226321]\n",
      " [0.07397549 0.09249107 0.15656256 0.12295419 0.24494685 0.96107372\n",
      "  0.24341615 0.19309986 0.92474094 0.1165154 ]\n",
      " [0.41911873 0.6506287  0.67563147 0.47937771 0.6790723  0.37299926\n",
      "  0.69526484 0.25750536 0.439385   0.5964035 ]\n",
      " [0.89268172 0.91619854 0.90278502 0.91397975 0.8657417  0.41396348\n",
      "  0.76572117 0.68360727 0.02597466 0.91262011]\n",
      " [0.99235772 0.99385361 0.99710304 0.99104489 0.99580268 0.02040123\n",
      "  0.95531666 0.8635499  0.00968458 0.99432082]\n",
      " [0.52916689 0.55708405 0.63343924 0.82894715 0.51383284 0.19666675\n",
      "  0.83228564 0.4911472  0.28169701 0.64668861]\n",
      " [0.62830553 0.77286251 0.70336751 0.53600699 0.74512337 0.58405578\n",
      "  0.84507709 0.20112228 0.50003303 0.73279724]\n",
      " [0.11239821 0.16075639 0.14337054 0.70190417 0.09934352 0.56397576\n",
      "  0.72411474 0.92736398 0.27314537 0.27458709]\n",
      " [0.23841619 0.20974223 0.43771189 0.84589789 0.13560349 0.31799615\n",
      "  0.94334694 0.62886994 0.52266178 0.32282293]\n",
      " [0.98602568 0.97953013 0.98657422 0.98274011 0.99365294 0.03453101\n",
      "  0.94253258 0.94323935 0.03136255 0.98579022]\n",
      " [0.49900158 0.29002736 0.28905302 0.4519249  0.05839284 0.31235206\n",
      "  0.26612815 0.7832608  0.57648788 0.28543554]\n",
      " [0.08806829 0.29058741 0.3672451  0.38666168 0.62520688 0.67349838\n",
      "  0.10318139 0.37767967 0.7056697  0.28608793]\n",
      " [0.20456383 0.64458748 0.67974423 0.83660096 0.65008281 0.42875069\n",
      "  0.76101269 0.82883344 0.39924193 0.50284327]\n",
      " [0.92074674 0.98010348 0.95111249 0.93513041 0.88550363 0.17165863\n",
      "  0.8633293  0.86903427 0.09504756 0.95645125]\n",
      " [0.43684032 0.17941245 0.12146866 0.349678   0.14296485 0.5067447\n",
      "  0.37635418 0.79014297 0.59439621 0.20630196]]\n"
     ]
    }
   ],
   "source": [
    "u_sim = np.loadtxt('u_sim.txt', delimiter=',')\n",
    "print(u_sim)"
   ],
   "metadata": {
    "collapsed": false,
    "pycharm": {
     "name": "#%%\n"
    }
   }
  },
  {
   "cell_type": "code",
   "execution_count": 17,
   "outputs": [
    {
     "name": "stdout",
     "output_type": "stream",
     "text": [
      "0.06005972499056601\n",
      "0.007910246475509048\n",
      "-0.05818653958662335\n",
      "-0.10388212449715824\n",
      "0.023108835475458868\n",
      "-0.17633035592505544\n",
      "-0.05610827223802506\n",
      "0.05300320559152471\n",
      "0.045963008224498614\n",
      "0.022242449605382648\n",
      "-0.02557529053690057\n",
      "0.024261209809055606\n",
      "0.0205233198507445\n",
      "0.023412679785003252\n",
      "0.2721126700433128\n",
      "-0.02078071022661288\n",
      "0.0145737619427559\n",
      "-0.06257140728791935\n",
      "0.08160306981295823\n",
      "0.012416624149422633\n",
      "0.005269217012218478\n",
      "-0.3363628056445219\n",
      "-0.07580504297067224\n",
      "-0.07140515496595977\n",
      "-0.33475648274359127\n",
      "0.040735866385721846\n",
      "-0.11324635685084583\n",
      "-0.06063238940251927\n",
      "0.15879571268117323\n",
      "0.0728674955289528\n",
      "0.09118124354611154\n",
      "-0.01473473189526486\n",
      "0.13859270563344342\n",
      "0.03747865594151422\n",
      "-0.052209218866157675\n",
      "-0.06438799768079732\n",
      "0.009480030451082372\n",
      "-0.1336046722193309\n",
      "-0.017521797959363112\n",
      "-0.029227168182886867\n",
      "-0.03345926899637983\n",
      "0.061338970643068265\n",
      "-0.08877658056840007\n",
      "0.030610993717630906\n",
      "0.11150536485294561\n",
      "0.04662463866376027\n",
      "0.024296596929673807\n",
      "-0.023597389418177572\n",
      "-0.20919571818515428\n",
      "-0.011064641495613422\n",
      "0.012494148145264597\n",
      "-0.04909276975153026\n",
      "0.0015748685603443494\n",
      "-0.16289584241965144\n",
      "0.09652330639143568\n",
      "0.012040362289763374\n",
      "0.0005180141940173104\n",
      "0.054438395314073414\n",
      "0.04765784920717571\n",
      "-0.030080636820541105\n",
      "-0.02047407592372901\n",
      "-0.1517627875143667\n",
      "0.0639934902045256\n",
      "-0.01962044574171745\n",
      "-0.08509422418674664\n",
      "0.035217521508803376\n",
      "-0.03440087518440859\n",
      "0.027017706913358364\n",
      "-0.03139640035827957\n",
      "-0.04895137889182364\n",
      "-0.04169039214927043\n",
      "-0.009518094551769659\n",
      "0.1421106406671115\n",
      "0.08552223252513566\n",
      "0.0356697532903703\n",
      "-0.38144640687282927\n",
      "-0.15682293138280248\n",
      "-0.08399652325059372\n",
      "0.041820645103360345\n",
      "-0.035536960553152384\n",
      "-0.028981079661667405\n",
      "0.03819287773541028\n",
      "0.0649215798149094\n",
      "0.01159470784152908\n",
      "0.09343229319095012\n",
      "-0.08055988998466289\n",
      "-0.08292586057072622\n",
      "-0.0024341501618486815\n",
      "0.10864893298732885\n",
      "0.3614144493813922\n",
      "0.06445338516962584\n",
      "0.006041503870697126\n",
      "0.03333628474992112\n",
      "0.07050367670937945\n",
      "0.2826141091659511\n",
      "-0.0065633649248784875\n",
      "-0.016689689275423122\n",
      "0.06708951713994815\n",
      "0.131437970511113\n",
      "-0.022786553602708173\n"
     ]
    }
   ],
   "source": [
    "generate_samples(u_sim[:, 3], 'JPY')"
   ],
   "metadata": {
    "collapsed": false,
    "pycharm": {
     "name": "#%%\n"
    }
   }
  },
  {
   "cell_type": "code",
   "execution_count": 18,
   "outputs": [
    {
     "data": {
      "text/plain": "100"
     },
     "execution_count": 18,
     "metadata": {},
     "output_type": "execute_result"
    }
   ],
   "source": [
    "df_ret = pd.read_csv('../database/return_samples/JPY.txt')\n",
    "len(df_ret)"
   ],
   "metadata": {
    "collapsed": false,
    "pycharm": {
     "name": "#%%\n"
    }
   }
  },
  {
   "cell_type": "code",
   "execution_count": 19,
   "outputs": [
    {
     "data": {
      "text/plain": "<Figure size 432x288 with 1 Axes>",
      "image/png": "[encoded data removed]"
     },
     "metadata": {
      "needs_background": "light"
     },
     "output_type": "display_data"
    }
   ],
   "source": [
    "from matplotlib import pyplot as plt\n",
    "\n",
    "df_ret.hist(bins=20, edgecolor='black')\n",
    "plt.show()"
   ],
   "metadata": {
    "collapsed": false,
    "pycharm": {
     "name": "#%%\n"
    }
   }
  },
  {
   "cell_type": "code",
   "execution_count": 45,
   "outputs": [
    {
     "name": "stdout",
     "output_type": "stream",
     "text": [
      "======== RISK ASSESSMENT ========\n",
      "VaR95 0.16356756809492157,    ES95 0.2876183538742304\n",
      "VaR99 0.3368136416568052,     ES99 0.3814464068728292\n",
      "EVT VaR99 0.3803118124603705, EVT ES99 0.381185435731757\n"
     ]
    },
    {
     "name": "stderr",
     "output_type": "stream",
     "text": [
      "/Users/axelnilsson/Desktop/Abacus/risk_utils/risk_utils.py:131: RuntimeWarning: invalid value encountered in log\n",
      "  log_likelihood = log_likelihood + np.log(1 + params[0] / params[1] * obs)\n"
     ]
    }
   ],
   "source": [
    "from risk_utils.risk_utils import RiskAssessor\n",
    "\n",
    "returns = df_ret['r'].to_list()\n",
    "ra = RiskAssessor(np.array(returns))\n",
    "ra.risk_summary()"
   ],
   "metadata": {
    "collapsed": false,
    "pycharm": {
     "name": "#%%\n"
    }
   }
  },
  {
   "cell_type": "code",
   "execution_count": null,
   "outputs": [],
   "source": [],
   "metadata": {
    "collapsed": false,
    "pycharm": {
     "name": "#%%\n"
    }
   }
  }
 ],
 "metadata": {
  "kernelspec": {
   "display_name": "Python 3",
   "language": "python",
   "name": "python3"
  },
  "language_info": {
   "codemirror_mode": {
    "name": "ipython",
    "version": 2
   },
   "file_extension": ".py",
   "mimetype": "text/x-python",
   "name": "python",
   "nbconvert_exporter": "python",
   "pygments_lexer": "ipython2",
   "version": "2.7.6"
  }
 },
 "nbformat": 4,
 "nbformat_minor": 0
}