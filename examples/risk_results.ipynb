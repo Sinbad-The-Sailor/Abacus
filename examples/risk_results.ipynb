{
 "cells": [
  {
   "cell_type": "code",
   "execution_count": 1,
   "outputs": [],
   "source": [
    "import pandas as pd\n",
    "import numpy as np"
   ],
   "metadata": {
    "collapsed": false,
    "pycharm": {
     "name": "#%%\n"
    }
   }
  },
  {
   "cell_type": "code",
   "execution_count": 2,
   "outputs": [],
   "source": [
    "from database.database_parser import create_connection\n",
    "from database.database_parser import select_curr_solution\n",
    "\n",
    "test_connection = create_connection('../database/abacus_database.db')"
   ],
   "metadata": {
    "collapsed": false,
    "pycharm": {
     "name": "#%%\n"
    }
   }
  },
  {
   "cell_type": "code",
   "execution_count": 3,
   "outputs": [],
   "source": [
    "from database.database_parser import select_price_data\n",
    "\n",
    "def generate_volatility(params, data):\n",
    "    n_observations = len(data)\n",
    "    initial_squared_vol_estimate = (params[0]\n",
    "                                        + params[1] * (data[0] ** 2)\n",
    "                                        + params[3] * (data[0] ** 2) * np.where(data[0] < 0, 1, 0)\n",
    "                                        + params[2] * (data[0] ** 2))\n",
    "    current_squared_vol_estimate = initial_squared_vol_estimate\n",
    "\n",
    "    for i in range(0, n_observations):\n",
    "        current_squared_vol_estimate = (params[0] + params[1] * (data[i - 1] ** 2)\n",
    "                                            + params[3] * (data[i - 1] ** 2) * np.where(data[i - 1] < 0, 1, 0)\n",
    "                                            + params[2] * current_squared_vol_estimate)\n",
    "\n",
    "    return np.sqrt(current_squared_vol_estimate)\n",
    "\n",
    "def get_volatility(asset: str):\n",
    "    opt_sol = select_curr_solution(test_connection, asset)\n",
    "    adj_close = select_price_data(test_connection, asset)\n",
    "    log_returns = np.array(np.log(adj_close / adj_close.shift(1))[1:])\n",
    "    return generate_volatility(params=opt_sol, data=log_returns)"
   ],
   "metadata": {
    "collapsed": false,
    "pycharm": {
     "name": "#%%\n"
    }
   }
  },
  {
   "cell_type": "code",
   "execution_count": 4,
   "outputs": [],
   "source": [
    "from distributions.student_poisson_mixture import spm\n",
    "# Calculate all inverse samples.\n",
    "def generate_samples(us, asset):\n",
    "    opt_sol = select_curr_solution(test_connection, asset)\n",
    "    mu = opt_sol[4]\n",
    "    sigma = get_volatility(asset)[0]\n",
    "    kappa = opt_sol[5]\n",
    "    lamb = opt_sol[6]\n",
    "    nu = opt_sol[7]\n",
    "\n",
    "    for p in us:\n",
    "        s = spm.ppf(p, mu, sigma, kappa, lamb, nu)\n",
    "        print(s.root)"
   ],
   "metadata": {
    "collapsed": false,
    "pycharm": {
     "name": "#%%\n"
    }
   }
  },
  {
   "cell_type": "code",
   "execution_count": 5,
   "outputs": [
    {
     "name": "stdout",
     "output_type": "stream",
     "text": [
      "[[0.05806084 0.10830092 0.79261315 ... 0.28698886 0.21304408 0.06698927]\n",
      " [0.19199837 0.62810547 0.4585476  ... 0.49344329 0.57616201 0.60300312]\n",
      " [0.85327287 0.52715455 0.69477566 ... 0.63470831 0.69612464 0.29218895]\n",
      " ...\n",
      " [0.12185408 0.55500805 0.97048421 ... 0.10141121 0.0330822  0.05961305]\n",
      " [0.1097628  0.92412216 0.49309428 ... 0.63394547 0.30222343 0.50744772]\n",
      " [0.82957789 0.0398039  0.71617357 ... 0.63057063 0.8447574  0.66376797]]\n"
     ]
    }
   ],
   "source": [
    "u_sim = np.loadtxt('u_sim.txt', delimiter=',')\n",
    "print(u_sim)"
   ],
   "metadata": {
    "collapsed": false,
    "pycharm": {
     "name": "#%%\n"
    }
   }
  },
  {
   "cell_type": "code",
   "execution_count": 11,
   "outputs": [
    {
     "name": "stdout",
     "output_type": "stream",
     "text": [
      "-0.05266520505253004\n",
      "0.012424758243947384\n",
      "0.033138265786428756\n",
      "0.18177547929740373\n",
      "-0.03275084854005315\n",
      "-0.12761467223619674\n",
      "-0.1396418670744437\n",
      "-0.04812676379626419\n",
      "0.013536039687559922\n",
      "0.0926975886023708\n",
      "-0.03685673933710155\n",
      "0.010368682839702343\n",
      "0.05155479439390281\n",
      "0.631004035446302\n",
      "0.04399537466129357\n",
      "-0.05533357930549152\n",
      "0.08704704393307668\n",
      "-0.009819320950057659\n",
      "-0.0920420919450025\n",
      "-0.058850596393866327\n",
      "0.16918383443760918\n",
      "-0.11660892271804685\n",
      "0.014131040594939897\n",
      "0.15335774670981767\n",
      "-0.027580771177784975\n",
      "-0.019713631932107442\n",
      "0.3443381845672356\n",
      "-0.06103796643745602\n",
      "-0.019565036159895154\n",
      "-0.08067382896557114\n",
      "0.1746662556391485\n",
      "0.05688328444354424\n",
      "0.029598313067377313\n",
      "-0.09259220955902799\n",
      "0.09342853817097149\n",
      "-0.022657613922507827\n",
      "-0.023466103879182767\n",
      "-0.11387880151103014\n",
      "0.1861554988712747\n",
      "-0.07012460043523364\n",
      "0.005502110703219454\n",
      "-0.6450833257001847\n",
      "0.07044222725509011\n",
      "-0.02940150302136366\n",
      "-0.024407441534417124\n",
      "-0.008452828978609231\n",
      "-0.021658944969872137\n",
      "-0.06595710582353971\n",
      "-0.019957274950406424\n",
      "0.030530809836511543\n",
      "-0.28910982008592917\n",
      "0.00743471757775153\n",
      "0.09145915151207179\n",
      "-0.004295740185834731\n",
      "0.024324130248343432\n",
      "-0.01694516397707728\n",
      "-0.06414476514393613\n",
      "-0.08632684778275451\n",
      "-0.4717125012122191\n",
      "0.10233223876818272\n",
      "-0.022170805405074257\n",
      "0.012768676001602279\n",
      "-0.03748323053334002\n",
      "-1.0752529588051642\n",
      "0.05490691911569549\n",
      "0.030823278389372127\n",
      "0.05483982719517636\n",
      "-0.07704194728358489\n",
      "0.2036660889458256\n",
      "-0.027176939856363328\n",
      "0.03752107856384908\n",
      "0.05186863206938545\n",
      "0.07010778434129761\n",
      "0.1405552817563088\n",
      "-0.16591985393807485\n",
      "-0.12146602455560968\n",
      "-0.41075667829402823\n",
      "-0.041082733252659404\n",
      "-0.03622806173928387\n",
      "0.08031169842094016\n",
      "-0.03752661356506741\n",
      "0.048427496905192914\n",
      "-0.01720699232253442\n",
      "-0.0012274461584430216\n",
      "0.004982592875755982\n",
      "0.11197052100069184\n",
      "-0.1458027395246178\n",
      "0.008305727406888367\n",
      "0.03327086859583434\n",
      "0.20145615428099956\n",
      "-0.06222680201971853\n",
      "0.011677255470478543\n",
      "-0.8660220180749733\n",
      "-0.04454424054872064\n",
      "0.04107427180546824\n",
      "-0.0323204893520152\n",
      "0.011708804755541756\n",
      "-0.28444259640800984\n",
      "-0.032201449076035914\n",
      "0.07336284042299775\n"
     ]
    }
   ],
   "source": [
    "generate_samples(u_sim[:, 9], 'MSE')"
   ],
   "metadata": {
    "collapsed": false,
    "pycharm": {
     "name": "#%%\n"
    }
   }
  },
  {
   "cell_type": "code",
   "execution_count": 7,
   "outputs": [
    {
     "data": {
      "text/plain": "100"
     },
     "execution_count": 7,
     "metadata": {},
     "output_type": "execute_result"
    }
   ],
   "source": [
    "df_ret = pd.read_csv('../database/return_samples/1321.txt')\n",
    "len(df_ret)"
   ],
   "metadata": {
    "collapsed": false,
    "pycharm": {
     "name": "#%%\n"
    }
   }
  },
  {
   "cell_type": "code",
   "execution_count": 8,
   "outputs": [
    {
     "data": {
      "text/plain": "<Figure size 432x288 with 1 Axes>",
      "image/png": "[encoded data removed]"
     },
     "metadata": {
      "needs_background": "light"
     },
     "output_type": "display_data"
    }
   ],
   "source": [
    "from matplotlib import pyplot as plt\n",
    "\n",
    "df_ret.hist(bins=20, edgecolor='black')\n",
    "plt.show()"
   ],
   "metadata": {
    "collapsed": false,
    "pycharm": {
     "name": "#%%\n"
    }
   }
  },
  {
   "cell_type": "code",
   "execution_count": 9,
   "outputs": [
    {
     "name": "stdout",
     "output_type": "stream",
     "text": [
      "======== RISK ASSESSMENT ========\n",
      "VaR95 0.1469107408815382,    ES95 0.4237419251929184\n",
      "VaR99 0.6540247122394408,     ES99 0.7055560561785977\n",
      "EVT VaR99 0.6550702958355813, EVT ES99 0.6853100210384928\n"
     ]
    },
    {
     "name": "stderr",
     "output_type": "stream",
     "text": [
      "/Users/axelnilsson/Desktop/Abacus/risk_utils/risk_utils.py:131: RuntimeWarning: invalid value encountered in log\n",
      "  log_likelihood = log_likelihood + np.log(1 + params[0] / params[1] * obs)\n",
      "/Users/axelnilsson/Desktop/Abacus/risk_utils/risk_utils.py:133: RuntimeWarning: invalid value encountered in log\n",
      "  return n_observations * np.log(params[1]) + (1 + 1 / params[0]) * log_likelihood\n"
     ]
    }
   ],
   "source": [
    "from risk_utils.risk_utils import RiskAssessor\n",
    "\n",
    "returns = df_ret['r'].to_list()\n",
    "ra = RiskAssessor(np.array(returns))\n",
    "ra.risk_summary()"
   ],
   "metadata": {
    "collapsed": false,
    "pycharm": {
     "name": "#%%\n"
    }
   }
  },
  {
   "cell_type": "code",
   "execution_count": 9,
   "outputs": [],
   "source": [],
   "metadata": {
    "collapsed": false,
    "pycharm": {
     "name": "#%%\n"
    }
   }
  }
 ],
 "metadata": {
  "kernelspec": {
   "display_name": "Python 3",
   "language": "python",
   "name": "python3"
  },
  "language_info": {
   "codemirror_mode": {
    "name": "ipython",
    "version": 2
   },
   "file_extension": ".py",
   "mimetype": "text/x-python",
   "name": "python",
   "nbconvert_exporter": "python",
   "pygments_lexer": "ipython2",
   "version": "2.7.6"
  }
 },
 "nbformat": 4,
 "nbformat_minor": 0
}