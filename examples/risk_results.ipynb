{
 "cells": [
  {
   "cell_type": "code",
   "execution_count": 2,
   "outputs": [],
   "source": [
    "import pandas as pd\n",
    "import numpy as np"
   ],
   "metadata": {
    "collapsed": false,
    "pycharm": {
     "name": "#%%\n"
    }
   }
  },
  {
   "cell_type": "code",
   "execution_count": 3,
   "outputs": [],
   "source": [
    "from database.database_parser import create_connection\n",
    "from database.database_parser import select_curr_solution\n",
    "\n",
    "test_connection = create_connection('../database/abacus_database.db')"
   ],
   "metadata": {
    "collapsed": false,
    "pycharm": {
     "name": "#%%\n"
    }
   }
  },
  {
   "cell_type": "code",
   "execution_count": 4,
   "outputs": [],
   "source": [
    "from database.database_parser import select_price_data\n",
    "\n",
    "def generate_volatility(params, data):\n",
    "    n_observations = len(data)\n",
    "    initial_squared_vol_estimate = (params[0]\n",
    "                                        + params[1] * (data[0] ** 2)\n",
    "                                        + params[3] * (data[0] ** 2) * np.where(data[0] < 0, 1, 0)\n",
    "                                        + params[2] * (data[0] ** 2))\n",
    "    current_squared_vol_estimate = initial_squared_vol_estimate\n",
    "\n",
    "    for i in range(0, n_observations):\n",
    "        current_squared_vol_estimate = (params[0] + params[1] * (data[i - 1] ** 2)\n",
    "                                            + params[3] * (data[i - 1] ** 2) * np.where(data[i - 1] < 0, 1, 0)\n",
    "                                            + params[2] * current_squared_vol_estimate)\n",
    "\n",
    "    return np.sqrt(current_squared_vol_estimate)\n",
    "\n",
    "def get_volatility(asset: str):\n",
    "    opt_sol = select_curr_solution(test_connection, asset)\n",
    "    adj_close = select_price_data(test_connection, asset)\n",
    "    log_returns = np.array(np.log(adj_close / adj_close.shift(1))[1:])\n",
    "    return generate_volatility(params=opt_sol, data=log_returns)"
   ],
   "metadata": {
    "collapsed": false,
    "pycharm": {
     "name": "#%%\n"
    }
   }
  },
  {
   "cell_type": "code",
   "execution_count": 5,
   "outputs": [],
   "source": [
    "from distributions.student_poisson_mixture import spm\n",
    "# Calculate all inverse samples.\n",
    "def generate_samples(us, asset):\n",
    "    opt_sol = select_curr_solution(test_connection, asset)\n",
    "    mu = opt_sol[4]\n",
    "    sigma = get_volatility(asset)[0]\n",
    "    kappa = opt_sol[5]\n",
    "    lamb = opt_sol[6]\n",
    "    nu = opt_sol[7]\n",
    "\n",
    "    for p in us:\n",
    "        s = spm.ppf(p, mu, sigma, kappa, lamb, nu)\n",
    "        print(s.root)"
   ],
   "metadata": {
    "collapsed": false,
    "pycharm": {
     "name": "#%%\n"
    }
   }
  },
  {
   "cell_type": "code",
   "execution_count": 29,
   "outputs": [
    {
     "name": "stdout",
     "output_type": "stream",
     "text": [
      "[[0.05806084 0.10830092 0.79261315 ... 0.28698886 0.21304408 0.06698927]\n",
      " [0.19199837 0.62810547 0.4585476  ... 0.49344329 0.57616201 0.60300312]\n",
      " [0.85327287 0.52715455 0.69477566 ... 0.63470831 0.69612464 0.29218895]\n",
      " ...\n",
      " [0.12185408 0.55500805 0.97048421 ... 0.10141121 0.0330822  0.05961305]\n",
      " [0.1097628  0.92412216 0.49309428 ... 0.63394547 0.30222343 0.50744772]\n",
      " [0.82957789 0.0398039  0.71617357 ... 0.63057063 0.8447574  0.66376797]]\n"
     ]
    }
   ],
   "source": [
    "u_sim = np.loadtxt('u_sim.txt', delimiter=',')\n",
    "print(u_sim)"
   ],
   "metadata": {
    "collapsed": false,
    "pycharm": {
     "name": "#%%\n"
    }
   }
  },
  {
   "cell_type": "code",
   "execution_count": 33,
   "outputs": [
    {
     "name": "stdout",
     "output_type": "stream",
     "text": [
      "-0.02129814096861085\n",
      "0.003363281439190654\n",
      "-0.009168974202755163\n",
      "0.132937656517599\n",
      "-0.2848200304606345\n",
      "-0.07400023424095362\n",
      "-0.05762038410458104\n",
      "0.07956052570507637\n",
      "0.011785128685715442\n",
      "1.0076536834687357\n",
      "-0.060855226048366844\n",
      "-0.03649883461918856\n",
      "-0.2543930241216847\n",
      "1.7202704232515815\n",
      "0.07939045589499462\n",
      "0.0013644893716073293\n",
      "-0.020861869065917273\n",
      "-0.035638441249102835\n",
      "-0.08837352422491172\n",
      "-0.03876602767288805\n",
      "0.046894318857473825\n",
      "-0.4178284041243213\n",
      "-0.014551643536708589\n",
      "0.9024194852956088\n",
      "-0.006474033953872597\n",
      "0.010249205266528321\n",
      "0.6592572777975048\n",
      "-0.1119649651648528\n",
      "-0.007948298949174442\n",
      "-0.08326819067847122\n",
      "0.1014632548030031\n",
      "-0.03270543016696243\n",
      "0.018429788400436197\n",
      "-0.2825827929380343\n",
      "0.054369872001360224\n",
      "0.05857211647085762\n",
      "-0.011462758617087674\n",
      "-0.04768655641159229\n",
      "1.1668622096337957\n",
      "-0.6242255395800783\n",
      "0.017770826865670716\n",
      "-0.8202489351633163\n",
      "0.062417470983824254\n",
      "0.023490234863310748\n",
      "-0.023665963026429013\n",
      "-0.01620301871827069\n",
      "-0.03396966694662568\n",
      "-0.02935539170090125\n",
      "-0.03525553686022814\n",
      "0.002934040754430322\n",
      "-0.8411029534036262\n",
      "-0.09649692927199965\n",
      "0.9414423561434149\n",
      "-0.04944682820917743\n",
      "0.007726226357589739\n",
      "-0.02769352792307799\n",
      "-0.0740991815517662\n",
      "0.2615031613048717\n",
      "-0.9665661548797407\n",
      "0.4079436275065916\n",
      "-0.026004475869408766\n",
      "0.09561208572679267\n",
      "-0.15995794411727668\n",
      "-1.7942947429588667\n",
      "0.010244262268374252\n",
      "0.02840766676144549\n",
      "0.17047167300944188\n",
      "0.06415002491113267\n",
      "0.38154587157745035\n",
      "0.021533593135645943\n",
      "0.3230692172337077\n",
      "0.1257886754233915\n",
      "0.17600109382723958\n",
      "0.4677191166141184\n",
      "-0.9333613610320208\n",
      "-0.12566840011805339\n",
      "-0.9023399850278391\n",
      "-0.07592972253276838\n",
      "-0.022394101687861077\n",
      "0.06831820803530846\n",
      "-0.10875537688892704\n",
      "0.01575431811289201\n",
      "0.04563587429379565\n",
      "0.0027493523523343276\n",
      "0.08279298990638205\n",
      "0.417414239243103\n",
      "-0.07646593790301005\n",
      "0.003497575395414971\n",
      "-0.04254140435234726\n",
      "0.03974546309477588\n",
      "-0.15207310066090124\n",
      "0.06312503733600718\n",
      "-1.8589855173111198\n",
      "-0.11242148476639828\n",
      "0.011302660617130698\n",
      "-0.07537936724805419\n",
      "0.010683597040715821\n",
      "-0.4506496009260155\n",
      "0.001789058660442743\n",
      "0.03309200536091564\n"
     ]
    }
   ],
   "source": [
    "generate_samples(u_sim[:, 4], 'HYG')"
   ],
   "metadata": {
    "collapsed": false,
    "pycharm": {
     "name": "#%%\n"
    }
   }
  },
  {
   "cell_type": "code",
   "execution_count": 8,
   "outputs": [
    {
     "data": {
      "text/plain": "100"
     },
     "execution_count": 8,
     "metadata": {},
     "output_type": "execute_result"
    }
   ],
   "source": [
    "df_ret = pd.read_csv('../database/return_samples/1321.txt')\n",
    "len(df_ret)"
   ],
   "metadata": {
    "collapsed": false,
    "pycharm": {
     "name": "#%%\n"
    }
   }
  },
  {
   "cell_type": "code",
   "execution_count": 9,
   "outputs": [
    {
     "data": {
      "text/plain": "<Figure size 432x288 with 1 Axes>",
      "image/png": "[encoded data removed]"
     },
     "metadata": {
      "needs_background": "light"
     },
     "output_type": "display_data"
    }
   ],
   "source": [
    "from matplotlib import pyplot as plt\n",
    "\n",
    "df_ret.hist(bins=20, edgecolor='black')\n",
    "plt.show()"
   ],
   "metadata": {
    "collapsed": false,
    "pycharm": {
     "name": "#%%\n"
    }
   }
  },
  {
   "cell_type": "code",
   "execution_count": 28,
   "outputs": [
    {
     "name": "stdout",
     "output_type": "stream",
     "text": [
      "======== RISK ASSESSMENT ========\n",
      "VaR95 0.1469107408815382,    ES95 0.4237419251929184\n",
      "VaR99 0.6540247122394408,     ES99 0.7055560561785977\n",
      "EVT VaR99 0.6550702958355813, EVT ES99 0.6853100210384928\n"
     ]
    },
    {
     "name": "stderr",
     "output_type": "stream",
     "text": [
      "/Users/axelnilsson/Desktop/Abacus/risk_utils/risk_utils.py:131: RuntimeWarning: invalid value encountered in log\n",
      "  log_likelihood = log_likelihood + np.log(1 + params[0] / params[1] * obs)\n",
      "/Users/axelnilsson/Desktop/Abacus/risk_utils/risk_utils.py:133: RuntimeWarning: invalid value encountered in log\n",
      "  return n_observations * np.log(params[1]) + (1 + 1 / params[0]) * log_likelihood\n"
     ]
    }
   ],
   "source": [
    "from risk_utils.risk_utils import RiskAssessor\n",
    "\n",
    "returns = df_ret['r'].to_list()\n",
    "ra = RiskAssessor(np.array(returns))\n",
    "ra.risk_summary()"
   ],
   "metadata": {
    "collapsed": false,
    "pycharm": {
     "name": "#%%\n"
    }
   }
  },
  {
   "cell_type": "code",
   "execution_count": null,
   "outputs": [],
   "source": [],
   "metadata": {
    "collapsed": false,
    "pycharm": {
     "name": "#%%\n"
    }
   }
  }
 ],
 "metadata": {
  "kernelspec": {
   "display_name": "Python 3",
   "language": "python",
   "name": "python3"
  },
  "language_info": {
   "codemirror_mode": {
    "name": "ipython",
    "version": 2
   },
   "file_extension": ".py",
   "mimetype": "text/x-python",
   "name": "python",
   "nbconvert_exporter": "python",
   "pygments_lexer": "ipython2",
   "version": "2.7.6"
  }
 },
 "nbformat": 4,
 "nbformat_minor": 0
}