{
 "cells": [
  {
   "cell_type": "code",
   "execution_count": 5,
   "metadata": {
    "pycharm": {
     "name": "#%%\n"
    }
   },
   "outputs": [],
   "source": [
    "import pandas as pd\n",
    "import numpy as np\n",
    "\n",
    "data1 = pd.read_csv('../database/pseudo_observations/vas.txt')\n",
    "data1 = np.array(data1.iloc[::2, :])\n",
    "data1 = np.array([float(i[0]) for i in data1])\n",
    "\n",
    "data2 = pd.read_csv('../database/pseudo_observations/LQD.txt')\n",
    "data2 = np.array(data2.iloc[::2, :])\n",
    "data2 = np.array([float(i[0]) for i in data2])\n",
    "\n",
    "data3 = pd.read_csv('../database/pseudo_observations/HYG.txt')\n",
    "data3 = np.array(data3.iloc[::2, :])\n",
    "data3 = np.array([float(i[0]) for i in data3])\n",
    "\n",
    "data4 = pd.read_csv('../database/pseudo_observations/IEAC.txt')\n",
    "data4 = np.array(data4.iloc[::2, :])\n",
    "data4 = np.array([float(i[0]) for i in data4])\n",
    "\n",
    "data5 = pd.read_csv('../database/pseudo_observations/IVV.txt')\n",
    "data5 = np.array(data5.iloc[::2, :])\n",
    "data5 = np.array([float(i[0]) for i in data5])\n",
    "\n",
    "data6 = pd.read_csv('../database/pseudo_observations/GLD.txt')\n",
    "data6 = np.array(data6.iloc[::2, :])\n",
    "data6 = np.array([float(i[0]) for i in data6])\n",
    "\n",
    "data7 = pd.read_csv('../database/pseudo_observations/1321.txt')\n",
    "data7 = np.array(data7.iloc[::2, :])\n",
    "data7 = np.array([float(i[0]) for i in data7])\n",
    "\n",
    "data8 = pd.read_csv('../database/pseudo_observations/AUD.txt')\n",
    "data8 = np.array(data8.iloc[::2, :])\n",
    "data8 = np.array([float(i[0]) for i in data8])\n",
    "\n",
    "data9 = pd.read_csv('../database/pseudo_observations/EUR.txt')\n",
    "data9 = np.array(data9.iloc[::2, :])\n",
    "data9 = np.array([float(i[0]) for i in data9])\n",
    "\n",
    "data10 = pd.read_csv('../database/pseudo_observations/IEAC.txt')\n",
    "data10 = np.array(data10.iloc[::2, :])\n",
    "data10 = np.array([float(i[0]) for i in data10])"
   ]
  },
  {
   "cell_type": "code",
   "execution_count": 27,
   "metadata": {
    "pycharm": {
     "name": "#%%\n"
    }
   },
   "outputs": [
    {
     "name": "stdout",
     "output_type": "stream",
     "text": [
      "[[0.71928319 0.27945011 0.47239207 ... 0.62038593 0.57277867 0.38955118]\n",
      " [0.4704488  0.52143145 0.50406523 ... 0.30084565 0.61411669 0.55198975]\n",
      " [0.71220833 0.60157051 0.5348449  ... 0.32420093 0.58407173 0.58271997]\n",
      " ...\n",
      " [0.65977126 0.43175131 0.33677661 ... 0.72261656 0.38388255 0.43092455]\n",
      " [0.52357397 0.37263047 0.53923004 ... 0.75875269 0.46857872 0.53012607]\n",
      " [0.20885459 0.47613649 0.61418096 ... 0.23369499 0.43436537 0.40347559]]\n"
     ]
    },
    {
     "data": {
      "text/plain": [
       "<matplotlib.collections.PathCollection at 0x12d2bcd30>"
      ]
     },
     "execution_count": 27,
     "metadata": {},
     "output_type": "execute_result"
    },
    {
     "data": {
      "image/png": "[encoded data removed]",
      "text/plain": [
       "<Figure size 432x288 with 1 Axes>"
      ]
     },
     "metadata": {
      "needs_background": "light"
     },
     "output_type": "display_data"
    }
   ],
   "source": [
    "import pyvinecopulib as pv\n",
    "controls = pv.FitControlsVinecop(family_set=[pv.BicopFamily.gaussian,\n",
    "                                             pv.BicopFamily.clayton,\n",
    "                                             pv.BicopFamily.frank,\n",
    "                                             pv.BicopFamily.gumbel,\n",
    "                                             pv.BicopFamily.bb1])\n",
    "\n",
    "u = np.stack([data1, data2, data3, data4, data5, data6, data7, data8, data9, data10]).T\n",
    "print(u)\n",
    "cop = pv.Vinecop(u, controls=controls)\n",
    "\n",
    "#u_sim = cop.simulate(500)\n",
    "#print(u_sim)\n",
    "\n",
    "from matplotlib import pyplot as plt\n",
    "\n",
    "fig, ax = plt.subplots()\n",
    "ax.set_title('hello')\n",
    "ax.scatter(data1, data2)"
   ]
  },
  {
   "cell_type": "code",
   "execution_count": 22,
   "metadata": {
    "pycharm": {
     "name": "#%%\n"
    }
   },
   "outputs": [
    {
     "data": {
      "text/plain": [
       "<pyvinecopulib.RVineStructure>\n",
       "7 7 18 25 18 25 2 9 9 6 1 1 25 25 23 6 6 2 23 23 2 2 2 10 10 10 10 10 30 30 \n",
       "17 25 8 5 2 1 12 19 6 16 11 25 23 23 2 16 2 10 3 2 12 12 10 30 30 30 30 30 10 \n",
       "25 1 2 23 12 23 22 6 16 26 25 23 2 2 12 2 10 12 2 12 22 10 30 14 14 14 24 24 \n",
       "1 23 12 2 22 2 10 16 26 2 23 2 12 12 3 10 12 22 12 22 10 30 14 20 20 24 14 \n",
       "23 2 22 12 10 12 6 26 2 10 2 12 3 3 13 12 22 23 22 10 30 14 20 24 24 20 \n",
       "2 12 10 3 6 3 16 2 10 12 12 3 5 13 22 22 23 3 10 30 14 20 24 4 4 \n",
       "12 3 6 13 16 5 26 10 12 22 3 5 13 22 10 23 3 13 30 14 20 24 4 2 \n",
       "3 5 16 22 26 11 9 12 22 23 5 13 22 10 6 3 13 30 14 20 24 4 12 \n",
       "5 11 26 10 9 21 19 22 23 3 13 22 10 6 16 13 30 14 20 24 4 22 \n",
       "11 21 9 1 19 13 29 23 3 13 22 10 6 16 26 30 14 20 24 4 23 \n",
       "21 13 19 11 29 22 23 3 13 30 10 6 16 26 30 14 20 24 4 3 \n",
       "13 22 29 21 23 10 3 13 30 25 6 16 26 30 14 20 24 4 13 \n",
       "22 10 23 7 3 6 13 30 25 5 16 26 30 14 20 24 4 6 \n",
       "10 15 3 6 13 16 30 25 5 1 26 30 14 20 24 4 16 \n",
       "15 6 13 16 30 26 25 5 1 11 30 14 20 24 4 26 \n",
       "6 16 30 26 25 30 5 1 11 21 14 20 24 4 25 \n",
       "16 26 25 30 5 14 1 11 21 14 20 24 4 5 \n",
       "26 30 5 14 1 20 11 21 14 20 24 4 1 \n",
       "30 14 1 20 11 24 21 14 20 24 4 11 \n",
       "14 20 11 24 21 9 14 20 24 4 21 \n",
       "20 24 21 9 14 19 20 24 4 9 \n",
       "24 9 14 19 20 29 24 4 19 \n",
       "9 19 20 29 24 18 4 29 \n",
       "19 29 24 18 4 4 18 \n",
       "29 18 4 4 7 7 \n",
       "18 4 7 8 8 \n",
       "4 8 15 15 \n",
       "8 28 28 \n",
       "28 17 \n",
       "27 "
      ]
     },
     "execution_count": 22,
     "metadata": {},
     "output_type": "execute_result"
    }
   ],
   "source": [
    "cop.structure"
   ]
  },
  {
   "cell_type": "code",
   "execution_count": 4,
   "metadata": {
    "pycharm": {
     "name": "#%%\n"
    }
   },
   "outputs": [
    {
     "name": "stdout",
     "output_type": "stream",
     "text": [
      "[[0.62937063 0.75924076 0.22377622 0.23376623 0.34765235]\n",
      " [0.3976024  0.37862138 0.66133866 0.38361638 0.38761239]\n",
      " [0.31668332 0.67832168 0.52747253 0.74025974 0.46853147]\n",
      " ...\n",
      " [0.36563437 0.36563437 0.81518482 0.2997003  0.7042957 ]\n",
      " [0.47652348 0.53746254 0.11588412 0.51148851 0.37662338]\n",
      " [0.59340659 0.37962038 0.52147852 0.15984016 0.92007992]]\n"
     ]
    },
    {
     "data": {
      "text/plain": [
       "[array([[ 2.37095772,  1.72011592,  1.34581349, -2.33400987, -3.1412032 ],\n",
       "        [ 1.72011592,  2.77391072, -0.8386675 , -1.94255384, -3.0356469 ],\n",
       "        [ 1.34581349, -0.8386675 ,  4.73656299, -1.11520579, -1.00737741],\n",
       "        [-2.33400987, -1.94255384, -1.11520579,  6.17099976, -0.86804342],\n",
       "        [-3.1412032 , -3.0356469 , -1.00737741, -0.86804342, 10.39309954]]),\n",
       " array([[ 2.22422017,  1.5946634 ,  1.44467283, -2.24840034, -2.86432409],\n",
       "        [ 1.5946634 ,  2.56490065, -0.64236225, -1.88381331, -2.55280137],\n",
       "        [ 1.44467283, -0.64236225,  4.48378773, -1.21625326, -1.35825765],\n",
       "        [-2.24840034, -1.88381331, -1.21625326,  6.11239488, -1.14967754],\n",
       "        [-2.86432409, -2.55280137, -1.35825765, -1.14967754,  9.93512784]])]"
      ]
     },
     "execution_count": 4,
     "metadata": {},
     "output_type": "execute_result"
    }
   ],
   "source": [
    "# Simulate some data\n",
    "np.random.seed(1234)  # seed for the random generator\n",
    "n = 1000  # number of observations\n",
    "d = 5  # the dimension\n",
    "mean = np.random.normal(size=d)  # mean vector\n",
    "cov = np.random.normal(size=(d, d))  # covariance matrix\n",
    "cov = np.dot(cov.transpose(), cov)  # make it non-negative definite\n",
    "x = np.random.multivariate_normal(mean, cov, n)\n",
    "\n",
    "# Transform copula data using the empirical distribution\n",
    "u = pv.to_pseudo_obs(x)\n",
    "print(u)\n",
    "# Fit a Gaussian vine\n",
    "# (i.e., properly specified since the data is multivariate normal)\n",
    "controls = pv.FitControlsVinecop(family_set=[pv.BicopFamily.gaussian])\n",
    "cop = pv.Vinecop(u, controls=controls)\n",
    "\n",
    "# Sample from the copula\n",
    "n_sim = 1000\n",
    "u_sim = cop.simulate(n_sim, seeds=[1, 2, 3, 4])\n",
    "\n",
    "# Transform back simulations to the original scale\n",
    "x_sim = np.asarray([np.quantile(x[:, i], u_sim[:, i]) for i in range(0, d)])\n",
    "\n",
    "# Both the mean and covariance matrix look ok!\n",
    "[mean, np.mean(x_sim, 1)]\n",
    "[cov, np.cov(x_sim)]"
   ]
  },
  {
   "cell_type": "code",
   "execution_count": 18,
   "metadata": {
    "pycharm": {
     "name": "#%%\n"
    }
   },
   "outputs": [
    {
     "data": {
      "text/plain": [
       "      converged: True\n",
       "           flag: 'converged'\n",
       " function_calls: 7\n",
       "     iterations: 6\n",
       "           root: 0.0004246556002506937"
      ]
     },
     "execution_count": 18,
     "metadata": {},
     "output_type": "execute_result"
    }
   ],
   "source": [
    "from database.database_parser import create_connection\n",
    "from database.database_parser import select_curr_solution\n",
    "from distributions.student_poisson_mixture import spm\n",
    "\n",
    "# Testing extracting optimal solutions\n",
    "test_connection = create_connection('../database/abacus_database.db')\n",
    "opt_sol = select_curr_solution(test_connection, 'HYG')\n",
    "\n",
    "# Test running inverse CDF. ~ 5 seconds.\n",
    "spm.ppf(0.5, 0, 1, 10, 0.15, 4)"
   ]
  },
  {
   "cell_type": "code",
   "execution_count": null,
   "metadata": {
    "pycharm": {
     "name": "#%%\n"
    }
   },
   "outputs": [],
   "source": []
  }
 ],
 "metadata": {
  "kernelspec": {
   "display_name": "Python 3 (ipykernel)",
   "language": "python",
   "name": "python3"
  },
  "language_info": {
   "codemirror_mode": {
    "name": "ipython",
    "version": 3
   },
   "file_extension": ".py",
   "mimetype": "text/x-python",
   "name": "python",
   "nbconvert_exporter": "python",
   "pygments_lexer": "ipython3",
   "version": "3.9.7"
  }
 },
 "nbformat": 4,
 "nbformat_minor": 1
}
