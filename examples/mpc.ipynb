{
 "cells": [
  {
   "cell_type": "code",
   "execution_count": 6,
   "metadata": {},
   "outputs": [],
   "source": [
    "import cvxpy\n",
    "import numpy as np"
   ]
  },
  {
   "cell_type": "code",
   "execution_count": 11,
   "metadata": {},
   "outputs": [],
   "source": [
    "def power_utility(x: float, gamma: float) -> float:\n",
    "    \"\"\"Constant RRA utility function. Optimal for investments (source Jorgen).\n",
    "\n",
    "    Args:\n",
    "        x (float): variable value\n",
    "        gamma (float): risk aversion parameter\n",
    "\n",
    "    Raises:\n",
    "        ValueError: if gamma is greater than 1.\n",
    "\n",
    "    Returns:\n",
    "        float: utility of x.\n",
    "    \"\"\"\n",
    "\n",
    "    if gamma > 1:\n",
    "        raise ValueError(\"Value of gamma is larger than 1.\")\n",
    "    if gamma != 0:\n",
    "        return x ** gamma / gamma\n",
    "    else:\n",
    "        return np.log(x)"
   ]
  }
 ],
 "metadata": {
  "kernelspec": {
   "display_name": "Python 3.9.7 ('venv': venv)",
   "language": "python",
   "name": "python3"
  },
  "language_info": {
   "codemirror_mode": {
    "name": "ipython",
    "version": 3
   },
   "file_extension": ".py",
   "mimetype": "text/x-python",
   "name": "python",
   "nbconvert_exporter": "python",
   "pygments_lexer": "ipython3",
   "version": "3.9.7"
  },
  "orig_nbformat": 4,
  "vscode": {
   "interpreter": {
    "hash": "3a2f4b4f10cd87b6ae29d601e10e672c9ceebc9e62357307c33f1963c2cf5df2"
   }
  }
 },
 "nbformat": 4,
 "nbformat_minor": 2
}
