{
 "cells": [
  {
   "cell_type": "code",
   "execution_count": null,
   "metadata": {},
   "outputs": [
    {
     "ename": "",
     "evalue": "",
     "output_type": "error",
     "traceback": [
      "\u001b[1;31mFailed to start the Kernel. \n",
      "\u001b[1;31mUnhandled error. \n",
      "View Jupyter <a href='command:jupyter.viewOutput'>log</a> for further details."
     ]
    }
   ],
   "source": [
    "import cvxpy as cp\n",
    "import numpy as np\n",
    "\n",
    "from abacus.simulator.forecaster import Forecaster\n",
    "from abacus.instruments import Equity"
   ]
  },
  {
   "cell_type": "code",
   "execution_count": 8,
   "metadata": {},
   "outputs": [],
   "source": [
    "# Create stocks\n",
    "start = \"2005-12-28\"\n",
    "end = \"2022-07-11\"\n",
    "interval = \"wk\"\n",
    "stock1 = Equity(\n",
    "    ric=\"XOM\", currency=\"USD\", start_date=start, end_date=end, interval=interval\n",
    ")\n",
    "stock2 = Equity(\n",
    "    ric=\"CVX\", currency=\"USD\", start_date=start, end_date=end, interval=interval\n",
    ")\n",
    "stock3 = Equity(\n",
    "    ric=\"^GSPC\", currency=\"USD\", start_date=start, end_date=end, interval=interval\n",
    ")\n",
    "stock4 = Equity(\n",
    "    ric=\"WFC\", currency=\"USD\", start_date=start, end_date=end, interval=interval\n",
    ")\n",
    "stock5 = Equity(\n",
    "    ric=\"MSFT\", currency=\"USD\", start_date=start, end_date=end, interval=interval\n",
    ")"
   ]
  },
  {
   "cell_type": "code",
   "execution_count": 9,
   "metadata": {},
   "outputs": [
    {
     "name": "stdout",
     "output_type": "stream",
     "text": [
      " [0.07966371 0.8354153  0.09930469] True\n",
      " [0.06109367 0.79387684 0.18175293] False\n",
      " [0.02161618 0.68328501 0.43294249] False\n",
      " [0.04267159 0.84278178 0.19959358] True\n",
      " [0.0223187  0.85344109 0.09842467] True\n"
     ]
    }
   ],
   "source": [
    "instruments = [stock1, stock2, stock3, stock4, stock5]\n",
    "forc = Forecaster(instruments=instruments, number_of_steps=5)\n",
    "forecasted_returns = forc.forecast_returns()"
   ]
  },
  {
   "cell_type": "code",
   "execution_count": 10,
   "metadata": {},
   "outputs": [
    {
     "name": "stdout",
     "output_type": "stream",
     "text": [
      "[-0.30949587 -0.15082372 -0.08620045 -0.20058877 -0.06534762]\n",
      "[-0.54944713 -0.17041895 -0.06947756 -0.26894178 -0.09155867]\n",
      "[-0.0519995  -0.0594126  -0.01163617 -0.00751716 -0.14104783]\n",
      "[-0.19896409  0.07893548 -0.37976471 -0.29079285 -0.17944301]\n",
      "[ 0.00806246 -0.24160369  0.136986   -0.11276475 -0.09367429]\n"
     ]
    }
   ],
   "source": [
    "for row in forecasted_returns:\n",
    "    print(row*100)"
   ]
  },
  {
   "cell_type": "code",
   "execution_count": 11,
   "metadata": {},
   "outputs": [
    {
     "data": {
      "text/plain": [
       "array([0., 0., 0., 0., 0.])"
      ]
     },
     "execution_count": 11,
     "metadata": {},
     "output_type": "execute_result"
    }
   ],
   "source": [
    "cash_returns = np.zeros(5)\n",
    "cash_returns"
   ]
  },
  {
   "cell_type": "code",
   "execution_count": 12,
   "metadata": {},
   "outputs": [],
   "source": [
    "forecasted_returns = np.vstack([cash_returns, forecasted_returns])"
   ]
  },
  {
   "cell_type": "code",
   "execution_count": 13,
   "metadata": {},
   "outputs": [
    {
     "name": "stdout",
     "output_type": "stream",
     "text": [
      "[0. 0. 0. 0. 0.]\n",
      "[-0.31 -0.15 -0.09 -0.2  -0.07]\n",
      "[-0.55 -0.17 -0.07 -0.27 -0.09]\n",
      "[-0.05 -0.06 -0.01 -0.01 -0.14]\n",
      "[-0.2   0.08 -0.38 -0.29 -0.18]\n",
      "[ 0.01 -0.24  0.14 -0.11 -0.09]\n"
     ]
    }
   ],
   "source": [
    "for row in forecasted_returns:\n",
    "    print(np.round(row*100, 2))"
   ]
  },
  {
   "cell_type": "code",
   "execution_count": 14,
   "metadata": {},
   "outputs": [],
   "source": [
    "number_of_assets = 6\n",
    "number_of_steps = 5"
   ]
  },
  {
   "cell_type": "code",
   "execution_count": null,
   "metadata": {},
   "outputs": [],
   "source": []
  },
  {
   "cell_type": "code",
   "execution_count": 15,
   "metadata": {},
   "outputs": [],
   "source": [
    "Z = cp.Variable((number_of_assets, number_of_steps))\n",
    "W = cp.Variable((number_of_assets, number_of_steps-1))\n",
    "R = forecasted_returns\n",
    "ones = np.ones(number_of_assets)\n",
    "init_portfolio = np.array([1/6, 1/6, 1/6, 1/6, 1/6, 1/6])\n",
    "\n",
    "cost = 0\n",
    "constr = []\n",
    "\n",
    "# Building the objective function.\n",
    "for t in range(number_of_steps):\n",
    "    if t == 0:\n",
    "        cost += R[:,t].T @ Z[:,t]\n",
    "    else:\n",
    "        cost += R[:,t].T @ (W[:,t-1] + Z[:,t])\n",
    "\n",
    "# Bulding cost & constraints.\n",
    "for t in range(number_of_steps):    \n",
    "    if t == 0:\n",
    "        constr += [ones.T @ Z[:,t] == 0,\n",
    "                  Z[:,t] <= 1,\n",
    "                  W[:,t] == init_portfolio + Z[:,t],\n",
    "                  W[:,t] >= 0,\n",
    "                  W[:,t] <= 1]\n",
    "    else:\n",
    "        constr += [ones.T @ Z[:,t] == 0,\n",
    "                  Z[:,t] <= 1,\n",
    "                  ]\n",
    "        if t < number_of_steps-1:\n",
    "            constr += [W[:,t] == W[:,t-1] + Z[:,t],\n",
    "                       W[:,t] >= 0,\n",
    "                       W[:,t] <= 1]"
   ]
  },
  {
   "cell_type": "code",
   "execution_count": 16,
   "metadata": {},
   "outputs": [],
   "source": [
    "problem = cp.Problem(cp.Maximize(cost), constr)"
   ]
  },
  {
   "cell_type": "code",
   "execution_count": 17,
   "metadata": {},
   "outputs": [
    {
     "name": "stdout",
     "output_type": "stream",
     "text": [
      "===============================================================================\n",
      "                                     CVXPY                                     \n",
      "                                     v1.2.1                                    \n",
      "===============================================================================\n",
      "(CVXPY) Aug 21 11:51:52 PM: Your problem has 54 variables, 22 constraints, and 0 parameters.\n",
      "(CVXPY) Aug 21 11:51:52 PM: It is compliant with the following grammars: DCP, DQCP\n",
      "(CVXPY) Aug 21 11:51:52 PM: (If you need to solve this problem multiple times, but with different data, consider using parameters.)\n",
      "(CVXPY) Aug 21 11:51:52 PM: CVXPY will first compile your problem; then, it will invoke a numerical solver to obtain a solution.\n",
      "-------------------------------------------------------------------------------\n",
      "                                  Compilation                                  \n",
      "-------------------------------------------------------------------------------\n",
      "(CVXPY) Aug 21 11:51:52 PM: Compiling problem (target solver=ECOS).\n",
      "(CVXPY) Aug 21 11:51:52 PM: Reduction chain: FlipObjective -> Dcp2Cone -> CvxAttr2Constr -> ConeMatrixStuffing -> ECOS\n",
      "(CVXPY) Aug 21 11:51:52 PM: Applying reduction FlipObjective\n",
      "(CVXPY) Aug 21 11:51:52 PM: Applying reduction Dcp2Cone\n",
      "(CVXPY) Aug 21 11:51:52 PM: Applying reduction CvxAttr2Constr\n",
      "(CVXPY) Aug 21 11:51:52 PM: Applying reduction ConeMatrixStuffing\n",
      "(CVXPY) Aug 21 11:51:52 PM: Applying reduction ECOS\n",
      "(CVXPY) Aug 21 11:51:52 PM: Finished problem compilation (took 1.616e-02 seconds).\n",
      "-------------------------------------------------------------------------------\n",
      "                                Numerical solver                               \n",
      "-------------------------------------------------------------------------------\n",
      "(CVXPY) Aug 21 11:51:52 PM: Invoking solver ECOS  to obtain a solution.\n",
      "\n",
      "ECOS 2.0.10 - (C) embotech GmbH, Zurich Switzerland, 2012-15. Web: www.embotech.com/ECOS\n",
      "\n",
      "It     pcost       dcost      gap   pres   dres    k/t    mu     step   sigma     IR    |   BT\n",
      "-------------------------------------------------------------------------------\n",
      "                                    Summary                                    \n",
      "-------------------------------------------------------------------------------\n",
      "(CVXPY) Aug 21 11:51:52 PM: Problem status: optimal\n",
      " 0  +4.009e-03  -5.406e+01  +5e+01  6e-03  6e-01  1e+00  7e-01    ---    ---    1  1  - |  -  - \n",
      " 1  +3.991e-03  -5.872e-01  +6e-01  6e-05  5e-02  1e-02  8e-03  0.9890  1e-04   0  0  0 |  0  0\n",
      " 2  +2.753e-03  -7.320e-02  +8e-02  8e-06  8e-03  1e-03  1e-03  0.8738  3e-03   0  0  0 |  0  0\n",
      " 3  -4.393e-03  -2.723e-02  +2e-02  2e-06  2e-03  3e-04  3e-04  0.9088  2e-01   0  0  0 |  0  0\n",
      " 4  -7.645e-03  -1.148e-02  +4e-03  3e-07  4e-04  5e-05  5e-05  0.9012  8e-02   1  0  0 |  0  0\n",
      " 5  -8.968e-03  -9.370e-03  +4e-04  3e-08  4e-05  5e-06  5e-06  0.9230  3e-02   1  0  0 |  0  0\n",
      " 6  -9.110e-03  -9.172e-03  +6e-05  4e-09  6e-06  8e-07  8e-07  0.8831  4e-02   1  0  0 |  0  0\n",
      " 7  -9.132e-03  -9.133e-03  +1e-06  6e-11  9e-08  1e-08  1e-08  0.9878  3e-03   1  0  0 |  0  0\n",
      " 8  -9.132e-03  -9.132e-03  +1e-08  7e-13  1e-09  1e-10  1e-10  0.9890  1e-04   1  0  0 |  0  0\n",
      " 9  -9.132e-03  -9.132e-03  +1e-10  8e-15  1e-11  2e-12  2e-12  0.9890  1e-04   1  0  0 |  0  0\n",
      "\n",
      "OPTIMAL (within feastol=1.1e-11, reltol=1.3e-08, abstol=1.2e-10).\n",
      "Runtime: 0.000422 seconds.\n",
      "\n",
      "(CVXPY) Aug 21 11:51:52 PM: Optimal value: 9.132e-03\n",
      "(CVXPY) Aug 21 11:51:52 PM: Compilation took 1.616e-02 seconds\n",
      "(CVXPY) Aug 21 11:51:52 PM: Solver (including time spent in interface) took 5.698e-04 seconds\n"
     ]
    },
    {
     "data": {
      "text/plain": [
       "0.00913211282768442"
      ]
     },
     "execution_count": 17,
     "metadata": {},
     "output_type": "execute_result"
    }
   ],
   "source": [
    "problem.solve(verbose=True)"
   ]
  },
  {
   "cell_type": "code",
   "execution_count": 18,
   "metadata": {},
   "outputs": [
    {
     "name": "stdout",
     "output_type": "stream",
     "text": [
      "[[2.09870360e-08 3.61242771e-09 3.05020082e-09 9.99999996e-01]\n",
      " [3.34919430e-10 6.41977730e-10 7.21613191e-10 5.77873789e-10]\n",
      " [1.98876968e-10 5.78576708e-10 8.27239691e-10 3.81809347e-10]\n",
      " [1.35344474e-09 1.51485852e-09 1.50713773e-09 1.78147432e-09]\n",
      " [5.99202924e-10 9.99999993e-01 2.46663686e-10 2.85568637e-10]\n",
      " [9.99999977e-01 4.57901944e-10 9.99999994e-01 8.69215876e-10]]\n"
     ]
    }
   ],
   "source": [
    "print(W.value)"
   ]
  },
  {
   "cell_type": "code",
   "execution_count": 19,
   "metadata": {},
   "outputs": [
    {
     "name": "stdout",
     "output_type": "stream",
     "text": [
      "[[-1.66666646e-01 -1.73746112e-08 -5.62229211e-10  9.99999993e-01\n",
      "   9.99999999e-01]\n",
      " [-1.66666666e-01  3.07055389e-10  7.96331104e-11 -1.43740964e-10\n",
      "   9.99999999e-01]\n",
      " [-1.66666666e-01  3.79696787e-10  2.48660475e-10 -4.45431868e-10\n",
      "   9.99999998e-01]\n",
      " [-1.66666665e-01  1.61410962e-10 -7.72320378e-12  2.74334922e-10\n",
      "   9.99999996e-01]\n",
      " [-1.66666666e-01  9.99999993e-01 -9.99999993e-01  3.89034387e-11\n",
      "  -4.99999999e+00]\n",
      " [ 8.33333310e-01 -9.99999976e-01  9.99999993e-01 -9.99999993e-01\n",
      "   9.99999998e-01]]\n"
     ]
    }
   ],
   "source": [
    "print(Z.value)"
   ]
  },
  {
   "cell_type": "code",
   "execution_count": 20,
   "metadata": {},
   "outputs": [
    {
     "name": "stdout",
     "output_type": "stream",
     "text": [
      "1.0000000000000215\n",
      "1.0000000000000422\n",
      "1.0000000000000582\n",
      "1.000000000000069\n"
     ]
    }
   ],
   "source": [
    "for i in range(number_of_steps-1):\n",
    "    print(np.sum(W.value[:,i]))"
   ]
  },
  {
   "cell_type": "code",
   "execution_count": null,
   "metadata": {},
   "outputs": [],
   "source": []
  },
  {
   "cell_type": "code",
   "execution_count": 21,
   "metadata": {},
   "outputs": [],
   "source": [
    "def power_utility(x: float, gamma: float) -> float:\n",
    "    \"\"\"Constant RRA utility function. Optimal for investments (source Jorgen).\n",
    "\n",
    "    Args:\n",
    "        x (float): variable value\n",
    "        gamma (float): risk aversion parameter\n",
    "\n",
    "    Raises:\n",
    "        ValueError: if gamma is greater than 1.\n",
    "\n",
    "    Returns:\n",
    "        float: utility of x.\n",
    "    \"\"\"\n",
    "\n",
    "    if gamma > 1:\n",
    "        raise ValueError(\"Value of gamma is larger than 1.\")\n",
    "    if gamma != 0:\n",
    "        return x ** gamma / gamma\n",
    "    else:\n",
    "        return np.log(x)"
   ]
  },
  {
   "cell_type": "markdown",
   "metadata": {},
   "source": [
    "Without any constraints the portfolio simply invests eveything into the stock with the largest return."
   ]
  },
  {
   "cell_type": "code",
   "execution_count": 22,
   "metadata": {},
   "outputs": [
    {
     "data": {
      "image/png": "[encoded data removed]",
      "text/plain": [
       "<Figure size 432x288 with 4 Axes>"
      ]
     },
     "metadata": {},
     "output_type": "display_data"
    }
   ],
   "source": [
    "from matplotlib import pyplot as plt \n",
    "labels = 'cash', 'XOM', 'CVX', 'GSPC', 'WFC', 'MSFT'\n",
    "explode = (0, 0.1, 0, 0, 0, 0)  # only \"explode\" the 2nd slice (i.e. 'Hogs')\n",
    "period_one = W.value[:,0]\n",
    "period_two = W.value[:,1]\n",
    "period_thr = W.value[:,2]\n",
    "period_fou = W.value[:,3]\n",
    "\n",
    "fig, ax = plt.subplots(1, 4)\n",
    "ax[0].pie(period_one)\n",
    "ax[1].pie(period_two)\n",
    "ax[2].pie(period_thr)\n",
    "ax[3].pie(period_fou)\n",
    "\n",
    "fig.legend(labels, ncol=6)\n",
    "plt.show()\n"
   ]
  },
  {
   "cell_type": "markdown",
   "metadata": {},
   "source": [
    "Looking at the forecasts below we see why."
   ]
  },
  {
   "cell_type": "code",
   "execution_count": 23,
   "metadata": {},
   "outputs": [
    {
     "data": {
      "text/plain": [
       "array([[ 0.00000000e+00,  0.00000000e+00,  0.00000000e+00,\n",
       "         0.00000000e+00,  0.00000000e+00],\n",
       "       [-3.09495866e-03, -1.50823718e-03, -8.62004482e-04,\n",
       "        -2.00588773e-03, -6.53476205e-04],\n",
       "       [-5.49447126e-03, -1.70418948e-03, -6.94775621e-04,\n",
       "        -2.68941777e-03, -9.15586747e-04],\n",
       "       [-5.19995009e-04, -5.94125966e-04, -1.16361724e-04,\n",
       "        -7.51716290e-05, -1.41047825e-03],\n",
       "       [-1.98964087e-03,  7.89354800e-04, -3.79764713e-03,\n",
       "        -2.90792846e-03, -1.79443014e-03],\n",
       "       [ 8.06245924e-05, -2.41603686e-03,  1.36986003e-03,\n",
       "        -1.12764754e-03, -9.36742919e-04]])"
      ]
     },
     "execution_count": 23,
     "metadata": {},
     "output_type": "execute_result"
    }
   ],
   "source": [
    "forecasted_returns"
   ]
  },
  {
   "cell_type": "markdown",
   "metadata": {},
   "source": [
    "The objective function is maximized by investing the whole portfolio into "
   ]
  },
  {
   "cell_type": "code",
   "execution_count": null,
   "metadata": {},
   "outputs": [],
   "source": []
  },
  {
   "cell_type": "code",
   "execution_count": null,
   "metadata": {},
   "outputs": [],
   "source": []
  },
  {
   "cell_type": "markdown",
   "metadata": {},
   "source": [
    "Incorporating risk aversion"
   ]
  },
  {
   "cell_type": "code",
   "execution_count": 30,
   "metadata": {},
   "outputs": [],
   "source": [
    "Z = cp.Variable((number_of_assets, number_of_steps))\n",
    "W = cp.Variable((number_of_assets, number_of_steps-1))\n",
    "R = forecasted_returns\n",
    "ones = np.ones(number_of_assets)\n",
    "init_portfolio = np.array([1, 0, 0, 0, 0, 0])\n",
    "\n",
    "cost = 0\n",
    "constr = []\n",
    "\n",
    "# Building the objective function.\n",
    "for t in range(number_of_steps):\n",
    "    if t == 0:\n",
    "        cost += R[:,t].T @ Z[:,t]\n",
    "    else:\n",
    "        cost += R[:,t].T @ (W[:,t-1] + Z[:,t])\n",
    "cost = cp.log(cost)\n",
    "\n",
    "# Bulding cost & constraints.\n",
    "for t in range(number_of_steps):    \n",
    "    if t == 0:\n",
    "        constr += [ones.T @ Z[:,t] == 0,\n",
    "                  Z[:,t] <= 1,\n",
    "                  W[:,t] == init_portfolio + Z[:,t],\n",
    "                  W[:,t] >= 0,\n",
    "                  W[:,t] <= 1]\n",
    "    else:\n",
    "        constr += [ones.T @ Z[:,t] == 0,\n",
    "                  Z[:,t] <= 1,\n",
    "                  ]\n",
    "        if t < number_of_steps-1:\n",
    "            constr += [W[:,t] == W[:,t-1] + Z[:,t],\n",
    "                       W[:,t] >= 0,\n",
    "                       W[:,t] <= 1]\n",
    "\n",
    "                "
   ]
  },
  {
   "cell_type": "code",
   "execution_count": 31,
   "metadata": {},
   "outputs": [],
   "source": [
    "problem_risk_aversion = cp.Problem(cp.Maximize(cost), constr)"
   ]
  },
  {
   "cell_type": "code",
   "execution_count": 32,
   "metadata": {},
   "outputs": [
    {
     "name": "stdout",
     "output_type": "stream",
     "text": [
      "===============================================================================\n",
      "                                     CVXPY                                     \n",
      "                                     v1.2.1                                    \n",
      "===============================================================================\n",
      "(CVXPY) Aug 22 01:40:24 AM: Your problem has 54 variables, 22 constraints, and 0 parameters.\n",
      "(CVXPY) Aug 22 01:40:24 AM: It is compliant with the following grammars: DCP, DQCP\n",
      "(CVXPY) Aug 22 01:40:24 AM: (If you need to solve this problem multiple times, but with different data, consider using parameters.)\n",
      "(CVXPY) Aug 22 01:40:24 AM: CVXPY will first compile your problem; then, it will invoke a numerical solver to obtain a solution.\n",
      "-------------------------------------------------------------------------------\n",
      "                                  Compilation                                  \n",
      "-------------------------------------------------------------------------------\n",
      "(CVXPY) Aug 22 01:40:24 AM: Compiling problem (target solver=ECOS).\n",
      "(CVXPY) Aug 22 01:40:24 AM: Reduction chain: FlipObjective -> Dcp2Cone -> CvxAttr2Constr -> ConeMatrixStuffing -> ECOS\n",
      "(CVXPY) Aug 22 01:40:24 AM: Applying reduction FlipObjective\n",
      "(CVXPY) Aug 22 01:40:24 AM: Applying reduction Dcp2Cone\n",
      "(CVXPY) Aug 22 01:40:24 AM: Applying reduction CvxAttr2Constr\n",
      "(CVXPY) Aug 22 01:40:24 AM: Applying reduction ConeMatrixStuffing\n",
      "(CVXPY) Aug 22 01:40:24 AM: Applying reduction ECOS\n",
      "(CVXPY) Aug 22 01:40:24 AM: Finished problem compilation (took 2.180e-02 seconds).\n",
      "-------------------------------------------------------------------------------\n",
      "                                Numerical solver                               \n",
      "-------------------------------------------------------------------------------\n",
      "(CVXPY) Aug 22 01:40:24 AM: Invoking solver ECOS  to obtain a solution.\n",
      "\n",
      "ECOS 2.0.10 - (C) embotech GmbH, Zurich Switzerland, 2012-15. Web: www.embotech.com/ECOS\n",
      "\n",
      "It     pcost       dcost      gap   pres   dres    k/t    mu     step   sigma     IR    |   BT\n",
      " 0  +0.000e+00  -5.455e+01  +8e+01  1e+00  5e-01  1e+00  1e+00    ---    ---    0  0  - |  -  - \n",
      " 1  +2.236e-01  -3.048e+01  +5e+01  3e-01  3e-01  6e-01  6e-01  0.4945  2e-01   1  1  1 |  1  3\n",
      " 2  +6.436e-01  -1.617e+01  +3e+01  1e-01  2e-01  3e-01  3e-01  0.5013  2e-01   1  1  1 |  2  3\n",
      " 3  +8.993e-01  -1.148e+01  +2e+01  9e-02  1e-01  2e-01  2e-01  0.5013  5e-01   1  1  1 |  6  3\n",
      " 4  +1.168e+00  -9.891e+00  +2e+01  8e-02  1e-01  2e-01  2e-01  0.9791  8e-01   1  1  1 | 12  0\n",
      " 5  +1.413e+00  -6.826e+00  +1e+01  5e-02  9e-02  1e-01  1e-01  0.5013  5e-01   1  1  1 |  6  3\n",
      " 6  +1.620e+00  -5.945e+00  +8e+00  5e-02  8e-02  1e-01  1e-01  0.9791  8e-01   1  1  1 | 12  0\n",
      " 7  +1.872e+00  -3.771e+00  +5e+00  4e-02  6e-02  1e-01  7e-02  0.5013  4e-01   1  1  1 |  6  3\n",
      " 8  +2.036e+00  -3.222e+00  +4e+00  3e-02  6e-02  9e-02  5e-02  0.9791  8e-01   1  1  1 | 12  0\n",
      " 9  +2.275e+00  -1.728e+00  +3e+00  3e-02  4e-02  7e-02  3e-02  0.5013  4e-01   1  1  1 |  6  3\n",
      "10  +2.394e+00  -1.434e+00  +2e+00  3e-02  4e-02  7e-02  2e-02  0.9791  8e-01   1  1  1 | 12  0\n",
      "11  +2.611e+00  -3.926e-01  +1e+00  2e-02  3e-02  6e-02  2e-02  0.5013  4e-01   1  1  1 |  6  3\n",
      "12  +2.770e+00  +1.096e-01  +9e-01  2e-02  3e-02  5e-02  1e-02  0.9791  7e-01   2  1  1 | 10  0\n",
      "13  +2.960e+00  +7.979e-01  +6e-01  2e-02  2e-02  4e-02  7e-03  0.6266  5e-01   2  1  1 |  7  2\n",
      "14  +3.004e+00  +8.233e-01  +4e-01  2e-02  3e-02  4e-02  5e-03  0.9791  8e-01   2  1  1 | 12  0\n",
      "15  +3.220e+00  +1.522e+00  +2e-01  1e-02  2e-02  4e-02  3e-03  0.6266  5e-01   2  1  1 |  6  2\n",
      "16  +3.374e+00  +1.910e+00  +2e-01  1e-02  2e-02  3e-02  2e-03  0.9791  7e-01   1  1  1 |  9  0\n",
      "17  +3.555e+00  +2.369e+00  +8e-02  1e-02  2e-02  3e-02  1e-03  0.9791  6e-01   2  1  1 |  8  0\n",
      "18  +3.530e+00  +2.254e+00  +7e-02  1e-02  2e-02  3e-02  8e-04  0.9791  9e-01   2  1  1 | 15  0\n",
      "19  +3.761e+00  +2.828e+00  +4e-02  1e-02  1e-02  2e-02  5e-04  0.6266  4e-01   2  1  1 |  5  2\n",
      "20  +3.713e+00  +2.681e+00  +3e-02  1e-02  2e-02  3e-02  4e-04  0.9791  1e+00   2  1  1 | 20  0\n",
      "21  +3.888e+00  +3.079e+00  +2e-02  9e-03  1e-02  2e-02  3e-04  0.5013  4e-01   1  1  1 |  5  3\n",
      "22  +4.013e+00  +3.329e+00  +1e-02  8e-03  1e-02  2e-02  2e-04  0.9791  7e-01   1  1  1 |  9  0\n",
      "23  +4.064e+00  +3.411e+00  +9e-03  9e-03  1e-02  2e-02  1e-04  0.9791  8e-01   2  1  1 | 11  0\n",
      "24  +4.181e+00  +3.643e+00  +6e-03  7e-03  1e-02  2e-02  7e-05  0.6266  5e-01   2  1  1 |  7  2\n",
      "25  +4.255e+00  +3.774e+00  +4e-03  7e-03  1e-02  2e-02  5e-05  0.9791  7e-01   2  1  1 | 10  0\n",
      "26  +4.358e+00  +3.966e+00  +3e-03  6e-03  9e-03  1e-02  3e-05  0.6266  5e-01   2  1  1 |  7  2\n",
      "27  +4.404e+00  +4.041e+00  +2e-03  5e-03  9e-03  1e-02  2e-05  0.9791  8e-01   1  1  1 | 11  0\n",
      "28  +4.515e+00  +4.242e+00  +1e-03  4e-03  7e-03  1e-02  1e-05  0.6266  5e-01   2  1  1 |  6  2\n",
      "29  +4.534e+00  +4.270e+00  +9e-04  4e-03  7e-03  1e-02  1e-05  0.9791  9e-01   1  1  1 | 13  0\n",
      "30  +4.621e+00  +4.424e+00  +6e-04  3e-03  5e-03  8e-03  7e-06  0.5013  4e-01   2  1  1 |  5  3\n",
      "31  +4.703e+00  +4.563e+00  +4e-04  2e-03  4e-03  6e-03  4e-06  0.9791  6e-01   2  1  1 |  8  0\n",
      "32  +4.703e+00  +4.560e+00  +3e-04  2e-03  4e-03  6e-03  4e-06  0.9791  1e+00   2  1  1 | 18  0\n",
      "33  +4.770e+00  +4.674e+00  +2e-04  2e-03  3e-03  4e-03  2e-06  0.5013  3e-01   1  1  1 |  4  3\n",
      "34  +4.807e+00  +4.735e+00  +1e-04  1e-03  2e-03  3e-03  2e-06  0.9791  7e-01   2  1  1 |  9  0\n",
      "35  +4.840e+00  +4.790e+00  +8e-05  8e-04  1e-03  2e-03  1e-06  0.6266  5e-01   2  1  1 |  6  2\n",
      "36  +4.848e+00  +4.802e+00  +7e-05  8e-04  1e-03  2e-03  8e-07  0.9791  9e-01   2  1  1 | 13  0\n",
      "37  +4.883e+00  +4.860e+00  +3e-05  4e-04  7e-04  1e-03  4e-07  0.6266  2e-01   1  1  1 |  3  2\n",
      "38  +4.889e+00  +4.869e+00  +3e-05  3e-04  6e-04  1e-03  3e-07  0.9791  8e-01   2  1  1 | 12  0\n",
      "39  +4.906e+00  +4.898e+00  +1e-05  1e-04  3e-04  5e-04  1e-07  0.6266  9e-02   2  1  1 |  2  2\n",
      "40  +4.915e+00  +4.912e+00  +4e-06  5e-05  1e-04  2e-04  5e-08  0.9791  3e-01   1  1  1 |  5  0\n",
      "41  +4.919e+00  +4.918e+00  +1e-06  2e-05  3e-05  6e-05  2e-08  0.9791  3e-01   1  1  1 |  5  0\n",
      "42  +4.920e+00  +4.919e+00  +5e-07  7e-06  1e-05  2e-05  6e-09  0.6266  5e-02   1  1  1 |  2  2\n",
      "43  +4.920e+00  +4.920e+00  +1e-07  2e-06  4e-06  6e-06  2e-09  0.7833  5e-02   2  1  1 |  2  1\n",
      "44  +4.920e+00  +4.920e+00  +4e-08  6e-07  1e-06  2e-06  5e-10  0.9791  3e-01   1  1  1 |  5  0\n",
      "45  +4.920e+00  +4.920e+00  +1e-09  2e-08  3e-08  6e-08  2e-11  0.9791  9e-03   1  1  1 |  1  0\n",
      "46  +4.920e+00  +4.920e+00  +1e-09  2e-08  3e-08  5e-08  1e-11  0.2567  5e-01   1  0  0 |  7  6\n",
      "47  +4.920e+00  +4.920e+00  +3e-10  4e-09  7e-09  1e-08  3e-12  0.7833  9e-03   1  0  0 |  1  1\n",
      "\n",
      "OPTIMAL (within feastol=6.8e-09, reltol=5.1e-11, abstol=2.5e-10).\n",
      "Runtime: 0.001779 seconds.\n",
      "\n",
      "-------------------------------------------------------------------------------\n",
      "                                    Summary                                    \n",
      "-------------------------------------------------------------------------------\n",
      "(CVXPY) Aug 22 01:40:24 AM: Problem status: optimal\n",
      "(CVXPY) Aug 22 01:40:24 AM: Optimal value: -4.920e+00\n",
      "(CVXPY) Aug 22 01:40:24 AM: Compilation took 2.180e-02 seconds\n",
      "(CVXPY) Aug 22 01:40:24 AM: Solver (including time spent in interface) took 2.292e-03 seconds\n"
     ]
    },
    {
     "data": {
      "text/plain": [
       "-4.920469687961453"
      ]
     },
     "execution_count": 32,
     "metadata": {},
     "output_type": "execute_result"
    }
   ],
   "source": [
    "problem_risk_aversion.solve(verbose=True)"
   ]
  },
  {
   "cell_type": "code",
   "execution_count": 33,
   "metadata": {},
   "outputs": [
    {
     "name": "stdout",
     "output_type": "stream",
     "text": [
      "[[3.01875063e-06 2.14924971e-07 1.31038576e-07 9.99999769e-01]\n",
      " [2.33563070e-08 4.10220805e-08 4.53743020e-08 3.76468640e-08]\n",
      " [1.14490860e-08 3.68065560e-08 5.06565878e-08 2.44970073e-08]\n",
      " [1.52047838e-07 8.28485076e-08 8.27398575e-08 9.33127240e-08]\n",
      " [4.27596958e-08 9.99999591e-01 1.42894052e-08 1.68488102e-08]\n",
      " [9.99996748e-01 2.92886175e-08 9.99999672e-01 5.46663279e-08]]\n"
     ]
    }
   ],
   "source": [
    "print(W.value)"
   ]
  },
  {
   "cell_type": "code",
   "execution_count": 34,
   "metadata": {},
   "outputs": [],
   "source": [
    "import numpy as np\n",
    "y = np.array([[1,2],[3,4],[2,4]])"
   ]
  },
  {
   "cell_type": "code",
   "execution_count": 35,
   "metadata": {},
   "outputs": [
    {
     "data": {
      "text/plain": [
       "3"
      ]
     },
     "execution_count": 35,
     "metadata": {},
     "output_type": "execute_result"
    }
   ],
   "source": [
    "y.shape[0]"
   ]
  },
  {
   "cell_type": "code",
   "execution_count": null,
   "metadata": {},
   "outputs": [],
   "source": []
  }
 ],
 "metadata": {
  "kernelspec": {
   "display_name": "Python 3.9.7 ('venv': venv)",
   "language": "python",
   "name": "python3"
  },
  "language_info": {
   "codemirror_mode": {
    "name": "ipython",
    "version": 3
   },
   "file_extension": ".py",
   "mimetype": "text/x-python",
   "name": "python",
   "nbconvert_exporter": "python",
   "pygments_lexer": "ipython3",
   "version": "3.9.7"
  },
  "orig_nbformat": 4,
  "vscode": {
   "interpreter": {
    "hash": "3a2f4b4f10cd87b6ae29d601e10e672c9ceebc9e62357307c33f1963c2cf5df2"
   }
  }
 },
 "nbformat": 4,
 "nbformat_minor": 2
}
