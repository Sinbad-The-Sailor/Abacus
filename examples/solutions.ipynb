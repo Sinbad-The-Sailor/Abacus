{
 "cells": [
  {
   "cell_type": "code",
   "execution_count": 2,
   "metadata": {
    "collapsed": true,
    "pycharm": {
     "name": "#%%\n"
    }
   },
   "outputs": [],
   "source": [
    "from database.database_parser import create_connection\n",
    "from database.database_parser import select_curr_solution\n",
    "from database.database_parser import select_init_solution\n",
    "test_connection = create_connection('../database/abacus_database.db')"
   ]
  },
  {
   "cell_type": "code",
   "execution_count": 18,
   "outputs": [
    {
     "name": "stdout",
     "output_type": "stream",
     "text": [
      "(0.001, 0.05, 0.8, 0.02, 0.0009727665263293907, 10.0, 0.15, 4.0)\n"
     ]
    }
   ],
   "source": [
    "#print(select_init_solution(test_connection, 'HYG'))\n",
    "print(select_curr_solution(test_connection, 'VAS'))"
   ],
   "metadata": {
    "collapsed": false,
    "pycharm": {
     "name": "#%%\n"
    }
   }
  }
 ],
 "metadata": {
  "kernelspec": {
   "display_name": "Python 3",
   "language": "python",
   "name": "python3"
  },
  "language_info": {
   "codemirror_mode": {
    "name": "ipython",
    "version": 2
   },
   "file_extension": ".py",
   "mimetype": "text/x-python",
   "name": "python",
   "nbconvert_exporter": "python",
   "pygments_lexer": "ipython2",
   "version": "2.7.6"
  }
 },
 "nbformat": 4,
 "nbformat_minor": 0
}