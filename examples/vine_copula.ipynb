{
 "cells": [
  {
   "cell_type": "code",
   "execution_count": 3,
   "metadata": {
    "pycharm": {
     "name": "#%%\n"
    }
   },
   "outputs": [],
   "source": [
    "import pandas as pd\n",
    "import numpy as np\n",
    "\n",
    "data1 = pd.read_csv('../database/pseudo_observations/1321.txt')\n",
    "data1 = np.array(data1.iloc[::2, :])\n",
    "data1 = np.array([float(i[0]) for i in data1])\n",
    "\n",
    "data2 = pd.read_csv('../database/pseudo_observations/AUD.txt')\n",
    "data2 = np.array(data2.iloc[::2, :])\n",
    "data2 = np.array([float(i[0]) for i in data2])\n",
    "\n",
    "data3 = pd.read_csv('../database/pseudo_observations/EUR.txt')\n",
    "data3 = np.array(data3.iloc[::2, :])\n",
    "data3 = np.array([float(i[0]) for i in data3])\n",
    "\n",
    "data4 = pd.read_csv('../database/pseudo_observations/GLD.txt')\n",
    "data4 = np.array(data4.iloc[::2, :])\n",
    "data4 = np.array([float(i[0]) for i in data4])\n",
    "\n",
    "data5 = pd.read_csv('../database/pseudo_observations/HYG.txt')\n",
    "data5 = np.array(data5.iloc[::2, :])\n",
    "data5 = np.array([float(i[0]) for i in data5])\n",
    "\n",
    "data6 = pd.read_csv('../database/pseudo_observations/IEAC.txt')\n",
    "data6 = np.array(data6.iloc[::2, :])\n",
    "data6 = np.array([float(i[0]) for i in data6])\n",
    "\n",
    "data7 = pd.read_csv('../database/pseudo_observations/IVV.txt')\n",
    "data7 = np.array(data7.iloc[::2, :])\n",
    "data7 = np.array([float(i[0]) for i in data7])\n",
    "\n",
    "data8 = pd.read_csv('../database/pseudo_observations/JPY.txt')\n",
    "data8 = np.array(data8.iloc[::2, :])\n",
    "data8 = np.array([float(i[0]) for i in data8])\n",
    "\n",
    "data9 = pd.read_csv('../database/pseudo_observations/LQD.txt')\n",
    "data9 = np.array(data9.iloc[::2, :])\n",
    "data9 = np.array([float(i[0]) for i in data9])\n",
    "\n",
    "data10 = pd.read_csv('../database/pseudo_observations/MSE.txt')\n",
    "data10 = np.array(data10.iloc[::2, :])\n",
    "data10 = np.array([float(i[0]) for i in data10])\n",
    "\n",
    "data11 = pd.read_csv('../database/pseudo_observations/vas.txt')\n",
    "data11 = np.array(data11.iloc[::2, :])\n",
    "data11 = np.array([float(i[0]) for i in data11])"
   ]
  },
  {
   "cell_type": "code",
   "execution_count": 34,
   "metadata": {
    "pycharm": {
     "name": "#%%\n"
    }
   },
   "outputs": [
    {
     "name": "stdout",
     "output_type": "stream",
     "text": [
      "[[0.05806084 0.10830092 0.79261315 ... 0.28698886 0.21304408 0.06698927]\n",
      " [0.19199837 0.62810547 0.4585476  ... 0.49344329 0.57616201 0.60300312]\n",
      " [0.85327287 0.52715455 0.69477566 ... 0.63470831 0.69612464 0.29218895]\n",
      " ...\n",
      " [0.12185408 0.55500805 0.97048421 ... 0.10141121 0.0330822  0.05961305]\n",
      " [0.1097628  0.92412216 0.49309428 ... 0.63394547 0.30222343 0.50744772]\n",
      " [0.82957789 0.0398039  0.71617357 ... 0.63057063 0.8447574  0.66376797]]\n"
     ]
    }
   ],
   "source": [
    "import pyvinecopulib as pv\n",
    "controls = pv.FitControlsVinecop(family_set=[pv.BicopFamily.gaussian,\n",
    "                                             pv.BicopFamily.clayton,\n",
    "                                             pv.BicopFamily.frank,\n",
    "                                             pv.BicopFamily.gumbel,\n",
    "                                             pv.BicopFamily.student])\n",
    "\n",
    "u = np.stack([data1, data2, data3, data4, data5, data6, data7, data8, data9, data10, data11]).T\n",
    "#cop = pv.Vinecop(u, controls=controls)\n",
    "\n",
    "#u_sim = cop.simulate(100)\n",
    "\n",
    "#np.savetxt(\"u_sim.txt\", u_sim, delimiter=\",\")\n",
    "#print(u_sim)"
   ]
  },
  {
   "cell_type": "markdown",
   "metadata": {
    "collapsed": false,
    "pycharm": {
     "name": "#%% md\n"
    }
   },
   "source": []
  },
  {
   "cell_type": "code",
   "execution_count": 42,
   "metadata": {
    "pycharm": {
     "name": "#%%\n"
    }
   },
   "outputs": [
    {
     "name": "stdout",
     "output_type": "stream",
     "text": [
      "** Tree: 0\n",
      "2,8 <-> Student, parameters = 0.287528\n",
      "       2\n",
      "3,4 <-> Student, parameters = 0.770984\n",
      "       2\n",
      "4,8 <-> Student, parameters = -0.854454\n",
      "  9.36866\n",
      "6,9 <-> Student, parameters = 0.972206\n",
      "  5.0819\n",
      "8,1 <-> Student, parameters = 0.787825\n",
      " 37.9082\n",
      "9,5 <-> Student, parameters = 0.956871\n",
      " 4.99121\n",
      "1,10 <-> Student, parameters = 0.62582\n",
      "      2\n",
      "5,7 <-> Student, parameters = 0.905742\n",
      " 10.7949\n",
      "10,7 <-> Student, parameters = 0.869476\n",
      " 5.03054\n",
      "7,11 <-> Student, parameters = 0.850142\n",
      "  5.0797\n",
      "** Tree: 1\n",
      "2,1 | 8 <-> Frank, parameters = -0.136243\n",
      "3,8 | 4 <-> Gumbel 270°, parameters = 1.80523\n",
      "4,1 | 8 <-> Gumbel 180°, parameters = 1.053\n",
      "6,5 | 9 <-> Gumbel, parameters = 1.52942\n",
      "8,10 | 1 <-> Gumbel, parameters = 1.31604\n",
      "9,7 | 5 <-> Frank, parameters = -2.65685\n",
      "1,7 | 10 <-> Gumbel, parameters = 1.13241\n",
      "5,11 | 7 <-> Gumbel, parameters = 1.41704\n",
      "10,11 | 7 <-> Gumbel 180°, parameters = 1.13977\n",
      "** Tree: 2\n",
      "2,4 | 1,8 <-> Gaussian, parameters = 0.0381867\n",
      "3,1 | 8,4 <-> Frank, parameters = 0.93519\n",
      "4,10 | 1,8 <-> Student, parameters = 0.0432505\n",
      "   4.2185\n",
      "6,7 | 5,9 <-> Student, parameters = 0.0205184\n",
      "  6.64064\n",
      "8,7 | 10,1 <-> Gaussian, parameters = 0.341413\n",
      "9,11 | 7,5 <-> Gumbel, parameters = 1.03883\n",
      "1,11 | 7,10 <-> Gumbel 180°, parameters = 1.11681\n",
      "5,10 | 11,7 <-> Frank, parameters = -0.519788\n",
      "** Tree: 3\n",
      "2,3 | 4,1,8 <-> Gumbel 180°, parameters = 1.03552\n",
      "3,10 | 1,8,4 <-> Student, parameters = 0.0457492\n",
      "  4.08311\n",
      "4,7 | 10,1,8 <-> Frank, parameters = 0.729385\n",
      "6,11 | 7,5,9 <-> Clayton 180°, parameters = 0.174473\n",
      "8,11 | 7,10,1 <-> Gaussian, parameters = 0.261148\n",
      "9,10 | 11,7,5 <-> Frank, parameters = -1.13526\n",
      "1,5 | 11,7,10 <-> Student, parameters = -0.0536702\n",
      "   5.03469\n",
      "** Tree: 4\n",
      "2,10 | 3,4,1,8 <-> Gumbel 90°, parameters = 1.01572\n",
      "3,7 | 10,1,8,4 <-> Frank, parameters = -0.383796\n",
      "4,11 | 7,10,1,8 <-> Clayton 90°, parameters = 0.0383119\n",
      "6,10 | 11,7,5,9 <-> Frank, parameters = 0.384399\n",
      "8,5 | 11,7,10,1 <-> Gaussian, parameters = 0.448061\n",
      "9,1 | 10,11,7,5 <-> Gumbel 90°, parameters = 1.05135\n",
      "** Tree: 5\n",
      "2,7 | 10,3,4,1,8 <-> Gumbel, parameters = 1.01491\n",
      "3,11 | 7,10,1,8,4 <-> Clayton 270°, parameters = 0.352477\n",
      "4,5 | 11,7,10,1,8 <-> Gumbel 90°, parameters = 1.01906\n",
      "6,1 | 10,11,7,5,9 <-> Clayton 180°, parameters = 0.0908293\n",
      "8,9 | 5,11,7,10,1 <-> Gumbel 270°, parameters = 1.06382\n",
      "** Tree: 6\n",
      "2,11 | 7,10,3,4,1,8 <-> Gumbel, parameters = 1.04639\n",
      "3,5 | 11,7,10,1,8,4 <-> Gaussian, parameters = -0.333284\n",
      "4,9 | 5,11,7,10,1,8 <-> Frank, parameters = 0.177792\n",
      "6,8 | 1,10,11,7,5,9 <-> Gaussian, parameters = 0.430851\n",
      "** Tree: 7\n",
      "2,5 | 11,7,10,3,4,1,8 <-> Gaussian, parameters = 0.0538291\n",
      "3,9 | 5,11,7,10,1,8,4 <-> Gaussian, parameters = -0.255595\n",
      "4,6 | 9,5,11,7,10,1,8 <-> Gumbel 270°, parameters = 1.09078\n",
      "** Tree: 8\n",
      "2,9 | 5,11,7,10,3,4,1,8 <-> Gaussian, parameters = -0.0229895\n",
      "3,6 | 9,5,11,7,10,1,8,4 <-> Gaussian, parameters = -0.250123\n",
      "** Tree: 9\n",
      "2,6 | 9,5,11,7,10,3,4,1,8 <-> Frank, parameters = 0.262704\n",
      "\n"
     ]
    }
   ],
   "source": [
    "print(cop.str())"
   ]
  },
  {
   "cell_type": "code",
   "execution_count": 19,
   "metadata": {
    "pycharm": {
     "name": "#%%\n"
    }
   },
   "outputs": [],
   "source": [
    "from database.database_parser import create_connection\n",
    "from database.database_parser import select_curr_solution\n",
    "\n",
    "test_connection = create_connection('../database/abacus_database.db')"
   ]
  },
  {
   "cell_type": "code",
   "execution_count": 20,
   "metadata": {
    "collapsed": false,
    "pycharm": {
     "name": "#%%\n"
    }
   },
   "outputs": [],
   "source": [
    "from database.database_parser import select_price_data\n",
    "\n",
    "def generate_volatility(params, data):\n",
    "    n_observations = len(data)\n",
    "    initial_squared_vol_estimate = (params[0]\n",
    "                                        + params[1] * (data[0] ** 2)\n",
    "                                        + params[3] * (data[0] ** 2) * np.where(data[0] < 0, 1, 0)\n",
    "                                        + params[2] * (data[0] ** 2))\n",
    "    current_squared_vol_estimate = initial_squared_vol_estimate\n",
    "\n",
    "    for i in range(0, n_observations):\n",
    "        current_squared_vol_estimate = (params[0] + params[1] * (data[i - 1] ** 2)\n",
    "                                            + params[3] * (data[i - 1] ** 2) * np.where(data[i - 1] < 0, 1, 0)\n",
    "                                            + params[2] * current_squared_vol_estimate)\n",
    "\n",
    "    return np.sqrt(current_squared_vol_estimate)\n",
    "\n",
    "def get_volatility(asset: str):\n",
    "    opt_sol = select_curr_solution(test_connection, asset)\n",
    "    adj_close = select_price_data(test_connection, '1321')\n",
    "    log_returns = np.array(np.log(adj_close / adj_close.shift(1))[1:])\n",
    "    return generate_volatility(params=opt_sol, data=log_returns)"
   ]
  },
  {
   "cell_type": "code",
   "execution_count": 7,
   "metadata": {
    "collapsed": false,
    "pycharm": {
     "name": "#%%\n"
    }
   },
   "outputs": [
    {
     "name": "stdout",
     "output_type": "stream",
     "text": [
      "1.0584664836470876\n",
      "0.29376358048548606\n",
      "-0.018547013236331327\n",
      "-0.018540169082710785\n",
      "0.9373604137841106\n",
      "-0.009370369113802086\n",
      "-0.11197432799522992\n",
      "-0.014153200520035035\n",
      "0.01968628690954487\n",
      "0.048521438908058705\n",
      "-0.034856268800176095\n",
      "-0.018702032196939347\n",
      "0.009192375284793185\n",
      "-0.04457269369490421\n",
      "0.5549821022052526\n",
      "-0.030350200842128368\n",
      "0.3424838732209676\n",
      "0.04803011991686046\n",
      "-0.07242956460401717\n",
      "0.029592015512437717\n",
      "0.061801177424709794\n",
      "0.12858739572443773\n",
      "-0.04321951457804534\n",
      "-0.042140300131046894\n",
      "0.07754664967959247\n",
      "-0.044797028327946076\n",
      "0.09282195310411946\n",
      "-0.019354058068346197\n",
      "0.07639690173581754\n",
      "-0.06956005699463562\n",
      "-0.019735101098384895\n",
      "0.04194976724074194\n",
      "0.09362345430676913\n",
      "-0.04692863344541148\n",
      "-0.025877356333441622\n",
      "0.07485770663120202\n",
      "-0.5855520035975932\n",
      "0.8069473200891641\n",
      "0.013652933819617517\n",
      "-0.04390634923081404\n",
      "0.014466340724592618\n",
      "-0.009486637105158043\n",
      "-0.006765109687165978\n",
      "-0.013501740080299217\n",
      "0.18576803323188584\n",
      "-0.04282738737880735\n",
      "0.05019180971988053\n",
      "0.06142885116119932\n",
      "0.4637497825357485\n",
      "0.018937252418658894\n",
      "-0.19507285382740236\n",
      "0.004455960934920438\n",
      "0.0005406727126203455\n",
      "0.07947360141528742\n",
      "-0.2558845448745944\n",
      "0.011057567003940203\n",
      "0.030775489797612035\n",
      "0.001165669661777667\n",
      "0.04549590420919676\n",
      "0.07937062443913248\n",
      "-0.06943398269994486\n",
      "-0.03675221465586534\n",
      "0.01121378155314749\n",
      "0.06155402777643113\n",
      "0.025552912563672626\n",
      "1.1742935557241203\n",
      "0.0875021681680021\n",
      "0.07406638589107462\n",
      "0.061127512750716276\n",
      "0.5377177885736589\n",
      "-0.0043077032688345765\n",
      "-0.09204609916469675\n",
      "0.04224229078406147\n",
      "0.07350106457157185\n",
      "0.0034118664370560484\n",
      "-0.680423541454194\n"
     ]
    },
    {
     "ename": "ValueError",
     "evalue": "f(a) and f(b) must have different signs",
     "output_type": "error",
     "traceback": [
      "\u001b[0;31m---------------------------------------------------------------------------\u001b[0m",
      "\u001b[0;31mValueError\u001b[0m                                Traceback (most recent call last)",
      "Input \u001b[0;32mIn [7]\u001b[0m, in \u001b[0;36m<cell line: 17>\u001b[0;34m()\u001b[0m\n\u001b[1;32m     13\u001b[0m         \u001b[38;5;28mprint\u001b[39m(s\u001b[38;5;241m.\u001b[39mroot)\n\u001b[1;32m     14\u001b[0m         \u001b[38;5;66;03m#s = spm.ppf(p, mu, sigma, kappa, lamb, nu)\u001b[39;00m\n\u001b[1;32m     15\u001b[0m         \u001b[38;5;66;03m#samples.append(s)\u001b[39;00m\n\u001b[0;32m---> 17\u001b[0m \u001b[43mgenerate_samples\u001b[49m\u001b[43m(\u001b[49m\u001b[43mu_sim\u001b[49m\u001b[43m[\u001b[49m\u001b[43m:\u001b[49m\u001b[43m,\u001b[49m\u001b[43m \u001b[49m\u001b[38;5;241;43m4\u001b[39;49m\u001b[43m]\u001b[49m\u001b[43m,\u001b[49m\u001b[43m \u001b[49m\u001b[38;5;124;43m'\u001b[39;49m\u001b[38;5;124;43mIVV\u001b[39;49m\u001b[38;5;124;43m'\u001b[39;49m\u001b[43m)\u001b[49m\n",
      "Input \u001b[0;32mIn [7]\u001b[0m, in \u001b[0;36mgenerate_samples\u001b[0;34m(us, asset)\u001b[0m\n\u001b[1;32m      9\u001b[0m nu \u001b[38;5;241m=\u001b[39m opt_sol[\u001b[38;5;241m7\u001b[39m]\n\u001b[1;32m     11\u001b[0m \u001b[38;5;28;01mfor\u001b[39;00m p \u001b[38;5;129;01min\u001b[39;00m us:\n\u001b[0;32m---> 12\u001b[0m     s \u001b[38;5;241m=\u001b[39m \u001b[43mspm\u001b[49m\u001b[38;5;241;43m.\u001b[39;49m\u001b[43mppf\u001b[49m\u001b[43m(\u001b[49m\u001b[43mp\u001b[49m\u001b[43m,\u001b[49m\u001b[43m \u001b[49m\u001b[43mmu\u001b[49m\u001b[43m,\u001b[49m\u001b[43m \u001b[49m\u001b[43msigma\u001b[49m\u001b[43m,\u001b[49m\u001b[43m \u001b[49m\u001b[43mkappa\u001b[49m\u001b[43m,\u001b[49m\u001b[43m \u001b[49m\u001b[43mlamb\u001b[49m\u001b[43m,\u001b[49m\u001b[43m \u001b[49m\u001b[43mnu\u001b[49m\u001b[43m)\u001b[49m\n\u001b[1;32m     13\u001b[0m     \u001b[38;5;28mprint\u001b[39m(s\u001b[38;5;241m.\u001b[39mroot)\n",
      "File \u001b[0;32m~/Desktop/Abacus/distributions/student_poisson_mixture.py:39\u001b[0m, in \u001b[0;36mStudentPoissonMixture.ppf\u001b[0;34m(self, prob, mu, sigma, kappa, lamb, nu, number_of_terms, lower_limit)\u001b[0m\n\u001b[1;32m     36\u001b[0m \u001b[38;5;28;01mdef\u001b[39;00m \u001b[38;5;21mppf\u001b[39m(\u001b[38;5;28mself\u001b[39m, prob: \u001b[38;5;28mfloat\u001b[39m, mu: \u001b[38;5;28mfloat\u001b[39m, sigma: \u001b[38;5;28mfloat\u001b[39m, kappa: \u001b[38;5;28mfloat\u001b[39m, lamb: \u001b[38;5;28mfloat\u001b[39m, nu: \u001b[38;5;28mfloat\u001b[39m,\n\u001b[1;32m     37\u001b[0m         number_of_terms: \u001b[38;5;28mint\u001b[39m \u001b[38;5;241m=\u001b[39m \u001b[38;5;241m100\u001b[39m, lower_limit: \u001b[38;5;28mfloat\u001b[39m \u001b[38;5;241m=\u001b[39m \u001b[38;5;241m50.\u001b[39m):\n\u001b[1;32m     38\u001b[0m     target \u001b[38;5;241m=\u001b[39m prob\n\u001b[0;32m---> 39\u001b[0m     sol \u001b[38;5;241m=\u001b[39m \u001b[43mroot_scalar\u001b[49m\u001b[43m(\u001b[49m\u001b[38;5;28;43;01mlambda\u001b[39;49;00m\u001b[43m \u001b[49m\u001b[43mx\u001b[49m\u001b[43m,\u001b[49m\u001b[43m \u001b[49m\u001b[38;5;241;43m*\u001b[39;49m\u001b[43margs\u001b[49m\u001b[43m:\u001b[49m\n\u001b[1;32m     40\u001b[0m \u001b[43m                      \u001b[49m\u001b[38;5;28;43mself\u001b[39;49m\u001b[38;5;241;43m.\u001b[39;49m\u001b[43mcdf\u001b[49m\u001b[43m(\u001b[49m\u001b[43mx\u001b[49m\u001b[43m,\u001b[49m\u001b[43m \u001b[49m\u001b[38;5;241;43m*\u001b[39;49m\u001b[43margs\u001b[49m\u001b[43m)\u001b[49m\u001b[43m \u001b[49m\u001b[38;5;241;43m-\u001b[39;49m\u001b[43m \u001b[49m\u001b[43mtarget\u001b[49m\u001b[43m,\u001b[49m\n\u001b[1;32m     41\u001b[0m \u001b[43m                      \u001b[49m\u001b[43mbracket\u001b[49m\u001b[38;5;241;43m=\u001b[39;49m\u001b[43m(\u001b[49m\u001b[38;5;241;43m-\u001b[39;49m\u001b[38;5;241;43m20\u001b[39;49m\u001b[43m \u001b[49m\u001b[38;5;241;43m*\u001b[39;49m\u001b[43m \u001b[49m\u001b[43msigma\u001b[49m\u001b[43m,\u001b[49m\u001b[43m \u001b[49m\u001b[38;5;241;43m20\u001b[39;49m\u001b[43m \u001b[49m\u001b[38;5;241;43m*\u001b[39;49m\u001b[43m \u001b[49m\u001b[43msigma\u001b[49m\u001b[43m)\u001b[49m\u001b[43m,\u001b[49m\n\u001b[1;32m     42\u001b[0m \u001b[43m                      \u001b[49m\u001b[43margs\u001b[49m\u001b[38;5;241;43m=\u001b[39;49m\u001b[43m(\u001b[49m\u001b[43mmu\u001b[49m\u001b[43m,\u001b[49m\u001b[43m \u001b[49m\u001b[43msigma\u001b[49m\u001b[43m,\u001b[49m\u001b[43m \u001b[49m\u001b[43mkappa\u001b[49m\u001b[43m,\u001b[49m\u001b[43m \u001b[49m\u001b[43mlamb\u001b[49m\u001b[43m,\u001b[49m\u001b[43m \u001b[49m\u001b[43mnu\u001b[49m\u001b[43m)\u001b[49m\u001b[43m)\u001b[49m\n\u001b[1;32m     43\u001b[0m     \u001b[38;5;28;01mreturn\u001b[39;00m sol\n",
      "File \u001b[0;32m~/Desktop/Abacus/venv/lib/python3.9/site-packages/scipy/optimize/_root_scalar.py:249\u001b[0m, in \u001b[0;36mroot_scalar\u001b[0;34m(f, args, method, bracket, fprime, fprime2, x0, x1, xtol, rtol, maxiter, options)\u001b[0m\n\u001b[1;32m    246\u001b[0m         \u001b[38;5;28;01mraise\u001b[39;00m \u001b[38;5;167;01mValueError\u001b[39;00m(\u001b[38;5;124m'\u001b[39m\u001b[38;5;124mBracket needed for \u001b[39m\u001b[38;5;132;01m%s\u001b[39;00m\u001b[38;5;124m'\u001b[39m \u001b[38;5;241m%\u001b[39m method)\n\u001b[1;32m    248\u001b[0m     a, b \u001b[38;5;241m=\u001b[39m bracket[:\u001b[38;5;241m2\u001b[39m]\n\u001b[0;32m--> 249\u001b[0m     r, sol \u001b[38;5;241m=\u001b[39m \u001b[43mmethodc\u001b[49m\u001b[43m(\u001b[49m\u001b[43mf\u001b[49m\u001b[43m,\u001b[49m\u001b[43m \u001b[49m\u001b[43ma\u001b[49m\u001b[43m,\u001b[49m\u001b[43m \u001b[49m\u001b[43mb\u001b[49m\u001b[43m,\u001b[49m\u001b[43m \u001b[49m\u001b[43margs\u001b[49m\u001b[38;5;241;43m=\u001b[39;49m\u001b[43margs\u001b[49m\u001b[43m,\u001b[49m\u001b[43m \u001b[49m\u001b[38;5;241;43m*\u001b[39;49m\u001b[38;5;241;43m*\u001b[39;49m\u001b[43mkwargs\u001b[49m\u001b[43m)\u001b[49m\n\u001b[1;32m    250\u001b[0m \u001b[38;5;28;01melif\u001b[39;00m meth \u001b[38;5;129;01min\u001b[39;00m [\u001b[38;5;124m'\u001b[39m\u001b[38;5;124msecant\u001b[39m\u001b[38;5;124m'\u001b[39m]:\n\u001b[1;32m    251\u001b[0m     \u001b[38;5;28;01mif\u001b[39;00m x0 \u001b[38;5;129;01mis\u001b[39;00m \u001b[38;5;28;01mNone\u001b[39;00m:\n",
      "File \u001b[0;32m~/Desktop/Abacus/venv/lib/python3.9/site-packages/scipy/optimize/_zeros_py.py:783\u001b[0m, in \u001b[0;36mbrentq\u001b[0;34m(f, a, b, args, xtol, rtol, maxiter, full_output, disp)\u001b[0m\n\u001b[1;32m    781\u001b[0m \u001b[38;5;28;01mif\u001b[39;00m rtol \u001b[38;5;241m<\u001b[39m _rtol:\n\u001b[1;32m    782\u001b[0m     \u001b[38;5;28;01mraise\u001b[39;00m \u001b[38;5;167;01mValueError\u001b[39;00m(\u001b[38;5;124m\"\u001b[39m\u001b[38;5;124mrtol too small (\u001b[39m\u001b[38;5;132;01m%g\u001b[39;00m\u001b[38;5;124m < \u001b[39m\u001b[38;5;132;01m%g\u001b[39;00m\u001b[38;5;124m)\u001b[39m\u001b[38;5;124m\"\u001b[39m \u001b[38;5;241m%\u001b[39m (rtol, _rtol))\n\u001b[0;32m--> 783\u001b[0m r \u001b[38;5;241m=\u001b[39m \u001b[43m_zeros\u001b[49m\u001b[38;5;241;43m.\u001b[39;49m\u001b[43m_brentq\u001b[49m\u001b[43m(\u001b[49m\u001b[43mf\u001b[49m\u001b[43m,\u001b[49m\u001b[43m \u001b[49m\u001b[43ma\u001b[49m\u001b[43m,\u001b[49m\u001b[43m \u001b[49m\u001b[43mb\u001b[49m\u001b[43m,\u001b[49m\u001b[43m \u001b[49m\u001b[43mxtol\u001b[49m\u001b[43m,\u001b[49m\u001b[43m \u001b[49m\u001b[43mrtol\u001b[49m\u001b[43m,\u001b[49m\u001b[43m \u001b[49m\u001b[43mmaxiter\u001b[49m\u001b[43m,\u001b[49m\u001b[43m \u001b[49m\u001b[43margs\u001b[49m\u001b[43m,\u001b[49m\u001b[43m \u001b[49m\u001b[43mfull_output\u001b[49m\u001b[43m,\u001b[49m\u001b[43m \u001b[49m\u001b[43mdisp\u001b[49m\u001b[43m)\u001b[49m\n\u001b[1;32m    784\u001b[0m \u001b[38;5;28;01mreturn\u001b[39;00m results_c(full_output, r)\n",
      "\u001b[0;31mValueError\u001b[0m: f(a) and f(b) must have different signs"
     ]
    }
   ],
   "source": [
    "from distributions.student_poisson_mixture import spm\n",
    "# Calculate all inverse samples.\n",
    "def generate_samples(us, asset):\n",
    "    opt_sol = select_curr_solution(test_connection, asset)\n",
    "    mu = opt_sol[4]\n",
    "    sigma = get_volatility(asset)[0]\n",
    "    kappa = opt_sol[5]\n",
    "    lamb = opt_sol[6]\n",
    "    nu = opt_sol[7]\n",
    "\n",
    "    for p in us:\n",
    "        s = spm.ppf(p, mu, sigma, kappa, lamb, nu)\n",
    "        print(s.root)\n",
    "\n",
    "generate_samples(u_sim[:, 4], 'IVV')"
   ]
  },
  {
   "cell_type": "code",
   "execution_count": 10,
   "metadata": {
    "collapsed": false,
    "pycharm": {
     "name": "#%%\n"
    }
   },
   "outputs": [
    {
     "data": {
      "text/plain": [
       "76"
      ]
     },
     "execution_count": 10,
     "metadata": {},
     "output_type": "execute_result"
    }
   ],
   "source": [
    "df_ret = pd.read_csv('../database/return_samples/IVV.txt')\n",
    "len(df_reta)"
   ]
  }
 ],
 "metadata": {
  "kernelspec": {
   "display_name": "Python 3.9.7 ('venv': venv)",
   "language": "python",
   "name": "python3"
  },
  "language_info": {
   "codemirror_mode": {
    "name": "ipython",
    "version": 3
   },
   "file_extension": ".py",
   "mimetype": "text/x-python",
   "name": "python",
   "nbconvert_exporter": "python",
   "pygments_lexer": "ipython3",
   "version": "3.9.7"
  },
  "vscode": {
   "interpreter": {
    "hash": "3a2f4b4f10cd87b6ae29d601e10e672c9ceebc9e62357307c33f1963c2cf5df2"
   }
  }
 },
 "nbformat": 4,
 "nbformat_minor": 1
}
