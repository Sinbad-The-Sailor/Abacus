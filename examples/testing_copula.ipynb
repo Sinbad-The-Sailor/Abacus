{
 "cells": [
  {
   "cell_type": "code",
   "execution_count": 1,
   "outputs": [],
   "source": [
    "import pandas as pd\n",
    "import numpy as np\n",
    "\n",
    "data1 = pd.read_csv('../database/pseudo_observations/vas.txt')\n",
    "data1 = np.array(data1.iloc[::2, :])\n",
    "data1 = np.array([float(i[0]) for i in data1])\n",
    "\n",
    "\n",
    "data2 = pd.read_csv('../database/pseudo_observations/LQD.txt')\n",
    "data2 = np.array(data2.iloc[::2, :])\n",
    "data2 = np.array([float(i[0]) for i in data2])\n",
    "\n",
    "data3 = pd.read_csv('../database/pseudo_observations/HYG.txt')\n",
    "data3 = np.array(data3.iloc[::2, :])\n",
    "data3 = np.array([float(i[0]) for i in data3])\n",
    "\n",
    "data4 = pd.read_csv('../database/pseudo_observations/IEAC.txt')\n",
    "data4 = np.array(data4.iloc[::2, :])\n",
    "data4 = np.array([float(i[0]) for i in data4])"
   ],
   "metadata": {
    "collapsed": false,
    "pycharm": {
     "name": "#%%\n"
    }
   }
  },
  {
   "cell_type": "code",
   "execution_count": 2,
   "outputs": [
    {
     "name": "stdout",
     "output_type": "stream",
     "text": [
      "[[0.71928319 0.27945011 0.47239207 0.38955118]\n",
      " [0.4704488  0.52143145 0.50406523 0.55198975]\n",
      " [0.71220833 0.60157051 0.5348449  0.58271997]\n",
      " ...\n",
      " [0.52357397 0.37263047 0.53923004 0.53012607]\n",
      " [0.20885459 0.47613649 0.61418096 0.40347559]\n",
      " [0.71366527 0.51651115 0.34158869 0.62289767]]\n",
      "[[0.06990019 0.25933776 0.08234936 0.0449144 ]\n",
      " [0.21709277 0.18871288 0.19145011 0.10341235]\n",
      " [0.36710131 0.55911429 0.54640769 0.53697323]\n",
      " [0.09648489 0.15427268 0.21804557 0.19491533]\n",
      " [0.89854131 0.9057658  0.89537353 0.890319  ]\n",
      " [0.61595475 0.34256354 0.29326    0.20305027]\n",
      " [0.68183736 0.57635795 0.61222625 0.63531488]\n",
      " [0.34592301 0.20066095 0.45868716 0.18171461]\n",
      " [0.28007387 0.22394797 0.32108443 0.28963696]\n",
      " [0.98655277 0.99306627 0.99572201 0.99546586]\n",
      " [0.97782651 0.61425574 0.64059123 0.55457261]\n",
      " [0.51231828 0.2706462  0.37743129 0.25298777]\n",
      " [0.24101145 0.36675364 0.46083358 0.40663656]\n",
      " [0.71708116 0.49060674 0.58952723 0.59625717]\n",
      " [0.59941511 0.54397941 0.65293624 0.57382592]\n",
      " [0.40349721 0.32192851 0.38151516 0.374909  ]\n",
      " [0.95246228 0.94072371 0.96873362 0.95967392]\n",
      " [0.58380307 0.61250768 0.40610137 0.4302282 ]\n",
      " [0.13574816 0.82194886 0.75279042 0.74904921]\n",
      " [0.7805321  0.75310829 0.73860724 0.60976085]\n",
      " [0.23930407 0.47265076 0.35581583 0.3570358 ]\n",
      " [0.49833993 0.45980573 0.49282688 0.39508163]\n",
      " [0.12667442 0.18826242 0.21648226 0.14391986]\n",
      " [0.53552071 0.76781908 0.73387893 0.75110346]\n",
      " [0.23906807 0.21559636 0.27492195 0.11379754]\n",
      " [0.6392556  0.57016074 0.4755314  0.55033222]\n",
      " [0.24814592 0.57486643 0.39345403 0.45757173]\n",
      " [0.36213077 0.72305223 0.65615751 0.60412218]\n",
      " [0.1231913  0.10931482 0.11013827 0.12698012]\n",
      " [0.02834791 0.05032137 0.01518667 0.01900447]\n",
      " [0.25029173 0.44091625 0.21665347 0.38398784]\n",
      " [0.71517623 0.56941903 0.6080444  0.68794707]\n",
      " [0.83780675 0.91212984 0.92701548 0.90266084]\n",
      " [0.05036413 0.05935817 0.04439921 0.04433642]\n",
      " [0.3627229  0.31088535 0.39852065 0.47201029]\n",
      " [0.82232826 0.92169681 0.91572833 0.89472348]\n",
      " [0.32276164 0.33714335 0.37186248 0.29393798]\n",
      " [0.19467917 0.04127198 0.05077998 0.05029206]\n",
      " [0.05806783 0.02494969 0.02451018 0.03910984]\n",
      " [0.24609669 0.11839887 0.22410769 0.11840419]\n",
      " [0.53865947 0.66771906 0.63537721 0.55009908]\n",
      " [0.24499135 0.45781889 0.39832815 0.453532  ]\n",
      " [0.17899096 0.31851057 0.31803454 0.36116383]\n",
      " [0.26166074 0.22421487 0.36369421 0.3551367 ]\n",
      " [0.71285851 0.9298316  0.91905013 0.93134532]\n",
      " [0.92988999 0.58662669 0.73186862 0.65667139]\n",
      " [0.52680343 0.25386663 0.4147202  0.18467983]\n",
      " [0.44889988 0.45683859 0.35290426 0.42883415]\n",
      " [0.84498407 0.83738634 0.89101382 0.84574434]\n",
      " [0.75778383 0.822773   0.85196775 0.76698586]\n",
      " [0.68824268 0.71773255 0.72674261 0.68075509]\n",
      " [0.80525537 0.81446889 0.82588558 0.80694371]\n",
      " [0.9119045  0.79592719 0.83754312 0.85949946]\n",
      " [0.16516907 0.06977201 0.23323432 0.1939308 ]\n",
      " [0.24608893 0.45627502 0.42181205 0.34061591]\n",
      " [0.06495031 0.25746691 0.19352088 0.25123118]\n",
      " [0.88179253 0.96774546 0.9740279  0.97708007]\n",
      " [0.20812247 0.54436971 0.22858516 0.35401097]\n",
      " [0.55862198 0.32403992 0.34950218 0.45674635]\n",
      " [0.81281597 0.74488012 0.8026317  0.62387204]\n",
      " [0.18429137 0.18274283 0.17616276 0.19227204]\n",
      " [0.98153718 0.94901901 0.96691336 0.96260731]\n",
      " [0.23023118 0.26224558 0.22684317 0.21269778]\n",
      " [0.10794831 0.0853297  0.05943451 0.04125459]\n",
      " [0.47729902 0.15027171 0.10391068 0.15892298]\n",
      " [0.92075178 0.90651463 0.91036243 0.92629628]\n",
      " [0.83037959 0.92696247 0.92443784 0.94050045]\n",
      " [0.74681806 0.76050142 0.75100158 0.76417648]\n",
      " [0.9785138  0.89401348 0.92809895 0.90298271]\n",
      " [0.68681353 0.484176   0.67692798 0.54379683]\n",
      " [0.80179324 0.5887727  0.64776172 0.56760785]\n",
      " [0.74721806 0.60393935 0.39503129 0.60218191]\n",
      " [0.69150297 0.77677237 0.61896183 0.72946937]\n",
      " [0.97257891 0.96136086 0.96845128 0.97238104]\n",
      " [0.2436534  0.52586403 0.49787968 0.64991153]\n",
      " [0.92608063 0.81166619 0.82046532 0.88302947]\n",
      " [0.58860801 0.62760798 0.60302448 0.66362445]\n",
      " [0.24549259 0.14685354 0.13403548 0.10928541]\n",
      " [0.70026149 0.66510054 0.56368952 0.66884238]\n",
      " [0.83326017 0.50119224 0.70444507 0.50830472]\n",
      " [0.73793938 0.75677527 0.78252634 0.81669578]\n",
      " [0.85662945 0.90897485 0.88637808 0.91845373]\n",
      " [0.95021325 0.94873364 0.93587306 0.92113617]\n",
      " [0.70949853 0.66508511 0.70849961 0.72777994]\n",
      " [0.38093195 0.27809727 0.20321172 0.24220078]\n",
      " [0.56279439 0.2432802  0.29969367 0.23505315]\n",
      " [0.53553675 0.59524414 0.62065277 0.60560625]\n",
      " [0.75073755 0.63217362 0.69508842 0.63392104]\n",
      " [0.88498179 0.91502646 0.90962382 0.91326586]\n",
      " [0.76975846 0.82347541 0.85500182 0.87118896]\n",
      " [0.81817765 0.7808672  0.78062712 0.77660565]\n",
      " [0.3686236  0.07660566 0.1670018  0.13810347]\n",
      " [0.91528475 0.86190098 0.81357343 0.81125113]\n",
      " [0.56990065 0.69154748 0.57260724 0.68127902]\n",
      " [0.87394638 0.75565183 0.86555881 0.83657848]\n",
      " [0.09657638 0.14326882 0.20777765 0.14048382]\n",
      " [0.00732142 0.01183067 0.03552335 0.01244058]\n",
      " [0.89190201 0.95370248 0.96213193 0.96284669]\n",
      " [0.91858482 0.75065719 0.75883633 0.72806084]\n",
      " [0.32191352 0.28687842 0.44655031 0.25238187]]\n"
     ]
    }
   ],
   "source": [
    "import pyvinecopulib as pv\n",
    "controls = pv.FitControlsVinecop(family_set=[pv.BicopFamily.gaussian,\n",
    "                                             pv.BicopFamily.clayton,\n",
    "                                             pv.BicopFamily.frank,\n",
    "                                             pv.BicopFamily.gumbel,\n",
    "                                             pv.BicopFamily.bb1])\n",
    "\n",
    "u = np.stack([data1, data2, data3, data4]).T\n",
    "print(u)\n",
    "cop = pv.Vinecop(u, controls=controls)\n",
    "\n",
    "u_sim = cop.simulate(100)\n",
    "print(u_sim)"
   ],
   "metadata": {
    "collapsed": false,
    "pycharm": {
     "name": "#%%\n"
    }
   }
  },
  {
   "cell_type": "code",
   "execution_count": 3,
   "outputs": [
    {
     "data": {
      "text/plain": "<pyvinecopulib.RVineStructure>\n3 2 4 4 \n2 4 2 \n4 3 \n1 "
     },
     "execution_count": 3,
     "metadata": {},
     "output_type": "execute_result"
    }
   ],
   "source": [
    "cop.structure"
   ],
   "metadata": {
    "collapsed": false,
    "pycharm": {
     "name": "#%%\n"
    }
   }
  },
  {
   "cell_type": "code",
   "execution_count": 4,
   "outputs": [
    {
     "name": "stdout",
     "output_type": "stream",
     "text": [
      "[[0.62937063 0.75924076 0.22377622 0.23376623 0.34765235]\n",
      " [0.3976024  0.37862138 0.66133866 0.38361638 0.38761239]\n",
      " [0.31668332 0.67832168 0.52747253 0.74025974 0.46853147]\n",
      " ...\n",
      " [0.36563437 0.36563437 0.81518482 0.2997003  0.7042957 ]\n",
      " [0.47652348 0.53746254 0.11588412 0.51148851 0.37662338]\n",
      " [0.59340659 0.37962038 0.52147852 0.15984016 0.92007992]]\n"
     ]
    },
    {
     "data": {
      "text/plain": "[array([[ 2.37095772,  1.72011592,  1.34581349, -2.33400987, -3.1412032 ],\n        [ 1.72011592,  2.77391072, -0.8386675 , -1.94255384, -3.0356469 ],\n        [ 1.34581349, -0.8386675 ,  4.73656299, -1.11520579, -1.00737741],\n        [-2.33400987, -1.94255384, -1.11520579,  6.17099976, -0.86804342],\n        [-3.1412032 , -3.0356469 , -1.00737741, -0.86804342, 10.39309954]]),\n array([[ 2.22422017,  1.5946634 ,  1.44467283, -2.24840034, -2.86432409],\n        [ 1.5946634 ,  2.56490065, -0.64236225, -1.88381331, -2.55280137],\n        [ 1.44467283, -0.64236225,  4.48378773, -1.21625326, -1.35825765],\n        [-2.24840034, -1.88381331, -1.21625326,  6.11239488, -1.14967754],\n        [-2.86432409, -2.55280137, -1.35825765, -1.14967754,  9.93512784]])]"
     },
     "execution_count": 4,
     "metadata": {},
     "output_type": "execute_result"
    }
   ],
   "source": [
    "# Simulate some data\n",
    "np.random.seed(1234)  # seed for the random generator\n",
    "n = 1000  # number of observations\n",
    "d = 5  # the dimension\n",
    "mean = np.random.normal(size=d)  # mean vector\n",
    "cov = np.random.normal(size=(d, d))  # covariance matrix\n",
    "cov = np.dot(cov.transpose(), cov)  # make it non-negative definite\n",
    "x = np.random.multivariate_normal(mean, cov, n)\n",
    "\n",
    "# Transform copula data using the empirical distribution\n",
    "u = pv.to_pseudo_obs(x)\n",
    "print(u)\n",
    "# Fit a Gaussian vine\n",
    "# (i.e., properly specified since the data is multivariate normal)\n",
    "controls = pv.FitControlsVinecop(family_set=[pv.BicopFamily.gaussian])\n",
    "cop = pv.Vinecop(u, controls=controls)\n",
    "\n",
    "# Sample from the copula\n",
    "n_sim = 1000\n",
    "u_sim = cop.simulate(n_sim, seeds=[1, 2, 3, 4])\n",
    "\n",
    "# Transform back simulations to the original scale\n",
    "x_sim = np.asarray([np.quantile(x[:, i], u_sim[:, i]) for i in range(0, d)])\n",
    "\n",
    "# Both the mean and covariance matrix look ok!\n",
    "[mean, np.mean(x_sim, 1)]\n",
    "[cov, np.cov(x_sim)]"
   ],
   "metadata": {
    "collapsed": false,
    "pycharm": {
     "name": "#%%\n"
    }
   }
  },
  {
   "cell_type": "code",
   "execution_count": 5,
   "outputs": [
    {
     "ename": "OperationalError",
     "evalue": "no such table: asset_model_student_solutions",
     "output_type": "error",
     "traceback": [
      "\u001B[0;31m---------------------------------------------------------------------------\u001B[0m",
      "\u001B[0;31mOperationalError\u001B[0m                          Traceback (most recent call last)",
      "Input \u001B[0;32mIn [5]\u001B[0m, in \u001B[0;36m<cell line: 7>\u001B[0;34m()\u001B[0m\n\u001B[1;32m      3\u001B[0m \u001B[38;5;28;01mfrom\u001B[39;00m \u001B[38;5;21;01mdistributions\u001B[39;00m\u001B[38;5;21;01m.\u001B[39;00m\u001B[38;5;21;01mstudent_poisson_mixture\u001B[39;00m \u001B[38;5;28;01mimport\u001B[39;00m spm\n\u001B[1;32m      6\u001B[0m test_connection \u001B[38;5;241m=\u001B[39m create_connection(\u001B[38;5;124m'\u001B[39m\u001B[38;5;124mabacus_database.db\u001B[39m\u001B[38;5;124m'\u001B[39m)\n\u001B[0;32m----> 7\u001B[0m opt_sol \u001B[38;5;241m=\u001B[39m \u001B[43mselect_curr_solution\u001B[49m\u001B[43m(\u001B[49m\u001B[43mtest_connection\u001B[49m\u001B[43m,\u001B[49m\u001B[43m \u001B[49m\u001B[38;5;124;43m'\u001B[39;49m\u001B[38;5;124;43mHYG\u001B[39;49m\u001B[38;5;124;43m'\u001B[39;49m\u001B[43m)\u001B[49m\n\u001B[1;32m      9\u001B[0m \u001B[38;5;66;03m# Test running inverse CDF. ~ 5 seconds.\u001B[39;00m\n\u001B[1;32m     10\u001B[0m spm\u001B[38;5;241m.\u001B[39mppf(\u001B[38;5;241m0.5\u001B[39m, \u001B[38;5;241m0\u001B[39m, \u001B[38;5;241m1\u001B[39m, \u001B[38;5;241m10\u001B[39m, \u001B[38;5;241m0.15\u001B[39m, \u001B[38;5;241m4\u001B[39m)\n",
      "File \u001B[0;32m~/Desktop/Abacus/database/database_parser.py:69\u001B[0m, in \u001B[0;36mselect_curr_solution\u001B[0;34m(connection, asset)\u001B[0m\n\u001B[1;32m     58\u001B[0m \u001B[38;5;124;03m\"\"\"\u001B[39;00m\n\u001B[1;32m     59\u001B[0m \u001B[38;5;124;03mSelects a current solution for a Student's t Poisson mixture model. Note, this model is currently used for all\u001B[39;00m\n\u001B[1;32m     60\u001B[0m \u001B[38;5;124;03mETF:s in the database, regardless of the type of asset.\u001B[39;00m\n\u001B[0;32m   (...)\u001B[0m\n\u001B[1;32m     66\u001B[0m \u001B[38;5;124;03mReturns: list of initial parameters for the model.\u001B[39;00m\n\u001B[1;32m     67\u001B[0m \u001B[38;5;124;03m\"\"\"\u001B[39;00m\n\u001B[1;32m     68\u001B[0m cur \u001B[38;5;241m=\u001B[39m connection\u001B[38;5;241m.\u001B[39mcursor()\n\u001B[0;32m---> 69\u001B[0m \u001B[43mcur\u001B[49m\u001B[38;5;241;43m.\u001B[39;49m\u001B[43mexecute\u001B[49m\u001B[43m(\u001B[49m\u001B[38;5;124;43m\"\u001B[39;49m\u001B[38;5;124;43mSELECT * FROM asset_model_student_solutions WHERE ASSET = \u001B[39;49m\u001B[38;5;124;43m'\u001B[39;49m\u001B[38;5;132;43;01m%s\u001B[39;49;00m\u001B[38;5;124;43m'\u001B[39;49m\u001B[38;5;124;43m\"\u001B[39;49m\u001B[43m \u001B[49m\u001B[38;5;241;43m%\u001B[39;49m\u001B[43m \u001B[49m\u001B[43masset\u001B[49m\u001B[43m)\u001B[49m\n\u001B[1;32m     70\u001B[0m row \u001B[38;5;241m=\u001B[39m cur\u001B[38;5;241m.\u001B[39mfetchall()\n\u001B[1;32m     71\u001B[0m \u001B[38;5;28;01mreturn\u001B[39;00m row[\u001B[38;5;241m0\u001B[39m][\u001B[38;5;241m2\u001B[39m:]\n",
      "\u001B[0;31mOperationalError\u001B[0m: no such table: asset_model_student_solutions"
     ]
    }
   ],
   "source": [
    "from database.database_parser import create_connection\n",
    "from database.database_parser import select_curr_solution\n",
    "from distributions.student_poisson_mixture import spm\n",
    "\n",
    "\n",
    "test_connection = create_connection('abacus_database.db')\n",
    "opt_sol = select_curr_solution(test_connection, 'HYG')\n",
    "\n",
    "# Test running inverse CDF. ~ 5 seconds.\n",
    "spm.ppf(0.5, 0, 1, 10, 0.15, 4)"
   ],
   "metadata": {
    "collapsed": false,
    "pycharm": {
     "name": "#%%\n"
    }
   }
  },
  {
   "cell_type": "code",
   "execution_count": null,
   "outputs": [],
   "source": [],
   "metadata": {
    "collapsed": false,
    "pycharm": {
     "name": "#%%\n"
    }
   }
  }
 ],
 "metadata": {
  "kernelspec": {
   "display_name": "Python 3",
   "language": "python",
   "name": "python3"
  },
  "language_info": {
   "codemirror_mode": {
    "name": "ipython",
    "version": 2
   },
   "file_extension": ".py",
   "mimetype": "text/x-python",
   "name": "python",
   "nbconvert_exporter": "python",
   "pygments_lexer": "ipython2",
   "version": "2.7.6"
  }
 },
 "nbformat": 4,
 "nbformat_minor": 0
}