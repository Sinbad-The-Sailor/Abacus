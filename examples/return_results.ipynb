{
 "cells": [
  {
   "cell_type": "code",
   "execution_count": 32,
   "outputs": [],
   "source": [
    "import numpy as np\n",
    "import pandas as pd\n",
    "from matplotlib import pyplot as plt"
   ],
   "metadata": {
    "collapsed": false,
    "pycharm": {
     "name": "#%%\n"
    }
   }
  },
  {
   "cell_type": "markdown",
   "source": [
    "The returns for the European, Australian and Japanese assets must be adjusted for the currency returns in EUR, AUD, JPY."
   ],
   "metadata": {
    "collapsed": false,
    "pycharm": {
     "name": "#%% md\n"
    }
   }
  },
  {
   "cell_type": "code",
   "execution_count": 23,
   "metadata": {
    "collapsed": true,
    "pycharm": {
     "name": "#%%\n"
    }
   },
   "outputs": [],
   "source": [
    "# European assets\n",
    "# 1.  MSE\n",
    "# 2. IEAC\n",
    "eur_ret = pd.read_csv('../database/return_samples/EUR.txt')\n",
    "mse_ret = pd.read_csv('../database/return_samples/MSE.txt')\n",
    "ieac_ret = pd.read_csv('../database/return_samples/IEAC.txt')\n",
    "\n",
    "mse_ret = np.exp(mse_ret + eur_ret) - 1\n",
    "ieac_ret = np.exp(ieac_ret + eur_ret) - 1"
   ]
  },
  {
   "cell_type": "code",
   "execution_count": 24,
   "outputs": [],
   "source": [
    "# Australian assets\n",
    "# 1. VAX\n",
    "aud_ret = pd.read_csv('../database/return_samples/AUD.txt')\n",
    "vax_ret = pd.read_csv('../database/return_samples/VAS.txt')\n",
    "\n",
    "vax_ret = np.exp(vax_ret + aud_ret) - 1"
   ],
   "metadata": {
    "collapsed": false,
    "pycharm": {
     "name": "#%%\n"
    }
   }
  },
  {
   "cell_type": "code",
   "execution_count": 25,
   "outputs": [],
   "source": [
    "# Japanese assets\n",
    "# 1. 1321.T\n",
    "jpy_ret = pd.read_csv('../database/return_samples/JPY.txt')\n",
    "_1321_ret = pd.read_csv('../database/return_samples/1321.txt')\n",
    "\n",
    "_1321_ret = np.exp(_1321_ret + jpy_ret) - 1"
   ],
   "metadata": {
    "collapsed": false,
    "pycharm": {
     "name": "#%%\n"
    }
   }
  },
  {
   "cell_type": "code",
   "execution_count": 26,
   "outputs": [],
   "source": [
    "# American assets\n",
    "# 1. IVV\n",
    "# 2. LQD\n",
    "# 3. HYG\n",
    "# 4. GLD\n",
    "\n",
    "ivv_ret = np.exp(pd.read_csv('../database/return_samples/IVV.txt')) - 1\n",
    "lqd_ret = np.exp(pd.read_csv('../database/return_samples/LQD.txt')) - 1\n",
    "hyg_ret = np.exp(pd.read_csv('../database/return_samples/HYG.txt')) - 1\n",
    "gld_ret = np.exp(pd.read_csv('../database/return_samples/GLD.txt')) - 1"
   ],
   "metadata": {
    "collapsed": false,
    "pycharm": {
     "name": "#%%\n"
    }
   }
  },
  {
   "cell_type": "markdown",
   "source": [
    "The portfolio is equally weighted: $\\omega_i = \\frac{1}{n}$, with the adjusted portfolio returns we obtain the portfolio return by a simple inner product."
   ],
   "metadata": {
    "collapsed": false,
    "pycharm": {
     "name": "#%% md\n"
    }
   }
  },
  {
   "cell_type": "code",
   "execution_count": 33,
   "outputs": [
    {
     "data": {
      "text/plain": "<Figure size 432x288 with 1 Axes>",
      "image/png": "[encoded data removed]"
     },
     "metadata": {
      "needs_background": "light"
     },
     "output_type": "display_data"
    }
   ],
   "source": [
    "eq_weight  = 1/8\n",
    "port_ret = 1/8 * (ivv_ret + lqd_ret + hyg_ret + gld_ret + mse_ret + ieac_ret + vax_ret + _1321_ret)\n",
    "port_ret.hist()\n",
    "plt.show()"
   ],
   "metadata": {
    "collapsed": false,
    "pycharm": {
     "name": "#%%\n"
    }
   }
  },
  {
   "cell_type": "markdown",
   "source": [
    "Using the RiskUtils we can obtain a risk assessment of this portfolio."
   ],
   "metadata": {
    "collapsed": false,
    "pycharm": {
     "name": "#%% md\n"
    }
   }
  },
  {
   "cell_type": "code",
   "execution_count": 35,
   "outputs": [],
   "source": [
    "from risk_utils.risk_utils import RiskAssessor\n",
    "ra = RiskAssessor(np.array(port_ret))"
   ],
   "metadata": {
    "collapsed": false,
    "pycharm": {
     "name": "#%%\n"
    }
   }
  },
  {
   "cell_type": "code",
   "execution_count": 36,
   "outputs": [
    {
     "name": "stdout",
     "output_type": "stream",
     "text": [
      "======== RISK ASSESSMENT ========\n",
      "VaR95 0.29782313696598856,    ES95 0.35756726946156114\n",
      "VaR99 0.3229027628681832,     ES99 0.5201658395570046\n",
      "EVT VaR99 0.3787900573220511, EVT ES99 0.5231983506858939\n"
     ]
    },
    {
     "name": "stderr",
     "output_type": "stream",
     "text": [
      "/Users/axelnilsson/Desktop/Abacus/risk_utils/risk_utils.py:133: RuntimeWarning: invalid value encountered in log\n",
      "  return n_observations * np.log(params[1]) + (1 + 1 / params[0]) * log_likelihood\n",
      "/Users/axelnilsson/Desktop/Abacus/risk_utils/risk_utils.py:131: RuntimeWarning: invalid value encountered in log\n",
      "  log_likelihood = log_likelihood + np.log(1 + params[0] / params[1] * obs)\n"
     ]
    }
   ],
   "source": [
    "ra.risk_summary()"
   ],
   "metadata": {
    "collapsed": false,
    "pycharm": {
     "name": "#%%\n"
    }
   }
  },
  {
   "cell_type": "markdown",
   "source": [],
   "metadata": {
    "collapsed": false,
    "pycharm": {
     "name": "#%% md\n"
    }
   }
  }
 ],
 "metadata": {
  "kernelspec": {
   "display_name": "Python 3",
   "language": "python",
   "name": "python3"
  },
  "language_info": {
   "codemirror_mode": {
    "name": "ipython",
    "version": 2
   },
   "file_extension": ".py",
   "mimetype": "text/x-python",
   "name": "python",
   "nbconvert_exporter": "python",
   "pygments_lexer": "ipython2",
   "version": "2.7.6"
  }
 },
 "nbformat": 4,
 "nbformat_minor": 0
}