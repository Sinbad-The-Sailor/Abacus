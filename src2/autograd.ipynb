{
 "cells": [
  {
   "cell_type": "code",
   "execution_count": 1,
   "metadata": {},
   "outputs": [
    {
     "data": {
      "text/plain": [
       "      fun: 7.853014070348776e-12\n",
       " hess_inv: array([[3.25647007e-06, 8.62340464e-04],\n",
       "       [8.62340464e-04, 1.33859153e+01]])\n",
       "      jac: array([ 6.91154457e-06, -3.35558671e-08])\n",
       "  message: 'Optimization terminated successfully.'\n",
       "     nfev: 40\n",
       "      nit: 33\n",
       "     njev: 40\n",
       "   status: 0\n",
       "  success: True\n",
       "        x: array([ 3.00000012e-01, -1.58654298e-06])"
      ]
     },
     "execution_count": 1,
     "metadata": {},
     "output_type": "execute_result"
    }
   ],
   "source": [
    "import numpy\n",
    "import scipy, scipy.optimize\n",
    "import torch\n",
    "\n",
    "\n",
    "def minim(obs, f, p0):\n",
    "    \"\"\"Fit function f to observations \"obs\" starting at p0\"\"\"\n",
    "    \n",
    "    def fitfn(pars):\n",
    "        # NB the require_grad parameter specifying we want to\n",
    "        # differentiate wrt to the parameters\n",
    "        pars=torch.tensor(pars,\n",
    "                          requires_grad=True)\n",
    "        y=f(pars)\n",
    "        # Simple least-squares fitting\n",
    "        res=((obs-y)**2).sum()\n",
    "        res.backward()\n",
    "        # Note that gradient is taken from the \"pars\" variable\n",
    "        return res.data.cpu().numpy(), pars.grad.data.cpu().numpy()\n",
    "\n",
    "    res=scipy.optimize.minimize(fitfn,\n",
    "                                p0,\n",
    "                                method=\"BFGS\",\n",
    "                                jac=True) # NB: we will compute the jacobian\n",
    "    return res\n",
    "\n",
    "# Points on which observations are made\n",
    "\n",
    "\n",
    "def exfn(p):\n",
    "    y=torch.sin(p[0]*X)+torch.cos(p[1]*X)\n",
    "    return y\n",
    "\n",
    "# Sample observations\n",
    "yp=exfn(torch.tensor([0.3, 0]) )\n",
    "\n",
    "# Sample run\n",
    "minim(yp, exfn, numpy.array([0.34, 0.01]))"
   ]
  },
  {
   "cell_type": "code",
   "execution_count": 2,
   "metadata": {},
   "outputs": [],
   "source": [
    "def fitfn(pars):\n",
    "        # NB the require_grad parameter specifying we want to\n",
    "        # differentiate wrt to the parameters\n",
    "        pars=torch.tensor(pars,\n",
    "                          requires_grad=True)\n",
    "        X=torch.arange(100)\n",
    "        res=torch.sin(pars[0]*X)+torch.cos(pars[1]*X)\n",
    "        # Simple least-squares fitting\n",
    "        res=res.sum()\n",
    "        res.backward()\n",
    "        # Note that gradient is taken from the \"pars\" variable\n",
    "        return res.data.cpu().numpy(), pars.grad.data.cpu().numpy()"
   ]
  },
  {
   "cell_type": "code",
   "execution_count": null,
   "metadata": {},
   "outputs": [],
   "source": [
    "res=scipy.optimize.minimize(fitfn,\n",
    "                                numpy.array([0.34, 0.01]),\n",
    "                                method=\"BFGS\",\n",
    "                                jac=True) # NB: we will compute the jacobian"
   ]
  }
 ],
 "metadata": {
  "kernelspec": {
   "display_name": "venv",
   "language": "python",
   "name": "python3"
  },
  "language_info": {
   "codemirror_mode": {
    "name": "ipython",
    "version": 3
   },
   "file_extension": ".py",
   "mimetype": "text/x-python",
   "name": "python",
   "nbconvert_exporter": "python",
   "pygments_lexer": "ipython3",
   "version": "3.9.7"
  },
  "orig_nbformat": 4
 },
 "nbformat": 4,
 "nbformat_minor": 2
}
