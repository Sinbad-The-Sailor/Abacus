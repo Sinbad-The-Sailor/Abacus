{
 "cells": [
  {
   "cell_type": "code",
   "execution_count": 1,
   "metadata": {},
   "outputs": [],
   "source": [
    "import cvxpy as cp\n",
    "import numpy as np\n",
    "\n",
    "from abacus_simulator.forecaster import Forecaster\n",
    "from instruments.instruments import Equity"
   ]
  },
  {
   "cell_type": "code",
   "execution_count": 2,
   "metadata": {},
   "outputs": [],
   "source": [
    "# Create stocks\n",
    "start = \"2005-12-28\"\n",
    "end = \"2022-07-11\"\n",
    "interval = \"wk\"\n",
    "stock1 = Equity(\n",
    "    ric=\"XOM\", currency=\"USD\", start_date=start, end_date=end, interval=interval\n",
    ")\n",
    "stock2 = Equity(\n",
    "    ric=\"CVX\", currency=\"USD\", start_date=start, end_date=end, interval=interval\n",
    ")\n",
    "stock3 = Equity(\n",
    "    ric=\"^GSPC\", currency=\"USD\", start_date=start, end_date=end, interval=interval\n",
    ")\n",
    "stock4 = Equity(\n",
    "    ric=\"WFC\", currency=\"USD\", start_date=start, end_date=end, interval=interval\n",
    ")\n",
    "stock5 = Equity(\n",
    "    ric=\"MSFT\", currency=\"USD\", start_date=start, end_date=end, interval=interval\n",
    ")"
   ]
  },
  {
   "cell_type": "code",
   "execution_count": 3,
   "metadata": {},
   "outputs": [
    {
     "name": "stdout",
     "output_type": "stream",
     "text": [
      " [0.07966349 0.83541521 0.09930475] True\n",
      " [0.06109371 0.79387629 0.18175313] False\n",
      " [0.02161618 0.68328501 0.43294249] False\n",
      " [0.04267142 0.84278157 0.19959429] False\n",
      " [0.02231843 0.85344123 0.09842483] True\n"
     ]
    }
   ],
   "source": [
    "instruments = [stock1, stock2, stock3, stock4, stock5]\n",
    "forc = Forecaster(instruments=instruments, number_of_steps=5)\n",
    "forecasted_returns = forc.forecast_returns()"
   ]
  },
  {
   "cell_type": "code",
   "execution_count": 4,
   "metadata": {},
   "outputs": [
    {
     "name": "stdout",
     "output_type": "stream",
     "text": [
      "[ 0.17522024 -0.04226988  0.02684653 -0.03002656 -0.13309249]\n",
      "[ 0.09499433  0.13167483 -0.05028183 -0.1044066  -0.33538317]\n",
      "[ 0.01780704  0.08921025  0.01222081 -0.01708068 -0.19707606]\n",
      "[-0.32831414  0.07129041  0.16417404  0.13764769 -0.25271772]\n",
      "[ 0.03196275  0.01865388 -0.01087417 -0.06332288 -0.12466083]\n"
     ]
    }
   ],
   "source": [
    "for row in forecasted_returns:\n",
    "    print(row*100)"
   ]
  },
  {
   "cell_type": "code",
   "execution_count": 5,
   "metadata": {},
   "outputs": [
    {
     "data": {
      "text/plain": [
       "array([0., 0., 0., 0., 0.])"
      ]
     },
     "execution_count": 5,
     "metadata": {},
     "output_type": "execute_result"
    }
   ],
   "source": [
    "cash_returns = np.zeros(5)\n",
    "cash_returns"
   ]
  },
  {
   "cell_type": "code",
   "execution_count": 6,
   "metadata": {},
   "outputs": [],
   "source": [
    "forecasted_returns = np.vstack([cash_returns, forecasted_returns])"
   ]
  },
  {
   "cell_type": "code",
   "execution_count": 7,
   "metadata": {},
   "outputs": [
    {
     "name": "stdout",
     "output_type": "stream",
     "text": [
      "[0. 0. 0. 0. 0.]\n",
      "[ 0.18 -0.04  0.03 -0.03 -0.13]\n",
      "[ 0.09  0.13 -0.05 -0.1  -0.34]\n",
      "[ 0.02  0.09  0.01 -0.02 -0.2 ]\n",
      "[-0.33  0.07  0.16  0.14 -0.25]\n",
      "[ 0.03  0.02 -0.01 -0.06 -0.12]\n"
     ]
    }
   ],
   "source": [
    "for row in forecasted_returns:\n",
    "    print(np.round(row*100, 2))"
   ]
  },
  {
   "cell_type": "code",
   "execution_count": 8,
   "metadata": {},
   "outputs": [],
   "source": [
    "number_of_assets = 6\n",
    "number_of_steps = 5"
   ]
  },
  {
   "cell_type": "code",
   "execution_count": null,
   "metadata": {},
   "outputs": [],
   "source": []
  },
  {
   "cell_type": "code",
   "execution_count": 95,
   "metadata": {},
   "outputs": [],
   "source": [
    "Z = cp.Variable((number_of_assets, number_of_steps))\n",
    "W = cp.Variable((number_of_assets, number_of_steps-1))\n",
    "R = forecasted_returns\n",
    "ones = np.ones(number_of_assets)\n",
    "init_portfolio = np.array([1/6, 1/6, 1/6, 1/6, 1/6, 1/6])\n",
    "\n",
    "cost = 0\n",
    "constr = []\n",
    "\n",
    "# Building the objective function.\n",
    "for t in range(number_of_steps):\n",
    "    if t == 0:\n",
    "        cost += R[:,t].T @ Z[:,t]\n",
    "    else:\n",
    "        cost += R[:,t].T @ (W[:,t-1] + Z[:,t])\n",
    "\n",
    "# Bulding cost & constraints.\n",
    "for t in range(number_of_steps):    \n",
    "    if t == 0:\n",
    "        constr += [ones.T @ Z[:,t] == 0,\n",
    "                  Z[:,t] <= 1,\n",
    "                  W[:,t] == init_portfolio + Z[:,t],\n",
    "                  W[:,t] >= 0,\n",
    "                  W[:,t] <= 1]\n",
    "    else:\n",
    "        constr += [ones.T @ Z[:,t] == 0,\n",
    "                  Z[:,t] <= 1,\n",
    "                  ]\n",
    "        if t < number_of_steps-1:\n",
    "            constr += [W[:,t] == W[:,t-1] + Z[:,t],\n",
    "                       W[:,t] >= 0,\n",
    "                       W[:,t] <= 1]"
   ]
  },
  {
   "cell_type": "code",
   "execution_count": 96,
   "metadata": {},
   "outputs": [],
   "source": [
    "problem = cp.Problem(cp.Maximize(cost), constr)"
   ]
  },
  {
   "cell_type": "code",
   "execution_count": 97,
   "metadata": {},
   "outputs": [
    {
     "name": "stdout",
     "output_type": "stream",
     "text": [
      "===============================================================================\n",
      "                                     CVXPY                                     \n",
      "                                     v1.2.1                                    \n",
      "===============================================================================\n",
      "(CVXPY) Aug 21 09:09:51 PM: Your problem has 54 variables, 22 constraints, and 0 parameters.\n",
      "(CVXPY) Aug 21 09:09:51 PM: It is compliant with the following grammars: DCP, DQCP\n",
      "(CVXPY) Aug 21 09:09:51 PM: (If you need to solve this problem multiple times, but with different data, consider using parameters.)\n",
      "(CVXPY) Aug 21 09:09:51 PM: CVXPY will first compile your problem; then, it will invoke a numerical solver to obtain a solution.\n",
      "-------------------------------------------------------------------------------\n",
      "                                  Compilation                                  \n",
      "-------------------------------------------------------------------------------\n",
      "(CVXPY) Aug 21 09:09:51 PM: Compiling problem (target solver=ECOS).\n",
      "(CVXPY) Aug 21 09:09:51 PM: Reduction chain: FlipObjective -> Dcp2Cone -> CvxAttr2Constr -> ConeMatrixStuffing -> ECOS\n",
      "(CVXPY) Aug 21 09:09:51 PM: Applying reduction FlipObjective\n",
      "(CVXPY) Aug 21 09:09:51 PM: Applying reduction Dcp2Cone\n",
      "(CVXPY) Aug 21 09:09:51 PM: Applying reduction CvxAttr2Constr\n",
      "(CVXPY) Aug 21 09:09:51 PM: Applying reduction ConeMatrixStuffing\n",
      "(CVXPY) Aug 21 09:09:51 PM: Applying reduction ECOS\n",
      "(CVXPY) Aug 21 09:09:51 PM: Finished problem compilation (took 1.370e-02 seconds).\n",
      "-------------------------------------------------------------------------------\n",
      "                                Numerical solver                               \n",
      "-------------------------------------------------------------------------------\n",
      "(CVXPY) Aug 21 09:09:51 PM: Invoking solver ECOS  to obtain a solution.\n",
      "\n",
      "ECOS 2.0.10 - (C) embotech GmbH, Zurich Switzerland, 2012-15. Web: www.embotech.com/ECOS\n",
      "\n",
      "It     pcost       dcost      gap   pres   dres    k/t    mu     step   sigma     IR    |   BT\n",
      " 0  +1.182e-03  -5.409e+01  +5e+01  6e-03  6e-01  1e+00  7e-01    ---    ---    1  1  - |  -  - \n",
      "-------------------------------------------------------------------------------\n",
      "                                    Summary                                    \n",
      "-------------------------------------------------------------------------------\n",
      "(CVXPY) Aug 21 09:09:51 PM: Problem status: optimal\n",
      "(CVXPY) Aug 21 09:09:51 PM: Optimal value: 1.442e-02\n",
      " 1  +1.162e-03  -6.271e-01  +6e-01  7e-05  6e-02  1e-02  8e-03  0.9883  1e-04   0  0  0 |  0  0\n",
      " 2  -2.914e-04  -8.514e-02  +9e-02  9e-06  8e-03  2e-03  1e-03  0.8670  2e-03   0  0  0 |  0  0\n",
      " 3  -8.363e-03  -6.329e-02  +6e-02  4e-06  5e-03  9e-04  7e-04  0.5914  4e-01   0  0  0 |  0  0\n",
      " 4  -1.133e-02  -2.205e-02  +1e-02  8e-07  1e-03  2e-04  1e-04  0.8217  2e-02   0  0  0 |  0  0\n",
      " 5  -1.400e-02  -1.532e-02  +1e-03  9e-08  1e-04  2e-05  2e-05  0.9639  9e-02   0  0  0 |  0  0\n",
      " 6  -1.439e-02  -1.448e-02  +9e-05  6e-09  9e-06  1e-06  1e-06  0.9387  7e-03   1  0  0 |  0  0\n",
      " 7  -1.442e-02  -1.442e-02  +1e-06  7e-11  1e-07  1e-08  1e-08  0.9890  1e-04   1  0  0 |  0  0\n",
      " 8  -1.442e-02  -1.442e-02  +1e-08  8e-13  1e-09  2e-10  1e-10  0.9890  1e-04   1  0  0 |  0  0\n",
      " 9  -1.442e-02  -1.442e-02  +1e-10  9e-15  1e-11  2e-12  2e-12  0.9890  1e-04   1  0  0 |  0  0\n",
      "\n",
      "OPTIMAL (within feastol=1.2e-11, reltol=8.8e-09, abstol=1.3e-10).\n",
      "Runtime: 0.000221 seconds.\n",
      "\n",
      "(CVXPY) Aug 21 09:09:51 PM: Compilation took 1.370e-02 seconds\n",
      "(CVXPY) Aug 21 09:09:51 PM: Solver (including time spent in interface) took 3.672e-04 seconds\n"
     ]
    },
    {
     "data": {
      "text/plain": [
       "0.01441826164543238"
      ]
     },
     "execution_count": 97,
     "metadata": {},
     "output_type": "execute_result"
    }
   ],
   "source": [
    "problem.solve(verbose=True)"
   ]
  },
  {
   "cell_type": "code",
   "execution_count": 98,
   "metadata": {},
   "outputs": [
    {
     "name": "stdout",
     "output_type": "stream",
     "text": [
      "[[4.12247078e-10 5.61780342e-10 1.11360974e-09 9.99999995e-01]\n",
      " [9.99999998e-01 4.22997027e-10 8.36907667e-10 1.11495117e-09]\n",
      " [8.70589205e-10 9.99999982e-01 5.57736014e-10 3.37529160e-10]\n",
      " [2.33307886e-10 6.94528070e-09 6.33321213e-10 7.72734116e-10]\n",
      " [2.48847473e-10 9.50429166e-09 9.99999996e-01 1.51666122e-09]\n",
      " [2.88187843e-10 6.12301038e-10 7.16284170e-10 9.13407283e-10]]\n"
     ]
    }
   ],
   "source": [
    "print(W.value)"
   ]
  },
  {
   "cell_type": "code",
   "execution_count": 99,
   "metadata": {},
   "outputs": [
    {
     "name": "stdout",
     "output_type": "stream",
     "text": [
      "[[-1.66666666e-01  1.49528772e-10  5.51825019e-10  9.99999994e-01\n",
      "   1.00000000e+00]\n",
      " [ 8.33333331e-01 -9.99999998e-01  4.13906394e-10  2.78041140e-10\n",
      "   9.99999999e-01]\n",
      " [-1.66666666e-01  9.99999981e-01 -9.99999981e-01 -2.20209190e-10\n",
      "  -5.00000000e+00]\n",
      " [-1.66666666e-01  6.71196787e-09 -6.31196377e-09  1.39410537e-10\n",
      "   9.99999999e-01]\n",
      " [-1.66666666e-01  9.25543977e-09  9.99999987e-01 -9.99999995e-01\n",
      "   9.99999999e-01]\n",
      " [-1.66666666e-01  3.24108782e-10  1.03978772e-10  1.97120761e-10\n",
      "   9.99999999e-01]]\n"
     ]
    }
   ],
   "source": [
    "print(Z.value)"
   ]
  },
  {
   "cell_type": "code",
   "execution_count": 130,
   "metadata": {},
   "outputs": [
    {
     "name": "stdout",
     "output_type": "stream",
     "text": [
      "1.000000000000058\n",
      "1.0000000000000888\n",
      "1.0000000000001192\n",
      "1.0000000000001343\n"
     ]
    }
   ],
   "source": [
    "for i in range(number_of_steps-1):\n",
    "    print(np.sum(W.value[:,i]))"
   ]
  },
  {
   "cell_type": "code",
   "execution_count": null,
   "metadata": {},
   "outputs": [],
   "source": []
  },
  {
   "cell_type": "code",
   "execution_count": null,
   "metadata": {},
   "outputs": [],
   "source": [
    "def power_utility(x: float, gamma: float) -> float:\n",
    "    \"\"\"Constant RRA utility function. Optimal for investments (source Jorgen).\n",
    "\n",
    "    Args:\n",
    "        x (float): variable value\n",
    "        gamma (float): risk aversion parameter\n",
    "\n",
    "    Raises:\n",
    "        ValueError: if gamma is greater than 1.\n",
    "\n",
    "    Returns:\n",
    "        float: utility of x.\n",
    "    \"\"\"\n",
    "\n",
    "    if gamma > 1:\n",
    "        raise ValueError(\"Value of gamma is larger than 1.\")\n",
    "    if gamma != 0:\n",
    "        return x ** gamma / gamma\n",
    "    else:\n",
    "        return np.log(x)"
   ]
  },
  {
   "cell_type": "markdown",
   "metadata": {},
   "source": [
    "Without any constraints the portfolio simply invests eveything into the stock with the largest return."
   ]
  },
  {
   "cell_type": "code",
   "execution_count": 140,
   "metadata": {},
   "outputs": [
    {
     "data": {
      "image/png": "[encoded data removed]",
      "text/plain": [
       "<Figure size 432x288 with 4 Axes>"
      ]
     },
     "metadata": {},
     "output_type": "display_data"
    }
   ],
   "source": [
    "from matplotlib import pyplot as plt \n",
    "labels = 'cash', 'XOM', 'CVX', 'GSPC', 'WFC', 'MSFT'\n",
    "explode = (0, 0.1, 0, 0, 0, 0)  # only \"explode\" the 2nd slice (i.e. 'Hogs')\n",
    "period_one = W.value[:,0]\n",
    "period_two = W.value[:,1]\n",
    "period_thr = W.value[:,2]\n",
    "period_fou = W.value[:,3]\n",
    "\n",
    "fig, ax = plt.subplots(1, 4)\n",
    "ax[0].pie(period_one)\n",
    "ax[1].pie(period_two)\n",
    "ax[2].pie(period_thr)\n",
    "ax[3].pie(period_fou)\n",
    "\n",
    "fig.legend(labels, ncol=6)\n",
    "plt.show()\n"
   ]
  },
  {
   "cell_type": "markdown",
   "metadata": {},
   "source": [
    "Looking at the forecasts below we see why."
   ]
  },
  {
   "cell_type": "code",
   "execution_count": 141,
   "metadata": {},
   "outputs": [
    {
     "data": {
      "text/plain": [
       "array([[ 0.        ,  0.        ,  0.        ,  0.        ,  0.        ],\n",
       "       [ 0.0017522 , -0.0004227 ,  0.00026847, -0.00030027, -0.00133092],\n",
       "       [ 0.00094994,  0.00131675, -0.00050282, -0.00104407, -0.00335383],\n",
       "       [ 0.00017807,  0.0008921 ,  0.00012221, -0.00017081, -0.00197076],\n",
       "       [-0.00328314,  0.0007129 ,  0.00164174,  0.00137648, -0.00252718],\n",
       "       [ 0.00031963,  0.00018654, -0.00010874, -0.00063323, -0.00124661]])"
      ]
     },
     "execution_count": 141,
     "metadata": {},
     "output_type": "execute_result"
    }
   ],
   "source": [
    "forecasted_returns"
   ]
  },
  {
   "cell_type": "markdown",
   "metadata": {},
   "source": [
    "The objective function is maximized by investing the whole portfolio into "
   ]
  },
  {
   "cell_type": "code",
   "execution_count": null,
   "metadata": {},
   "outputs": [],
   "source": []
  },
  {
   "cell_type": "code",
   "execution_count": null,
   "metadata": {},
   "outputs": [],
   "source": []
  },
  {
   "cell_type": "markdown",
   "metadata": {},
   "source": [
    "Incorporating risk aversion"
   ]
  },
  {
   "cell_type": "code",
   "execution_count": 189,
   "metadata": {},
   "outputs": [],
   "source": [
    "Z = cp.Variable((number_of_assets, number_of_steps))\n",
    "W = cp.Variable((number_of_assets, number_of_steps-1))\n",
    "R = forecasted_returns\n",
    "ones = np.ones(number_of_assets)\n",
    "init_portfolio = np.array([1, 0, 0, 0, 0, 0])\n",
    "\n",
    "cost = 0\n",
    "constr = []\n",
    "\n",
    "# Building the objective function.\n",
    "for t in range(number_of_steps):\n",
    "    if t == 0:\n",
    "        cost += R[:,t].T @ Z[:,t]\n",
    "    else:\n",
    "        cost += R[:,t].T @ (W[:,t-1] + Z[:,t])\n",
    "cost = cp.power(cost, -2)/(-2)\n",
    "\n",
    "# Bulding cost & constraints.\n",
    "for t in range(number_of_steps):    \n",
    "    if t == 0:\n",
    "        constr += [ones.T @ Z[:,t] == 0,\n",
    "                  Z[:,t] <= 1,\n",
    "                  W[:,t] == init_portfolio + Z[:,t],\n",
    "                  W[:,t] >= 0,\n",
    "                  W[:,t] <= 1]\n",
    "    else:\n",
    "        constr += [ones.T @ Z[:,t] == 0,\n",
    "                  Z[:,t] <= 1,\n",
    "                  ]\n",
    "        if t < number_of_steps-1:\n",
    "            constr += [W[:,t] == W[:,t-1] + Z[:,t],\n",
    "                       W[:,t] >= 0,\n",
    "                       W[:,t] <= 1]\n",
    "\n",
    "                "
   ]
  },
  {
   "cell_type": "code",
   "execution_count": 190,
   "metadata": {},
   "outputs": [],
   "source": [
    "problem_risk_aversion = cp.Problem(cp.Maximize(cost), constr)"
   ]
  },
  {
   "cell_type": "code",
   "execution_count": 191,
   "metadata": {},
   "outputs": [
    {
     "name": "stdout",
     "output_type": "stream",
     "text": [
      "===============================================================================\n",
      "                                     CVXPY                                     \n",
      "                                     v1.2.1                                    \n",
      "===============================================================================\n",
      "(CVXPY) Aug 21 09:51:25 PM: Your problem has 54 variables, 22 constraints, and 0 parameters.\n",
      "(CVXPY) Aug 21 09:51:25 PM: It is compliant with the following grammars: DCP, DQCP\n",
      "(CVXPY) Aug 21 09:51:25 PM: (If you need to solve this problem multiple times, but with different data, consider using parameters.)\n",
      "(CVXPY) Aug 21 09:51:25 PM: CVXPY will first compile your problem; then, it will invoke a numerical solver to obtain a solution.\n",
      "-------------------------------------------------------------------------------\n",
      "                                  Compilation                                  \n",
      "-------------------------------------------------------------------------------\n",
      "(CVXPY) Aug 21 09:51:25 PM: Compiling problem (target solver=ECOS).\n",
      "(CVXPY) Aug 21 09:51:25 PM: Reduction chain: FlipObjective -> Dcp2Cone -> CvxAttr2Constr -> ConeMatrixStuffing -> ECOS\n",
      "(CVXPY) Aug 21 09:51:25 PM: Applying reduction FlipObjective\n",
      "(CVXPY) Aug 21 09:51:25 PM: Applying reduction Dcp2Cone\n",
      "(CVXPY) Aug 21 09:51:25 PM: Applying reduction CvxAttr2Constr\n",
      "(CVXPY) Aug 21 09:51:25 PM: Applying reduction ConeMatrixStuffing\n",
      "(CVXPY) Aug 21 09:51:25 PM: Applying reduction ECOS\n",
      "(CVXPY) Aug 21 09:51:25 PM: Finished problem compilation (took 1.632e-02 seconds).\n",
      "-------------------------------------------------------------------------------\n",
      "                                Numerical solver                               \n",
      "-------------------------------------------------------------------------------\n",
      "(CVXPY) Aug 21 09:51:25 PM: Invoking solver ECOS  to obtain a solution.\n",
      "\n",
      "ECOS 2.0.10 - (C) embotech GmbH, Zurich Switzerland, 2012-15. Web: www.embotech.com/ECOS\n",
      "\n",
      "It     pcost       dcost      gap   pres   dres    k/t    mu     step   sigma     IR    |   BT\n",
      " 0  +0.000e+00  -5.429e+01  +2e+02  6e-01  5e-01  1e+00  3e+00    ---    ---    1  1  - |  -  - \n",
      " 1  +8.022e-01  -1.947e+01  +2e+02  2e-01  2e-01  2e+00  2e+00  0.5071  4e-01   1  1  1 |  0  0\n",
      " 2  +1.509e+00  -1.072e+01  +1e+02  1e-01  7e-02  2e+00  1e+00  0.4397  3e-01   2  1  1 |  0  0\n",
      " 3  -8.198e-02  -2.239e+01  +1e+02  4e-01  8e-02  5e+00  1e+00  0.2359  9e-01   2  2  2 |  0  0\n",
      " 4  +4.593e+00  -8.757e+00  +8e+01  1e-01  4e-02  3e-02  1e+00  0.6671  6e-01   2  2  2 |  0  0\n",
      " 5  +1.172e+01  +1.957e+00  +3e+01  1e-01  1e-02  2e-01  4e-01  0.7645  1e-01   2  2  2 |  0  0\n",
      " 6  +1.987e+01  +1.409e+01  +1e+01  8e-02  7e-03  2e-01  2e-01  0.6940  2e-01   3  2  2 |  0  0\n",
      " 7  +5.629e+00  -1.827e+00  +9e+00  3e-01  1e-02  9e-01  1e-01  0.7209  6e-01   3  2  2 |  0  0\n",
      " 8  +1.717e+01  +1.111e+01  +9e+00  1e-01  7e-03  6e-01  1e-01  0.1283  9e-01   2  2  2 |  0  0\n",
      " 9  +3.653e+01  +3.351e+01  +3e+00  5e-02  4e-03  5e-01  4e-02  0.7699  2e-01   3  3  2 |  0  0\n",
      "10  +1.933e+01  +1.494e+01  +3e+00  2e-01  5e-03  2e+00  4e-02  0.5805  7e-01   2  2  2 |  0  0\n",
      "11  +4.616e+01  +4.460e+01  +1e+00  8e-02  3e-03  2e+00  1e-02  0.9890  4e-01   2  3  2 |  0  0\n",
      "12  +6.389e+01  +6.358e+01  +6e-01  8e-02  2e-03  2e+00  7e-03  0.6841  3e-01   3  2  2 |  0  0\n",
      "13  +1.460e+02  +1.465e+02  +2e-01  4e-02  1e-03  2e+00  3e-03  0.9283  3e-01   2  2  2 |  0  0\n",
      "14  +9.892e+01  +1.010e+02  +2e-01  7e-02  2e-03  4e+00  2e-03  0.5117  6e-01   3  3  3 |  0  0\n",
      "15  +1.238e+02  +1.268e+02  +1e-01  6e-02  2e-03  5e+00  2e-03  0.4243  4e-01   3  3  3 |  0  0\n",
      "16  +2.459e+02  +2.469e+02  +1e-01  3e-02  9e-04  2e+00  1e-03  0.7795  6e-01   2  2  2 |  0  0\n",
      "17  +1.307e+02  +1.365e+02  +6e-02  8e-02  1e-03  8e+00  8e-04  0.8073  6e-01   3  3  3 |  0  0\n",
      "18  +2.456e+02  +2.510e+02  +4e-02  4e-02  1e-03  7e+00  5e-04  0.7726  5e-01   2  2  2 |  0  0\n",
      "19  +2.734e+02  +2.816e+02  +3e-02  4e-02  9e-04  9e+00  3e-04  0.7087  5e-01   3  3  2 |  0  0\n",
      "20  +6.244e+02  +6.312e+02  +9e-03  2e-02  4e-04  7e+00  1e-04  0.9890  3e-01   3  2  2 |  0  0\n",
      "21  +4.574e+02  +4.712e+02  +8e-03  3e-02  6e-04  1e+01  9e-05  0.4917  6e-01   4  4  3 |  0  0\n",
      "22  +7.679e+02  +7.765e+02  +5e-03  2e-02  4e-04  9e+00  6e-05  0.9890  6e-01   4  3  3 |  0  0\n",
      "23  +9.882e+02  +1.003e+03  +2e-03  2e-02  3e-04  2e+01  2e-05  0.7444  2e-01   3  3  3 |  0  0\n",
      "24  +1.683e+03  +1.690e+03  +5e-04  5e-03  1e-04  7e+00  6e-06  0.8898  2e-01   4  3  3 |  0  0\n",
      "25  +1.713e+03  +1.725e+03  +3e-04  6e-03  1e-04  1e+01  4e-06  0.6256  5e-01   4  2  2 |  0  0\n",
      "26  +2.293e+03  +2.296e+03  +3e-05  8e-04  1e-05  2e+00  4e-07  0.9890  1e-01   4  2  2 |  0  0\n",
      "27  +2.396e+03  +2.396e+03  +3e-06  8e-05  2e-06  3e-01  4e-08  0.9253  3e-02   3  2  2 |  0  0\n",
      "28  +2.409e+03  +2.409e+03  +2e-07  5e-06  9e-08  2e-02  2e-09  0.9679  3e-02   3  2  2 |  0  0\n",
      "29  +2.410e+03  +2.410e+03  +1e-08  3e-07  5e-09  8e-04  1e-10  0.9498  2e-04   3  2  2 |  0  0\n",
      "30  +2.410e+03  +2.410e+03  +6e-10  2e-07  2e-09  6e-05  8e-12  0.9890  5e-02   2  2  2 |  0  0\n",
      "31  +2.410e+03  +2.410e+03  +8e-12  1e-07  1e-11  7e-07  1e-13  0.9879  1e-04   2  1  2 |  0  0\n",
      "32  +2.410e+03  +2.410e+03  +9e-14  5e-05  6e-12  8e-09  1e-15  0.9890  1e-04   0  1  1 |  0  0\n",
      "33  +1.497e+02  +1.497e+02  -3e+10  2e+02  1e-03  -7e-09  -3e+08  0.0000  1e+00   0  0  0 |  0  0\n",
      "Unreliable search direction detected, recovering best iterate (31) and stopping.\n",
      "\n",
      "Close to OPTIMAL (within feastol=1.3e-07, reltol=3.2e-15, abstol=7.7e-12).\n",
      "Runtime: 0.001306 seconds.\n",
      "\n",
      "-------------------------------------------------------------------------------\n",
      "                                    Summary                                    \n",
      "-------------------------------------------------------------------------------\n",
      "(CVXPY) Aug 21 09:51:25 PM: Problem status: optimal_inaccurate\n",
      "(CVXPY) Aug 21 09:51:25 PM: Optimal value: -2.410e+03\n",
      "(CVXPY) Aug 21 09:51:25 PM: Compilation took 1.632e-02 seconds\n",
      "(CVXPY) Aug 21 09:51:25 PM: Solver (including time spent in interface) took 1.480e-03 seconds\n"
     ]
    },
    {
     "name": "stderr",
     "output_type": "stream",
     "text": [
      "/Users/axelnilsson/Desktop/Abacus/venv/lib/python3.9/site-packages/cvxpy/problems/problem.py:1337: UserWarning: Solution may be inaccurate. Try another solver, adjusting the solver settings, or solve with verbose=True for more information.\n",
      "  warnings.warn(\n"
     ]
    },
    {
     "data": {
      "text/plain": [
       "-2409.799699355677"
      ]
     },
     "execution_count": 191,
     "metadata": {},
     "output_type": "execute_result"
    }
   ],
   "source": [
    "problem_risk_aversion.solve(verbose=True)"
   ]
  },
  {
   "cell_type": "code",
   "execution_count": 192,
   "metadata": {},
   "outputs": [
    {
     "name": "stdout",
     "output_type": "stream",
     "text": [
      "[[1.33089461e-09 1.65289107e-09 1.87691124e-09 9.99999993e-01]\n",
      " [9.99999989e-01 1.15055459e-09 1.97222868e-09 1.67802074e-09]\n",
      " [5.98292382e-09 9.99999980e-01 1.01782628e-09 3.73118625e-10]\n",
      " [1.56165562e-09 8.48847557e-09 1.69171967e-09 1.10354873e-09]\n",
      " [2.68625955e-10 7.22583103e-09 9.99999992e-01 3.03041156e-09]\n",
      " [1.79744410e-09 2.01336347e-09 1.37252359e-09 1.34482172e-09]]\n"
     ]
    }
   ],
   "source": [
    "print(W.value)"
   ]
  },
  {
   "cell_type": "code",
   "execution_count": null,
   "metadata": {},
   "outputs": [],
   "source": []
  }
 ],
 "metadata": {
  "kernelspec": {
   "display_name": "Python 3.9.7 ('venv': venv)",
   "language": "python",
   "name": "python3"
  },
  "language_info": {
   "codemirror_mode": {
    "name": "ipython",
    "version": 3
   },
   "file_extension": ".py",
   "mimetype": "text/x-python",
   "name": "python",
   "nbconvert_exporter": "python",
   "pygments_lexer": "ipython3",
   "version": "3.9.7"
  },
  "orig_nbformat": 4,
  "vscode": {
   "interpreter": {
    "hash": "3a2f4b4f10cd87b6ae29d601e10e672c9ceebc9e62357307c33f1963c2cf5df2"
   }
  }
 },
 "nbformat": 4,
 "nbformat_minor": 2
}
