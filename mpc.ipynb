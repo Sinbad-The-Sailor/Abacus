{
 "cells": [
  {
   "cell_type": "code",
   "execution_count": 1,
   "metadata": {},
   "outputs": [],
   "source": [
    "import cvxpy as cp\n",
    "import numpy as np\n",
    "\n",
    "from abacus_simulator.forecaster import Forecaster\n",
    "from instruments.instruments import Equity"
   ]
  },
  {
   "cell_type": "code",
   "execution_count": 2,
   "metadata": {},
   "outputs": [],
   "source": [
    "# Create stocks\n",
    "start = \"2005-12-28\"\n",
    "end = \"2022-07-11\"\n",
    "interval = \"wk\"\n",
    "stock1 = Equity(\n",
    "    ric=\"XOM\", currency=\"USD\", start_date=start, end_date=end, interval=interval\n",
    ")\n",
    "stock2 = Equity(\n",
    "    ric=\"CVX\", currency=\"USD\", start_date=start, end_date=end, interval=interval\n",
    ")\n",
    "stock3 = Equity(\n",
    "    ric=\"^GSPC\", currency=\"USD\", start_date=start, end_date=end, interval=interval\n",
    ")\n",
    "stock4 = Equity(\n",
    "    ric=\"WFC\", currency=\"USD\", start_date=start, end_date=end, interval=interval\n",
    ")\n",
    "stock5 = Equity(\n",
    "    ric=\"MSFT\", currency=\"USD\", start_date=start, end_date=end, interval=interval\n",
    ")"
   ]
  },
  {
   "cell_type": "code",
   "execution_count": 3,
   "metadata": {},
   "outputs": [
    {
     "name": "stdout",
     "output_type": "stream",
     "text": [
      " [0.07966349 0.83541521 0.09930475] True\n",
      " [0.06109371 0.79387629 0.18175313] False\n",
      " [0.02161618 0.68328501 0.43294249] False\n",
      " [0.04267142 0.84278157 0.19959429] False\n",
      " [0.02231843 0.85344123 0.09842483] True\n"
     ]
    }
   ],
   "source": [
    "instruments = [stock1, stock2, stock3, stock4, stock5]\n",
    "forc = Forecaster(instruments=instruments, number_of_steps=5)\n",
    "forecasted_returns = forc.forecast_returns()"
   ]
  },
  {
   "cell_type": "code",
   "execution_count": 4,
   "metadata": {},
   "outputs": [
    {
     "name": "stdout",
     "output_type": "stream",
     "text": [
      "[ 0.17522024 -0.04226988  0.02684653 -0.03002656 -0.13309249]\n",
      "[ 0.09499433  0.13167483 -0.05028183 -0.1044066  -0.33538317]\n",
      "[ 0.01780704  0.08921025  0.01222081 -0.01708068 -0.19707606]\n",
      "[-0.32831414  0.07129041  0.16417404  0.13764769 -0.25271772]\n",
      "[ 0.03196275  0.01865388 -0.01087417 -0.06332288 -0.12466083]\n"
     ]
    }
   ],
   "source": [
    "for row in forecasted_returns:\n",
    "    print(row*100)"
   ]
  },
  {
   "cell_type": "code",
   "execution_count": 5,
   "metadata": {},
   "outputs": [
    {
     "data": {
      "text/plain": [
       "array([0., 0., 0., 0., 0.])"
      ]
     },
     "execution_count": 5,
     "metadata": {},
     "output_type": "execute_result"
    }
   ],
   "source": [
    "cash_returns = np.zeros(5)\n",
    "cash_returns"
   ]
  },
  {
   "cell_type": "code",
   "execution_count": 6,
   "metadata": {},
   "outputs": [],
   "source": [
    "forecasted_returns = np.vstack([cash_returns, forecasted_returns])"
   ]
  },
  {
   "cell_type": "code",
   "execution_count": 7,
   "metadata": {},
   "outputs": [
    {
     "name": "stdout",
     "output_type": "stream",
     "text": [
      "[0. 0. 0. 0. 0.]\n",
      "[ 0.18 -0.04  0.03 -0.03 -0.13]\n",
      "[ 0.09  0.13 -0.05 -0.1  -0.34]\n",
      "[ 0.02  0.09  0.01 -0.02 -0.2 ]\n",
      "[-0.33  0.07  0.16  0.14 -0.25]\n",
      "[ 0.03  0.02 -0.01 -0.06 -0.12]\n"
     ]
    }
   ],
   "source": [
    "for row in forecasted_returns:\n",
    "    print(np.round(row*100, 2))"
   ]
  },
  {
   "cell_type": "code",
   "execution_count": 8,
   "metadata": {},
   "outputs": [],
   "source": [
    "number_of_assets = 6\n",
    "number_of_steps = 5"
   ]
  },
  {
   "cell_type": "code",
   "execution_count": 14,
   "metadata": {},
   "outputs": [],
   "source": [
    "Z = cp.Variable((number_of_assets, number_of_steps))\n",
    "\n",
    "R = forecasted_returns\n",
    "ones = np.ones(number_of_assets)\n",
    "init_portfolio = np.array([1, 0, 0, 0, 0, 0])\n",
    "\n",
    "cost = 0\n",
    "constr = []\n",
    "\n",
    "for t in range(number_of_steps):\n",
    "    cost += R[:,t].T @ Z[:,t]\n",
    "    constr += [Z[:,t] <= 1, Z[:,t] >= 0]\n"
   ]
  },
  {
   "cell_type": "code",
   "execution_count": 15,
   "metadata": {},
   "outputs": [],
   "source": [
    "problem = cp.Problem(cp.Maximize(cost), constr)"
   ]
  },
  {
   "cell_type": "code",
   "execution_count": 16,
   "metadata": {},
   "outputs": [
    {
     "name": "stdout",
     "output_type": "stream",
     "text": [
      "===============================================================================\n",
      "                                     CVXPY                                     \n",
      "                                     v1.2.1                                    \n",
      "===============================================================================\n",
      "(CVXPY) Aug 21 04:22:30 PM: Your problem has 30 variables, 10 constraints, and 0 parameters.\n",
      "(CVXPY) Aug 21 04:22:30 PM: It is compliant with the following grammars: DCP, DQCP\n",
      "(CVXPY) Aug 21 04:22:30 PM: (If you need to solve this problem multiple times, but with different data, consider using parameters.)\n",
      "(CVXPY) Aug 21 04:22:30 PM: CVXPY will first compile your problem; then, it will invoke a numerical solver to obtain a solution.\n",
      "-------------------------------------------------------------------------------\n",
      "                                  Compilation                                  \n",
      "-------------------------------------------------------------------------------\n",
      "(CVXPY) Aug 21 04:22:30 PM: Compiling problem (target solver=ECOS).\n",
      "(CVXPY) Aug 21 04:22:30 PM: Reduction chain: FlipObjective -> Dcp2Cone -> CvxAttr2Constr -> ConeMatrixStuffing -> ECOS\n",
      "(CVXPY) Aug 21 04:22:30 PM: Applying reduction FlipObjective\n",
      "(CVXPY) Aug 21 04:22:30 PM: Applying reduction Dcp2Cone\n",
      "(CVXPY) Aug 21 04:22:30 PM: Applying reduction CvxAttr2Constr\n",
      "(CVXPY) Aug 21 04:22:30 PM: Applying reduction ConeMatrixStuffing\n",
      "(CVXPY) Aug 21 04:22:30 PM: Applying reduction ECOS\n",
      "(CVXPY) Aug 21 04:22:30 PM: Finished problem compilation (took 1.082e-02 seconds).\n",
      "-------------------------------------------------------------------------------\n",
      "                                Numerical solver                               \n",
      "-------------------------------------------------------------------------------\n",
      "(CVXPY) Aug 21 04:22:30 PM: Invoking solver ECOS  to obtain a solution.\n",
      "\n",
      "ECOS 2.0.10 - (C) embotech GmbH, Zurich Switzerland, 2012-15. Web: www.embotech.com/ECOS\n",
      "\n",
      "It     pcost       dcost      gap   pres   dres    k/t    mu     step   sigma     IR    |   BT\n",
      "-------------------------------------------------------------------------------\n",
      "                                    Summary                                    \n",
      "-------------------------------------------------------------------------------\n",
      "(CVXPY) Aug 21 04:22:30 PM: Problem status: optimal\n",
      "(CVXPY) Aug 21 04:22:30 PM: Optimal value: 9.717e-03\n",
      " 0  +3.589e-03  -3.005e+01  +3e+01  6e-03  3e-11  1e+00  5e-01    ---    ---    1  1  - |  -  - \n",
      " 1  +3.564e-03  -3.409e-01  +4e-01  7e-05  3e-09  1e-02  6e-03  0.9884  1e-04   0  0  0 |  0  0\n",
      " 2  +1.669e-03  -3.856e-02  +4e-02  9e-06  2e-08  1e-03  7e-04  0.8850  2e-03   0  0  0 |  0  0\n",
      " 3  -6.702e-03  -1.240e-02  +6e-03  1e-06  9e-08  2e-04  1e-04  0.9013  5e-02   0  0  0 |  0  0\n",
      " 4  -9.276e-03  -1.008e-02  +8e-04  1e-07  8e-08  2e-05  1e-05  0.8870  3e-02   0  0  0 |  0  0\n",
      " 5  -9.709e-03  -9.727e-03  +2e-05  3e-09  3e-08  4e-07  3e-07  0.9890  1e-02   0  0  0 |  0  0\n",
      " 6  -9.717e-03  -9.717e-03  +2e-07  4e-11  7e-10  4e-09  4e-09  0.9890  1e-04   0  0  0 |  0  0\n",
      " 7  -9.717e-03  -9.717e-03  +2e-09  4e-13  1e-11  5e-11  4e-11  0.9890  1e-04   1  0  0 |  0  0\n",
      "\n",
      "OPTIMAL (within feastol=1.0e-11, reltol=2.5e-07, abstol=2.4e-09).\n",
      "Runtime: 0.000097 seconds.\n",
      "\n",
      "(CVXPY) Aug 21 04:22:30 PM: Compilation took 1.082e-02 seconds\n",
      "(CVXPY) Aug 21 04:22:30 PM: Solver (including time spent in interface) took 3.269e-04 seconds\n"
     ]
    },
    {
     "data": {
      "text/plain": [
       "0.00971702693688958"
      ]
     },
     "execution_count": 16,
     "metadata": {},
     "output_type": "execute_result"
    }
   ],
   "source": [
    "problem.solve(verbose=True)"
   ]
  },
  {
   "cell_type": "code",
   "execution_count": 17,
   "metadata": {},
   "outputs": [
    {
     "name": "stdout",
     "output_type": "stream",
     "text": [
      "[[5.00005629e-01 5.00005629e-01 5.00005629e-01 5.00005629e-01\n",
      "  5.00005629e-01]\n",
      " [9.99999978e-01 8.75522753e-08 9.99999861e-01 1.21112798e-07\n",
      "  3.33891061e-08]\n",
      " [9.99999949e-01 9.99999966e-01 8.03892422e-08 4.60525991e-08\n",
      "  1.20483603e-08]\n",
      " [9.99999783e-01 9.99999945e-01 9.99999683e-01 2.26207066e-07\n",
      "  1.80216062e-08]\n",
      " [1.20464812e-08 9.99999933e-01 9.99999976e-01 9.99999968e-01\n",
      "  1.32203010e-08]\n",
      " [9.99999888e-01 9.99999793e-01 3.15909839e-07 7.23060930e-08\n",
      "  3.66203584e-08]]\n"
     ]
    }
   ],
   "source": [
    "print(Z.value)"
   ]
  },
  {
   "cell_type": "code",
   "execution_count": null,
   "metadata": {},
   "outputs": [],
   "source": []
  },
  {
   "cell_type": "code",
   "execution_count": null,
   "metadata": {},
   "outputs": [],
   "source": []
  },
  {
   "cell_type": "code",
   "execution_count": null,
   "metadata": {},
   "outputs": [],
   "source": []
  },
  {
   "cell_type": "code",
   "execution_count": 13,
   "metadata": {},
   "outputs": [],
   "source": [
    "def power_utility(x: float, gamma: float) -> float:\n",
    "    \"\"\"Constant RRA utility function. Optimal for investments (source Jorgen).\n",
    "\n",
    "    Args:\n",
    "        x (float): variable value\n",
    "        gamma (float): risk aversion parameter\n",
    "\n",
    "    Raises:\n",
    "        ValueError: if gamma is greater than 1.\n",
    "\n",
    "    Returns:\n",
    "        float: utility of x.\n",
    "    \"\"\"\n",
    "\n",
    "    if gamma > 1:\n",
    "        raise ValueError(\"Value of gamma is larger than 1.\")\n",
    "    if gamma != 0:\n",
    "        return x ** gamma / gamma\n",
    "    else:\n",
    "        return np.log(x)"
   ]
  },
  {
   "cell_type": "code",
   "execution_count": null,
   "metadata": {},
   "outputs": [],
   "source": []
  }
 ],
 "metadata": {
  "kernelspec": {
   "display_name": "Python 3.9.7 ('venv': venv)",
   "language": "python",
   "name": "python3"
  },
  "language_info": {
   "codemirror_mode": {
    "name": "ipython",
    "version": 3
   },
   "file_extension": ".py",
   "mimetype": "text/x-python",
   "name": "python",
   "nbconvert_exporter": "python",
   "pygments_lexer": "ipython3",
   "version": "3.9.7"
  },
  "orig_nbformat": 4,
  "vscode": {
   "interpreter": {
    "hash": "3a2f4b4f10cd87b6ae29d601e10e672c9ceebc9e62357307c33f1963c2cf5df2"
   }
  }
 },
 "nbformat": 4,
 "nbformat_minor": 2
}
